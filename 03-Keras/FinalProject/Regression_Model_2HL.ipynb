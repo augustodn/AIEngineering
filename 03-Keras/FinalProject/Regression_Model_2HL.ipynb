{
 "cells": [
  {
   "cell_type": "markdown",
   "metadata": {},
   "source": [
    "Import required libraries and packages."
   ]
  },
  {
   "cell_type": "code",
   "execution_count": 1,
   "metadata": {},
   "outputs": [
    {
     "name": "stdout",
     "output_type": "stream",
     "text": [
      "INFO:tensorflow:Enabling eager execution\n",
      "INFO:tensorflow:Enabling v2 tensorshape\n",
      "INFO:tensorflow:Enabling resource variables\n",
      "INFO:tensorflow:Enabling tensor equality\n",
      "INFO:tensorflow:Enabling control flow v2\n"
     ]
    }
   ],
   "source": [
    "import pandas as pd\n",
    "import numpy as np\n",
    "import keras\n",
    "from keras.models import Sequential\n",
    "from keras.layers import Dense\n",
    "from sklearn.model_selection import train_test_split\n",
    "from sklearn.metrics import mean_squared_error"
   ]
  },
  {
   "cell_type": "markdown",
   "metadata": {},
   "source": [
    "Import the data."
   ]
  },
  {
   "cell_type": "code",
   "execution_count": 2,
   "metadata": {},
   "outputs": [
    {
     "data": {
      "text/html": [
       "<div>\n",
       "<style scoped>\n",
       "    .dataframe tbody tr th:only-of-type {\n",
       "        vertical-align: middle;\n",
       "    }\n",
       "\n",
       "    .dataframe tbody tr th {\n",
       "        vertical-align: top;\n",
       "    }\n",
       "\n",
       "    .dataframe thead th {\n",
       "        text-align: right;\n",
       "    }\n",
       "</style>\n",
       "<table border=\"1\" class=\"dataframe\">\n",
       "  <thead>\n",
       "    <tr style=\"text-align: right;\">\n",
       "      <th></th>\n",
       "      <th>Cement</th>\n",
       "      <th>Blast Furnace Slag</th>\n",
       "      <th>Fly Ash</th>\n",
       "      <th>Water</th>\n",
       "      <th>Superplasticizer</th>\n",
       "      <th>Coarse Aggregate</th>\n",
       "      <th>Fine Aggregate</th>\n",
       "      <th>Age</th>\n",
       "      <th>Strength</th>\n",
       "    </tr>\n",
       "  </thead>\n",
       "  <tbody>\n",
       "    <tr>\n",
       "      <th>0</th>\n",
       "      <td>540.0</td>\n",
       "      <td>0.0</td>\n",
       "      <td>0.0</td>\n",
       "      <td>162.0</td>\n",
       "      <td>2.5</td>\n",
       "      <td>1040.0</td>\n",
       "      <td>676.0</td>\n",
       "      <td>28</td>\n",
       "      <td>79.99</td>\n",
       "    </tr>\n",
       "    <tr>\n",
       "      <th>1</th>\n",
       "      <td>540.0</td>\n",
       "      <td>0.0</td>\n",
       "      <td>0.0</td>\n",
       "      <td>162.0</td>\n",
       "      <td>2.5</td>\n",
       "      <td>1055.0</td>\n",
       "      <td>676.0</td>\n",
       "      <td>28</td>\n",
       "      <td>61.89</td>\n",
       "    </tr>\n",
       "    <tr>\n",
       "      <th>2</th>\n",
       "      <td>332.5</td>\n",
       "      <td>142.5</td>\n",
       "      <td>0.0</td>\n",
       "      <td>228.0</td>\n",
       "      <td>0.0</td>\n",
       "      <td>932.0</td>\n",
       "      <td>594.0</td>\n",
       "      <td>270</td>\n",
       "      <td>40.27</td>\n",
       "    </tr>\n",
       "    <tr>\n",
       "      <th>3</th>\n",
       "      <td>332.5</td>\n",
       "      <td>142.5</td>\n",
       "      <td>0.0</td>\n",
       "      <td>228.0</td>\n",
       "      <td>0.0</td>\n",
       "      <td>932.0</td>\n",
       "      <td>594.0</td>\n",
       "      <td>365</td>\n",
       "      <td>41.05</td>\n",
       "    </tr>\n",
       "    <tr>\n",
       "      <th>4</th>\n",
       "      <td>198.6</td>\n",
       "      <td>132.4</td>\n",
       "      <td>0.0</td>\n",
       "      <td>192.0</td>\n",
       "      <td>0.0</td>\n",
       "      <td>978.4</td>\n",
       "      <td>825.5</td>\n",
       "      <td>360</td>\n",
       "      <td>44.30</td>\n",
       "    </tr>\n",
       "  </tbody>\n",
       "</table>\n",
       "</div>"
      ],
      "text/plain": [
       "   Cement  Blast Furnace Slag  Fly Ash  Water  Superplasticizer  \\\n",
       "0   540.0                 0.0      0.0  162.0               2.5   \n",
       "1   540.0                 0.0      0.0  162.0               2.5   \n",
       "2   332.5               142.5      0.0  228.0               0.0   \n",
       "3   332.5               142.5      0.0  228.0               0.0   \n",
       "4   198.6               132.4      0.0  192.0               0.0   \n",
       "\n",
       "   Coarse Aggregate  Fine Aggregate  Age  Strength  \n",
       "0            1040.0           676.0   28     79.99  \n",
       "1            1055.0           676.0   28     61.89  \n",
       "2             932.0           594.0  270     40.27  \n",
       "3             932.0           594.0  365     41.05  \n",
       "4             978.4           825.5  360     44.30  "
      ]
     },
     "execution_count": 2,
     "metadata": {},
     "output_type": "execute_result"
    }
   ],
   "source": [
    "concrete_data = pd.read_csv('https://cocl.us/concrete_data')\n",
    "concrete_data.head()"
   ]
  },
  {
   "cell_type": "code",
   "execution_count": 3,
   "metadata": {},
   "outputs": [
    {
     "data": {
      "text/plain": [
       "(1030, 9)"
      ]
     },
     "execution_count": 3,
     "metadata": {},
     "output_type": "execute_result"
    }
   ],
   "source": [
    "# data dimensions\n",
    "concrete_data.shape"
   ]
  },
  {
   "cell_type": "markdown",
   "metadata": {},
   "source": [
    "Normalize the input data. Split the data into a train and test set. Reserve 30% of the data for test."
   ]
  },
  {
   "cell_type": "code",
   "execution_count": 4,
   "metadata": {},
   "outputs": [],
   "source": [
    "X = concrete_data.drop(['Strength'], axis=1) # all columns except Strength\n",
    "X_norm = (X - X.mean()) / X.std()\n",
    "y = concrete_data['Strength'] # Strength column\n",
    "X_train, X_test, y_train, y_test = train_test_split(X_norm, y, test_size=0.3)"
   ]
  },
  {
   "cell_type": "markdown",
   "metadata": {},
   "source": [
    "Create and fit the regression model."
   ]
  },
  {
   "cell_type": "code",
   "execution_count": 5,
   "metadata": {},
   "outputs": [],
   "source": [
    "n_cols = X.shape[1]\n",
    "# define regression model\n",
    "def regression_model():\n",
    "    # create model\n",
    "    model = Sequential()\n",
    "    model.add(Dense(10, activation='relu', input_shape=(n_cols,)))\n",
    "    model.add(Dense(10, activation='relu'))\n",
    "    model.add(Dense(10, activation='relu'))\n",
    "    model.add(Dense(1))\n",
    "    \n",
    "    # compile model\n",
    "    model.compile(optimizer='adam', loss='mean_squared_error')\n",
    "    return model\n",
    "\n",
    "# build the model\n",
    "model = regression_model()"
   ]
  },
  {
   "cell_type": "code",
   "execution_count": 6,
   "metadata": {},
   "outputs": [
    {
     "name": "stdout",
     "output_type": "stream",
     "text": [
      "WARNING:tensorflow:AutoGraph could not transform <bound method Dense.call of <keras.layers.core.Dense object at 0x7f32f0cf0190>> and will run it as-is.\n",
      "Please report this to the TensorFlow team. When filing the bug, set the verbosity to 10 (on Linux, `export AUTOGRAPH_VERBOSITY=10`) and attach the full output.\n",
      "Cause: invalid syntax (tmpq_7di1gm.py, line 48)\n",
      "To silence this warning, decorate the function with @tf.autograph.experimental.do_not_convert\n",
      "WARNING: AutoGraph could not transform <bound method Dense.call of <keras.layers.core.Dense object at 0x7f32f0cf0190>> and will run it as-is.\n",
      "Please report this to the TensorFlow team. When filing the bug, set the verbosity to 10 (on Linux, `export AUTOGRAPH_VERBOSITY=10`) and attach the full output.\n",
      "Cause: invalid syntax (tmpq_7di1gm.py, line 48)\n",
      "To silence this warning, decorate the function with @tf.autograph.experimental.do_not_convert\n"
     ]
    },
    {
     "data": {
      "text/plain": [
       "<keras.callbacks.History at 0x7f32f0342af0>"
      ]
     },
     "execution_count": 6,
     "metadata": {},
     "output_type": "execute_result"
    }
   ],
   "source": [
    "# fit the model\n",
    "model.fit(X_train, y_train, epochs=50, verbose=0)"
   ]
  },
  {
   "cell_type": "markdown",
   "metadata": {},
   "source": [
    "Evaluate the model for the MSE."
   ]
  },
  {
   "cell_type": "code",
   "execution_count": 7,
   "metadata": {},
   "outputs": [
    {
     "name": "stdout",
     "output_type": "stream",
     "text": [
      "10/10 [==============================] - 0s 769us/step - loss: 130.6667\n"
     ]
    },
    {
     "data": {
      "text/plain": [
       "130.6666717529297"
      ]
     },
     "execution_count": 7,
     "metadata": {},
     "output_type": "execute_result"
    }
   ],
   "source": [
    "# find the MSE\n",
    "MSE = model.evaluate(X_test, y_test)\n",
    "MSE"
   ]
  },
  {
   "cell_type": "markdown",
   "metadata": {},
   "source": [
    "Run the model through a loop."
   ]
  },
  {
   "cell_type": "code",
   "execution_count": 8,
   "metadata": {},
   "outputs": [
    {
     "name": "stdout",
     "output_type": "stream",
     "text": [
      "1/50\n",
      "10/10 [==============================] - 0s 1ms/step - loss: 691.8395\n",
      "2/50\n",
      "10/10 [==============================] - 0s 736us/step - loss: 231.8849\n",
      "3/50\n",
      "10/10 [==============================] - 0s 722us/step - loss: 243.0459\n",
      "4/50\n",
      "10/10 [==============================] - 0s 898us/step - loss: 250.7524\n",
      "5/50\n",
      "10/10 [==============================] - 0s 633us/step - loss: 224.7965\n",
      "6/50\n",
      "10/10 [==============================] - 0s 797us/step - loss: 217.8270\n",
      "7/50\n",
      "10/10 [==============================] - 0s 766us/step - loss: 223.9408\n",
      "8/50\n",
      "10/10 [==============================] - 0s 714us/step - loss: 202.9686\n",
      "9/50\n",
      "10/10 [==============================] - 0s 828us/step - loss: 167.9293\n",
      "10/50\n",
      "10/10 [==============================] - 0s 606us/step - loss: 141.5842\n",
      "11/50\n",
      "10/10 [==============================] - 0s 836us/step - loss: 86.8175\n",
      "12/50\n",
      "10/10 [==============================] - 0s 857us/step - loss: 90.5426\n",
      "13/50\n",
      "10/10 [==============================] - 0s 903us/step - loss: 87.2807\n",
      "14/50\n",
      "10/10 [==============================] - 0s 749us/step - loss: 92.4374\n",
      "15/50\n",
      "10/10 [==============================] - 0s 671us/step - loss: 96.1513\n",
      "16/50\n",
      "10/10 [==============================] - 0s 821us/step - loss: 95.2123\n",
      "17/50\n",
      "10/10 [==============================] - 0s 695us/step - loss: 82.8500\n",
      "18/50\n",
      "10/10 [==============================] - 0s 743us/step - loss: 77.4583\n",
      "19/50\n",
      "10/10 [==============================] - 0s 643us/step - loss: 66.3276\n",
      "20/50\n",
      "10/10 [==============================] - 0s 956us/step - loss: 67.2831\n",
      "21/50\n",
      "10/10 [==============================] - 0s 817us/step - loss: 81.4872\n",
      "22/50\n",
      "10/10 [==============================] - 0s 611us/step - loss: 94.1975\n",
      "23/50\n",
      "10/10 [==============================] - 0s 763us/step - loss: 64.1849\n",
      "24/50\n",
      "10/10 [==============================] - 0s 692us/step - loss: 53.4449\n",
      "25/50\n",
      "10/10 [==============================] - 0s 750us/step - loss: 52.8709\n",
      "26/50\n",
      "10/10 [==============================] - 0s 726us/step - loss: 52.4117\n",
      "27/50\n",
      "10/10 [==============================] - 0s 615us/step - loss: 51.4483\n",
      "28/50\n",
      "10/10 [==============================] - 0s 743us/step - loss: 46.6960\n",
      "29/50\n",
      "10/10 [==============================] - 0s 750us/step - loss: 53.7393\n",
      "30/50\n",
      "10/10 [==============================] - 0s 715us/step - loss: 50.9363\n",
      "31/50\n",
      "10/10 [==============================] - 0s 764us/step - loss: 46.7962\n",
      "32/50\n",
      "10/10 [==============================] - 0s 877us/step - loss: 48.5679\n",
      "33/50\n",
      "10/10 [==============================] - 0s 679us/step - loss: 45.2782\n",
      "34/50\n",
      "10/10 [==============================] - 0s 784us/step - loss: 42.2731\n",
      "35/50\n",
      "10/10 [==============================] - 0s 660us/step - loss: 57.2235\n",
      "36/50\n",
      "10/10 [==============================] - 0s 703us/step - loss: 45.7899\n",
      "37/50\n",
      "10/10 [==============================] - 0s 700us/step - loss: 44.3356\n",
      "38/50\n",
      "10/10 [==============================] - 0s 702us/step - loss: 44.7483\n",
      "39/50\n",
      "10/10 [==============================] - 0s 638us/step - loss: 42.1033\n",
      "40/50\n",
      "10/10 [==============================] - 0s 1ms/step - loss: 43.0368\n",
      "41/50\n",
      "10/10 [==============================] - 0s 658us/step - loss: 37.2033\n",
      "42/50\n",
      "10/10 [==============================] - 0s 856us/step - loss: 40.0617\n",
      "43/50\n",
      "10/10 [==============================] - 0s 933us/step - loss: 47.8724\n",
      "44/50\n",
      "10/10 [==============================] - 0s 712us/step - loss: 39.0917\n",
      "45/50\n",
      "10/10 [==============================] - 0s 635us/step - loss: 40.0618\n",
      "46/50\n",
      "10/10 [==============================] - 0s 647us/step - loss: 48.3350\n",
      "47/50\n",
      "10/10 [==============================] - 0s 690us/step - loss: 45.6014\n",
      "48/50\n",
      "10/10 [==============================] - 0s 615us/step - loss: 43.7387\n",
      "49/50\n",
      "10/10 [==============================] - 0s 786us/step - loss: 45.4372\n",
      "50/50\n",
      "10/10 [==============================] - 0s 624us/step - loss: 44.7290\n"
     ]
    }
   ],
   "source": [
    "# initialize the MSE list\n",
    "MSE_lst = [0] * 50\n",
    "# loop 50 times\n",
    "for i in range(50):\n",
    "    # split test and train data\n",
    "    X_train, X_test, y_train, y_test = train_test_split(X, y, test_size=0.3)\n",
    "    # fit model\n",
    "    print('{}/50'.format(i+1))\n",
    "    model.fit(X_train, y_train, epochs=50, verbose=0)\n",
    "    # evaluate model\n",
    "    MSE_lst[i] = model.evaluate(X_test, y_test)"
   ]
  },
  {
   "cell_type": "markdown",
   "metadata": {},
   "source": [
    "Find the mean and standard deviation of the mean squared errors."
   ]
  },
  {
   "cell_type": "code",
   "execution_count": 9,
   "metadata": {},
   "outputs": [
    {
     "name": "stdout",
     "output_type": "stream",
     "text": [
      "mean: 98.6526318359375\n",
      "std: 105.43392497225825\n"
     ]
    }
   ],
   "source": [
    "mean = np.mean(MSE_lst)\n",
    "std = np.std(MSE_lst)\n",
    "print('mean: {}'.format(mean))\n",
    "print('std: {}'.format(std))"
   ]
  },
  {
   "cell_type": "markdown",
   "metadata": {},
   "source": [
    "How does the mean of the mean squared errors compare to that of a model of only 1 hidden layer?\n",
    "\n",
    "The mean is much lower than before."
   ]
  },
  {
   "cell_type": "code",
   "execution_count": null,
   "metadata": {},
   "outputs": [],
   "source": []
  }
 ],
 "metadata": {
  "kernelspec": {
   "display_name": "Python 3",
   "language": "python",
   "name": "python3"
  },
  "language_info": {
   "codemirror_mode": {
    "name": "ipython",
    "version": 3
   },
   "file_extension": ".py",
   "mimetype": "text/x-python",
   "name": "python",
   "nbconvert_exporter": "python",
   "pygments_lexer": "ipython3",
   "version": "3.9.4"
  }
 },
 "nbformat": 4,
 "nbformat_minor": 4
}
