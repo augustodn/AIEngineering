{
 "cells": [
  {
   "cell_type": "markdown",
   "metadata": {},
   "source": [
    "Import required libraries and packages."
   ]
  },
  {
   "cell_type": "code",
   "execution_count": 1,
   "metadata": {},
   "outputs": [
    {
     "name": "stdout",
     "output_type": "stream",
     "text": [
      "INFO:tensorflow:Enabling eager execution\n",
      "INFO:tensorflow:Enabling v2 tensorshape\n",
      "INFO:tensorflow:Enabling resource variables\n",
      "INFO:tensorflow:Enabling tensor equality\n",
      "INFO:tensorflow:Enabling control flow v2\n"
     ]
    }
   ],
   "source": [
    "import pandas as pd\n",
    "import numpy as np\n",
    "import keras\n",
    "from keras.models import Sequential\n",
    "from keras.layers import Dense\n",
    "from sklearn.model_selection import train_test_split\n",
    "from sklearn.metrics import mean_squared_error"
   ]
  },
  {
   "cell_type": "markdown",
   "metadata": {},
   "source": [
    "Import the data."
   ]
  },
  {
   "cell_type": "code",
   "execution_count": 2,
   "metadata": {},
   "outputs": [
    {
     "data": {
      "text/html": [
       "<div>\n",
       "<style scoped>\n",
       "    .dataframe tbody tr th:only-of-type {\n",
       "        vertical-align: middle;\n",
       "    }\n",
       "\n",
       "    .dataframe tbody tr th {\n",
       "        vertical-align: top;\n",
       "    }\n",
       "\n",
       "    .dataframe thead th {\n",
       "        text-align: right;\n",
       "    }\n",
       "</style>\n",
       "<table border=\"1\" class=\"dataframe\">\n",
       "  <thead>\n",
       "    <tr style=\"text-align: right;\">\n",
       "      <th></th>\n",
       "      <th>Cement</th>\n",
       "      <th>Blast Furnace Slag</th>\n",
       "      <th>Fly Ash</th>\n",
       "      <th>Water</th>\n",
       "      <th>Superplasticizer</th>\n",
       "      <th>Coarse Aggregate</th>\n",
       "      <th>Fine Aggregate</th>\n",
       "      <th>Age</th>\n",
       "      <th>Strength</th>\n",
       "    </tr>\n",
       "  </thead>\n",
       "  <tbody>\n",
       "    <tr>\n",
       "      <th>0</th>\n",
       "      <td>540.0</td>\n",
       "      <td>0.0</td>\n",
       "      <td>0.0</td>\n",
       "      <td>162.0</td>\n",
       "      <td>2.5</td>\n",
       "      <td>1040.0</td>\n",
       "      <td>676.0</td>\n",
       "      <td>28</td>\n",
       "      <td>79.99</td>\n",
       "    </tr>\n",
       "    <tr>\n",
       "      <th>1</th>\n",
       "      <td>540.0</td>\n",
       "      <td>0.0</td>\n",
       "      <td>0.0</td>\n",
       "      <td>162.0</td>\n",
       "      <td>2.5</td>\n",
       "      <td>1055.0</td>\n",
       "      <td>676.0</td>\n",
       "      <td>28</td>\n",
       "      <td>61.89</td>\n",
       "    </tr>\n",
       "    <tr>\n",
       "      <th>2</th>\n",
       "      <td>332.5</td>\n",
       "      <td>142.5</td>\n",
       "      <td>0.0</td>\n",
       "      <td>228.0</td>\n",
       "      <td>0.0</td>\n",
       "      <td>932.0</td>\n",
       "      <td>594.0</td>\n",
       "      <td>270</td>\n",
       "      <td>40.27</td>\n",
       "    </tr>\n",
       "    <tr>\n",
       "      <th>3</th>\n",
       "      <td>332.5</td>\n",
       "      <td>142.5</td>\n",
       "      <td>0.0</td>\n",
       "      <td>228.0</td>\n",
       "      <td>0.0</td>\n",
       "      <td>932.0</td>\n",
       "      <td>594.0</td>\n",
       "      <td>365</td>\n",
       "      <td>41.05</td>\n",
       "    </tr>\n",
       "    <tr>\n",
       "      <th>4</th>\n",
       "      <td>198.6</td>\n",
       "      <td>132.4</td>\n",
       "      <td>0.0</td>\n",
       "      <td>192.0</td>\n",
       "      <td>0.0</td>\n",
       "      <td>978.4</td>\n",
       "      <td>825.5</td>\n",
       "      <td>360</td>\n",
       "      <td>44.30</td>\n",
       "    </tr>\n",
       "  </tbody>\n",
       "</table>\n",
       "</div>"
      ],
      "text/plain": [
       "   Cement  Blast Furnace Slag  Fly Ash  Water  Superplasticizer  \\\n",
       "0   540.0                 0.0      0.0  162.0               2.5   \n",
       "1   540.0                 0.0      0.0  162.0               2.5   \n",
       "2   332.5               142.5      0.0  228.0               0.0   \n",
       "3   332.5               142.5      0.0  228.0               0.0   \n",
       "4   198.6               132.4      0.0  192.0               0.0   \n",
       "\n",
       "   Coarse Aggregate  Fine Aggregate  Age  Strength  \n",
       "0            1040.0           676.0   28     79.99  \n",
       "1            1055.0           676.0   28     61.89  \n",
       "2             932.0           594.0  270     40.27  \n",
       "3             932.0           594.0  365     41.05  \n",
       "4             978.4           825.5  360     44.30  "
      ]
     },
     "execution_count": 2,
     "metadata": {},
     "output_type": "execute_result"
    }
   ],
   "source": [
    "concrete_data = pd.read_csv('https://cocl.us/concrete_data')\n",
    "concrete_data.head()"
   ]
  },
  {
   "cell_type": "code",
   "execution_count": 3,
   "metadata": {},
   "outputs": [
    {
     "data": {
      "text/plain": [
       "(1030, 9)"
      ]
     },
     "execution_count": 3,
     "metadata": {},
     "output_type": "execute_result"
    }
   ],
   "source": [
    "# data dimensions\n",
    "concrete_data.shape"
   ]
  },
  {
   "cell_type": "markdown",
   "metadata": {},
   "source": [
    "Normalize the input data. Split the data into a train and test set. Reserve 30% of the data for test."
   ]
  },
  {
   "cell_type": "code",
   "execution_count": 4,
   "metadata": {},
   "outputs": [],
   "source": [
    "X = concrete_data.drop(['Strength'], axis=1) # all columns except Strength\n",
    "X_norm = (X - X.mean()) / X.std()\n",
    "y = concrete_data['Strength'] # Strength column\n",
    "X_train, X_test, y_train, y_test = train_test_split(X_norm, y, test_size=0.3)"
   ]
  },
  {
   "cell_type": "markdown",
   "metadata": {},
   "source": [
    "Create and fit the regression model."
   ]
  },
  {
   "cell_type": "code",
   "execution_count": 5,
   "metadata": {},
   "outputs": [],
   "source": [
    "n_cols = X.shape[1]\n",
    "# define regression model\n",
    "def regression_model():\n",
    "    # create model\n",
    "    model = Sequential()\n",
    "    model.add(Dense(10, activation='relu', input_shape=(n_cols,)))\n",
    "    model.add(Dense(1))\n",
    "    \n",
    "    # compile model\n",
    "    model.compile(optimizer='adam', loss='mean_squared_error')\n",
    "    return model\n",
    "\n",
    "# build the model\n",
    "model = regression_model()"
   ]
  },
  {
   "cell_type": "code",
   "execution_count": 6,
   "metadata": {},
   "outputs": [
    {
     "name": "stdout",
     "output_type": "stream",
     "text": [
      "Epoch 1/100\n",
      "WARNING:tensorflow:AutoGraph could not transform <bound method Dense.call of <keras.layers.core.Dense object at 0x7f6c12a34460>> and will run it as-is.\n",
      "Please report this to the TensorFlow team. When filing the bug, set the verbosity to 10 (on Linux, `export AUTOGRAPH_VERBOSITY=10`) and attach the full output.\n",
      "Cause: invalid syntax (tmp4_c2m679.py, line 48)\n",
      "To silence this warning, decorate the function with @tf.autograph.experimental.do_not_convert\n",
      "WARNING: AutoGraph could not transform <bound method Dense.call of <keras.layers.core.Dense object at 0x7f6c12a34460>> and will run it as-is.\n",
      "Please report this to the TensorFlow team. When filing the bug, set the verbosity to 10 (on Linux, `export AUTOGRAPH_VERBOSITY=10`) and attach the full output.\n",
      "Cause: invalid syntax (tmp4_c2m679.py, line 48)\n",
      "To silence this warning, decorate the function with @tf.autograph.experimental.do_not_convert\n",
      "23/23 - 8s - loss: 1563.2748\n",
      "Epoch 2/100\n",
      "23/23 - 0s - loss: 1544.1498\n",
      "Epoch 3/100\n",
      "23/23 - 0s - loss: 1525.5029\n",
      "Epoch 4/100\n",
      "23/23 - 0s - loss: 1507.2322\n",
      "Epoch 5/100\n",
      "23/23 - 0s - loss: 1488.8672\n",
      "Epoch 6/100\n",
      "23/23 - 0s - loss: 1470.7219\n",
      "Epoch 7/100\n",
      "23/23 - 0s - loss: 1452.0851\n",
      "Epoch 8/100\n",
      "23/23 - 0s - loss: 1433.3564\n",
      "Epoch 9/100\n",
      "23/23 - 0s - loss: 1414.0527\n",
      "Epoch 10/100\n",
      "23/23 - 0s - loss: 1394.2441\n",
      "Epoch 11/100\n",
      "23/23 - 0s - loss: 1374.1470\n",
      "Epoch 12/100\n",
      "23/23 - 0s - loss: 1353.2866\n",
      "Epoch 13/100\n",
      "23/23 - 0s - loss: 1332.0474\n",
      "Epoch 14/100\n",
      "23/23 - 0s - loss: 1309.8260\n",
      "Epoch 15/100\n",
      "23/23 - 0s - loss: 1287.0618\n",
      "Epoch 16/100\n",
      "23/23 - 0s - loss: 1263.4277\n",
      "Epoch 17/100\n",
      "23/23 - 0s - loss: 1238.5508\n",
      "Epoch 18/100\n",
      "23/23 - 0s - loss: 1212.8020\n",
      "Epoch 19/100\n",
      "23/23 - 0s - loss: 1185.9431\n",
      "Epoch 20/100\n",
      "23/23 - 0s - loss: 1158.0853\n",
      "Epoch 21/100\n",
      "23/23 - 0s - loss: 1129.1870\n",
      "Epoch 22/100\n",
      "23/23 - 0s - loss: 1099.4980\n",
      "Epoch 23/100\n",
      "23/23 - 0s - loss: 1068.9980\n",
      "Epoch 24/100\n",
      "23/23 - 0s - loss: 1037.9661\n",
      "Epoch 25/100\n",
      "23/23 - 0s - loss: 1005.8750\n",
      "Epoch 26/100\n",
      "23/23 - 0s - loss: 974.0491\n",
      "Epoch 27/100\n",
      "23/23 - 0s - loss: 941.3440\n",
      "Epoch 28/100\n",
      "23/23 - 0s - loss: 908.9177\n",
      "Epoch 29/100\n",
      "23/23 - 0s - loss: 876.6209\n",
      "Epoch 30/100\n",
      "23/23 - 0s - loss: 844.3969\n",
      "Epoch 31/100\n",
      "23/23 - 0s - loss: 812.3336\n",
      "Epoch 32/100\n",
      "23/23 - 0s - loss: 781.1016\n",
      "Epoch 33/100\n",
      "23/23 - 0s - loss: 749.9865\n",
      "Epoch 34/100\n",
      "23/23 - 0s - loss: 719.9808\n",
      "Epoch 35/100\n",
      "23/23 - 0s - loss: 690.5858\n",
      "Epoch 36/100\n",
      "23/23 - 0s - loss: 661.9381\n",
      "Epoch 37/100\n",
      "23/23 - 0s - loss: 634.2794\n",
      "Epoch 38/100\n",
      "23/23 - 0s - loss: 607.7317\n",
      "Epoch 39/100\n",
      "23/23 - 0s - loss: 581.9706\n",
      "Epoch 40/100\n",
      "23/23 - 0s - loss: 557.6706\n",
      "Epoch 41/100\n",
      "23/23 - 0s - loss: 534.2026\n",
      "Epoch 42/100\n",
      "23/23 - 0s - loss: 511.8971\n",
      "Epoch 43/100\n",
      "23/23 - 0s - loss: 490.6159\n",
      "Epoch 44/100\n",
      "23/23 - 0s - loss: 470.4250\n",
      "Epoch 45/100\n",
      "23/23 - 0s - loss: 452.0422\n",
      "Epoch 46/100\n",
      "23/23 - 0s - loss: 433.9461\n",
      "Epoch 47/100\n",
      "23/23 - 0s - loss: 417.5506\n",
      "Epoch 48/100\n",
      "23/23 - 0s - loss: 402.0972\n",
      "Epoch 49/100\n",
      "23/23 - 0s - loss: 387.6184\n",
      "Epoch 50/100\n",
      "23/23 - 0s - loss: 374.1481\n",
      "Epoch 51/100\n",
      "23/23 - 0s - loss: 361.7058\n",
      "Epoch 52/100\n",
      "23/23 - 0s - loss: 349.9485\n",
      "Epoch 53/100\n",
      "23/23 - 0s - loss: 339.6795\n",
      "Epoch 54/100\n",
      "23/23 - 0s - loss: 329.5005\n",
      "Epoch 55/100\n",
      "23/23 - 0s - loss: 320.3947\n",
      "Epoch 56/100\n",
      "23/23 - 0s - loss: 312.1366\n",
      "Epoch 57/100\n",
      "23/23 - 0s - loss: 304.2572\n",
      "Epoch 58/100\n",
      "23/23 - 0s - loss: 296.8409\n",
      "Epoch 59/100\n",
      "23/23 - 0s - loss: 290.0464\n",
      "Epoch 60/100\n",
      "23/23 - 0s - loss: 284.0354\n",
      "Epoch 61/100\n",
      "23/23 - 0s - loss: 278.0462\n",
      "Epoch 62/100\n",
      "23/23 - 0s - loss: 272.5628\n",
      "Epoch 63/100\n",
      "23/23 - 0s - loss: 267.6022\n",
      "Epoch 64/100\n",
      "23/23 - 0s - loss: 262.7378\n",
      "Epoch 65/100\n",
      "23/23 - 0s - loss: 258.3242\n",
      "Epoch 66/100\n",
      "23/23 - 0s - loss: 254.0984\n",
      "Epoch 67/100\n",
      "23/23 - 0s - loss: 250.1637\n",
      "Epoch 68/100\n",
      "23/23 - 0s - loss: 246.6759\n",
      "Epoch 69/100\n",
      "23/23 - 0s - loss: 243.0421\n",
      "Epoch 70/100\n",
      "23/23 - 0s - loss: 239.6942\n",
      "Epoch 71/100\n",
      "23/23 - 0s - loss: 236.1846\n",
      "Epoch 72/100\n",
      "23/23 - 0s - loss: 233.1026\n",
      "Epoch 73/100\n",
      "23/23 - 0s - loss: 230.0468\n",
      "Epoch 74/100\n",
      "23/23 - 0s - loss: 227.1832\n",
      "Epoch 75/100\n",
      "23/23 - 0s - loss: 224.4316\n",
      "Epoch 76/100\n",
      "23/23 - 0s - loss: 221.5755\n",
      "Epoch 77/100\n",
      "23/23 - 0s - loss: 219.1443\n",
      "Epoch 78/100\n",
      "23/23 - 0s - loss: 216.4625\n",
      "Epoch 79/100\n",
      "23/23 - 0s - loss: 213.9985\n",
      "Epoch 80/100\n",
      "23/23 - 0s - loss: 211.6118\n",
      "Epoch 81/100\n",
      "23/23 - 0s - loss: 209.2226\n",
      "Epoch 82/100\n",
      "23/23 - 0s - loss: 206.8679\n",
      "Epoch 83/100\n",
      "23/23 - 0s - loss: 204.5733\n",
      "Epoch 84/100\n",
      "23/23 - 0s - loss: 202.3024\n",
      "Epoch 85/100\n",
      "23/23 - 0s - loss: 200.0193\n",
      "Epoch 86/100\n",
      "23/23 - 0s - loss: 197.8242\n",
      "Epoch 87/100\n",
      "23/23 - 0s - loss: 195.7348\n",
      "Epoch 88/100\n",
      "23/23 - 0s - loss: 193.6622\n",
      "Epoch 89/100\n",
      "23/23 - 0s - loss: 191.5573\n",
      "Epoch 90/100\n",
      "23/23 - 0s - loss: 189.4708\n",
      "Epoch 91/100\n",
      "23/23 - 0s - loss: 187.5080\n",
      "Epoch 92/100\n",
      "23/23 - 0s - loss: 185.5313\n",
      "Epoch 93/100\n",
      "23/23 - 0s - loss: 183.5890\n",
      "Epoch 94/100\n",
      "23/23 - 0s - loss: 181.7582\n",
      "Epoch 95/100\n",
      "23/23 - 0s - loss: 179.8612\n",
      "Epoch 96/100\n",
      "23/23 - 0s - loss: 178.0559\n",
      "Epoch 97/100\n",
      "23/23 - 0s - loss: 176.3335\n",
      "Epoch 98/100\n",
      "23/23 - 0s - loss: 174.5439\n",
      "Epoch 99/100\n",
      "23/23 - 0s - loss: 172.8760\n",
      "Epoch 100/100\n",
      "23/23 - 0s - loss: 171.2001\n"
     ]
    },
    {
     "data": {
      "text/plain": [
       "<keras.callbacks.History at 0x7f6c100a0730>"
      ]
     },
     "execution_count": 6,
     "metadata": {},
     "output_type": "execute_result"
    }
   ],
   "source": [
    "# fit the model\n",
    "model.fit(X_train, y_train, epochs=100, verbose=2)"
   ]
  },
  {
   "cell_type": "markdown",
   "metadata": {},
   "source": [
    "Evaluate the model for the MSE."
   ]
  },
  {
   "cell_type": "code",
   "execution_count": 7,
   "metadata": {},
   "outputs": [
    {
     "name": "stdout",
     "output_type": "stream",
     "text": [
      "10/10 [==============================] - 0s 1ms/step - loss: 167.8897\n"
     ]
    },
    {
     "data": {
      "text/plain": [
       "167.88970947265625"
      ]
     },
     "execution_count": 7,
     "metadata": {},
     "output_type": "execute_result"
    }
   ],
   "source": [
    "# find the MSE\n",
    "MSE = model.evaluate(X_test, y_test)\n",
    "MSE"
   ]
  },
  {
   "cell_type": "markdown",
   "metadata": {},
   "source": [
    "Run the model through a loop."
   ]
  },
  {
   "cell_type": "code",
   "execution_count": 8,
   "metadata": {},
   "outputs": [
    {
     "name": "stdout",
     "output_type": "stream",
     "text": [
      "1/50\n",
      "10/10 [==============================] - 0s 892us/step - loss: 9123.7637\n",
      "2/50\n",
      "10/10 [==============================] - 0s 722us/step - loss: 1462.3682\n",
      "3/50\n",
      "10/10 [==============================] - 0s 753us/step - loss: 247.0687\n",
      "4/50\n",
      "10/10 [==============================] - 0s 887us/step - loss: 157.0765\n",
      "5/50\n",
      "10/10 [==============================] - 0s 763us/step - loss: 127.2152\n",
      "6/50\n",
      "10/10 [==============================] - 0s 642us/step - loss: 144.8554\n",
      "7/50\n",
      "10/10 [==============================] - 0s 810us/step - loss: 99.2637\n",
      "8/50\n",
      "10/10 [==============================] - 0s 1ms/step - loss: 123.2298\n",
      "9/50\n",
      "10/10 [==============================] - 0s 650us/step - loss: 109.0629\n",
      "10/50\n",
      "10/10 [==============================] - 0s 659us/step - loss: 111.5321\n",
      "11/50\n",
      "10/10 [==============================] - 0s 641us/step - loss: 124.4852\n",
      "12/50\n",
      "10/10 [==============================] - 0s 1ms/step - loss: 129.7437\n",
      "13/50\n",
      "10/10 [==============================] - 0s 643us/step - loss: 107.9608\n",
      "14/50\n",
      "10/10 [==============================] - 0s 653us/step - loss: 126.5696\n",
      "15/50\n",
      "10/10 [==============================] - 0s 657us/step - loss: 133.2254\n",
      "16/50\n",
      "10/10 [==============================] - 0s 839us/step - loss: 146.1086\n",
      "17/50\n",
      "10/10 [==============================] - 0s 1ms/step - loss: 150.2932\n",
      "18/50\n",
      "10/10 [==============================] - 0s 2ms/step - loss: 105.1592\n",
      "19/50\n",
      "10/10 [==============================] - 0s 788us/step - loss: 123.4550\n",
      "20/50\n",
      "10/10 [==============================] - 0s 641us/step - loss: 123.0932\n",
      "21/50\n",
      "10/10 [==============================] - 0s 828us/step - loss: 119.2156\n",
      "22/50\n",
      "10/10 [==============================] - 0s 616us/step - loss: 108.5724\n",
      "23/50\n",
      "10/10 [==============================] - 0s 657us/step - loss: 108.6333\n",
      "24/50\n",
      "10/10 [==============================] - 0s 625us/step - loss: 169.3019\n",
      "25/50\n",
      "10/10 [==============================] - 0s 610us/step - loss: 112.7859\n",
      "26/50\n",
      "10/10 [==============================] - 0s 786us/step - loss: 119.4350\n",
      "27/50\n",
      "10/10 [==============================] - 0s 607us/step - loss: 128.2307\n",
      "28/50\n",
      "10/10 [==============================] - 0s 762us/step - loss: 100.5764\n",
      "29/50\n",
      "10/10 [==============================] - 0s 716us/step - loss: 109.4887\n",
      "30/50\n",
      "10/10 [==============================] - 0s 679us/step - loss: 112.2737\n",
      "31/50\n",
      "10/10 [==============================] - 0s 820us/step - loss: 134.0935\n",
      "32/50\n",
      "10/10 [==============================] - 0s 871us/step - loss: 156.7307\n",
      "33/50\n",
      "10/10 [==============================] - 0s 783us/step - loss: 105.7385\n",
      "34/50\n",
      "10/10 [==============================] - 0s 643us/step - loss: 100.8247\n",
      "35/50\n",
      "10/10 [==============================] - 0s 597us/step - loss: 132.1008\n",
      "36/50\n",
      "10/10 [==============================] - 0s 706us/step - loss: 113.5294\n",
      "37/50\n",
      "10/10 [==============================] - 0s 699us/step - loss: 123.6262\n",
      "38/50\n",
      "10/10 [==============================] - 0s 752us/step - loss: 147.9673\n",
      "39/50\n",
      "10/10 [==============================] - 0s 590us/step - loss: 145.2160\n",
      "40/50\n",
      "10/10 [==============================] - 0s 699us/step - loss: 99.4687\n",
      "41/50\n",
      "10/10 [==============================] - 0s 761us/step - loss: 107.2763\n",
      "42/50\n",
      "10/10 [==============================] - 0s 742us/step - loss: 161.4850\n",
      "43/50\n",
      "10/10 [==============================] - 0s 642us/step - loss: 105.0717\n",
      "44/50\n",
      "10/10 [==============================] - 0s 1ms/step - loss: 119.7974\n",
      "45/50\n",
      "10/10 [==============================] - 0s 1ms/step - loss: 101.5796\n",
      "46/50\n",
      "10/10 [==============================] - 0s 894us/step - loss: 112.9067\n",
      "47/50\n",
      "10/10 [==============================] - 0s 818us/step - loss: 133.2220\n",
      "48/50\n",
      "10/10 [==============================] - 0s 622us/step - loss: 105.8430\n",
      "49/50\n",
      "10/10 [==============================] - 0s 767us/step - loss: 112.2185\n",
      "50/50\n",
      "10/10 [==============================] - 0s 746us/step - loss: 117.0757\n"
     ]
    }
   ],
   "source": [
    "# initialize the MSE list\n",
    "MSE_lst = [0] * 50\n",
    "# loop 50 times\n",
    "for i in range(50):\n",
    "    # split test and train data\n",
    "    X_train, X_test, y_train, y_test = train_test_split(X, y, test_size=0.3)\n",
    "    # fit model\n",
    "    print('{}/50'.format(i+1))\n",
    "    model.fit(X_train, y_train, epochs=100, verbose=0)\n",
    "    # evaluate model\n",
    "    MSE_lst[i] = model.evaluate(X_test, y_test)"
   ]
  },
  {
   "cell_type": "markdown",
   "metadata": {},
   "source": [
    "Find the mean and standard deviation of the mean squared errors."
   ]
  },
  {
   "cell_type": "code",
   "execution_count": 9,
   "metadata": {},
   "outputs": [
    {
     "name": "stdout",
     "output_type": "stream",
     "text": [
      "mean: 331.99630813598634\n",
      "std: 1270.072367831058\n"
     ]
    }
   ],
   "source": [
    "mean = np.mean(MSE_lst)\n",
    "std = np.std(MSE_lst)\n",
    "print('mean: {}'.format(mean))\n",
    "print('std: {}'.format(std))"
   ]
  },
  {
   "cell_type": "markdown",
   "metadata": {},
   "source": [
    "How does the mean of the mean squared errors compare to that from the non-normalized data?\n",
    "\n",
    "The mean is much lower than before."
   ]
  },
  {
   "cell_type": "code",
   "execution_count": null,
   "metadata": {},
   "outputs": [],
   "source": []
  }
 ],
 "metadata": {
  "kernelspec": {
   "display_name": "Python 3",
   "language": "python",
   "name": "python3"
  },
  "language_info": {
   "codemirror_mode": {
    "name": "ipython",
    "version": 3
   },
   "file_extension": ".py",
   "mimetype": "text/x-python",
   "name": "python",
   "nbconvert_exporter": "python",
   "pygments_lexer": "ipython3",
   "version": "3.9.4"
  }
 },
 "nbformat": 4,
 "nbformat_minor": 4
}
