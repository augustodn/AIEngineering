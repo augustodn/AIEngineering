{
 "cells": [
  {
   "cell_type": "markdown",
   "metadata": {},
   "source": [
    "Import required libraries and packages."
   ]
  },
  {
   "cell_type": "code",
   "execution_count": 35,
   "metadata": {},
   "outputs": [],
   "source": [
    "import pandas as pd\n",
    "import numpy as np\n",
    "import keras\n",
    "from keras.models import Sequential\n",
    "from keras.layers import Dense\n",
    "from sklearn.model_selection import train_test_split\n",
    "from sklearn.metrics import mean_squared_error"
   ]
  },
  {
   "cell_type": "markdown",
   "metadata": {},
   "source": [
    "Import the data."
   ]
  },
  {
   "cell_type": "code",
   "execution_count": 14,
   "metadata": {},
   "outputs": [
    {
     "data": {
      "text/html": [
       "<div>\n",
       "<style scoped>\n",
       "    .dataframe tbody tr th:only-of-type {\n",
       "        vertical-align: middle;\n",
       "    }\n",
       "\n",
       "    .dataframe tbody tr th {\n",
       "        vertical-align: top;\n",
       "    }\n",
       "\n",
       "    .dataframe thead th {\n",
       "        text-align: right;\n",
       "    }\n",
       "</style>\n",
       "<table border=\"1\" class=\"dataframe\">\n",
       "  <thead>\n",
       "    <tr style=\"text-align: right;\">\n",
       "      <th></th>\n",
       "      <th>Cement</th>\n",
       "      <th>Blast Furnace Slag</th>\n",
       "      <th>Fly Ash</th>\n",
       "      <th>Water</th>\n",
       "      <th>Superplasticizer</th>\n",
       "      <th>Coarse Aggregate</th>\n",
       "      <th>Fine Aggregate</th>\n",
       "      <th>Age</th>\n",
       "      <th>Strength</th>\n",
       "    </tr>\n",
       "  </thead>\n",
       "  <tbody>\n",
       "    <tr>\n",
       "      <th>0</th>\n",
       "      <td>540.0</td>\n",
       "      <td>0.0</td>\n",
       "      <td>0.0</td>\n",
       "      <td>162.0</td>\n",
       "      <td>2.5</td>\n",
       "      <td>1040.0</td>\n",
       "      <td>676.0</td>\n",
       "      <td>28</td>\n",
       "      <td>79.99</td>\n",
       "    </tr>\n",
       "    <tr>\n",
       "      <th>1</th>\n",
       "      <td>540.0</td>\n",
       "      <td>0.0</td>\n",
       "      <td>0.0</td>\n",
       "      <td>162.0</td>\n",
       "      <td>2.5</td>\n",
       "      <td>1055.0</td>\n",
       "      <td>676.0</td>\n",
       "      <td>28</td>\n",
       "      <td>61.89</td>\n",
       "    </tr>\n",
       "    <tr>\n",
       "      <th>2</th>\n",
       "      <td>332.5</td>\n",
       "      <td>142.5</td>\n",
       "      <td>0.0</td>\n",
       "      <td>228.0</td>\n",
       "      <td>0.0</td>\n",
       "      <td>932.0</td>\n",
       "      <td>594.0</td>\n",
       "      <td>270</td>\n",
       "      <td>40.27</td>\n",
       "    </tr>\n",
       "    <tr>\n",
       "      <th>3</th>\n",
       "      <td>332.5</td>\n",
       "      <td>142.5</td>\n",
       "      <td>0.0</td>\n",
       "      <td>228.0</td>\n",
       "      <td>0.0</td>\n",
       "      <td>932.0</td>\n",
       "      <td>594.0</td>\n",
       "      <td>365</td>\n",
       "      <td>41.05</td>\n",
       "    </tr>\n",
       "    <tr>\n",
       "      <th>4</th>\n",
       "      <td>198.6</td>\n",
       "      <td>132.4</td>\n",
       "      <td>0.0</td>\n",
       "      <td>192.0</td>\n",
       "      <td>0.0</td>\n",
       "      <td>978.4</td>\n",
       "      <td>825.5</td>\n",
       "      <td>360</td>\n",
       "      <td>44.30</td>\n",
       "    </tr>\n",
       "  </tbody>\n",
       "</table>\n",
       "</div>"
      ],
      "text/plain": [
       "   Cement  Blast Furnace Slag  Fly Ash  Water  Superplasticizer  \\\n",
       "0   540.0                 0.0      0.0  162.0               2.5   \n",
       "1   540.0                 0.0      0.0  162.0               2.5   \n",
       "2   332.5               142.5      0.0  228.0               0.0   \n",
       "3   332.5               142.5      0.0  228.0               0.0   \n",
       "4   198.6               132.4      0.0  192.0               0.0   \n",
       "\n",
       "   Coarse Aggregate  Fine Aggregate  Age  Strength  \n",
       "0            1040.0           676.0   28     79.99  \n",
       "1            1055.0           676.0   28     61.89  \n",
       "2             932.0           594.0  270     40.27  \n",
       "3             932.0           594.0  365     41.05  \n",
       "4             978.4           825.5  360     44.30  "
      ]
     },
     "execution_count": 14,
     "metadata": {},
     "output_type": "execute_result"
    }
   ],
   "source": [
    "concrete_data = pd.read_csv('https://cocl.us/concrete_data')\n",
    "concrete_data.head()"
   ]
  },
  {
   "cell_type": "code",
   "execution_count": 18,
   "metadata": {},
   "outputs": [
    {
     "data": {
      "text/plain": [
       "(1030, 9)"
      ]
     },
     "execution_count": 18,
     "metadata": {},
     "output_type": "execute_result"
    }
   ],
   "source": [
    "# data dimensions\n",
    "concrete_data.shape"
   ]
  },
  {
   "cell_type": "markdown",
   "metadata": {},
   "source": [
    "Normalize the input data. Split the data into a train and test set. Reserve 30% of the data for test."
   ]
  },
  {
   "cell_type": "code",
   "execution_count": 53,
   "metadata": {},
   "outputs": [],
   "source": [
    "X = concrete_data[concrete_data_columns[concrete_data_columns != 'Strength']] # all columns except Strength\n",
    "X_norm = (X - X.mean()) / X.std()\n",
    "y = concrete_data['Strength'] # Strength column\n",
    "X_train, X_test, y_train, y_test = train_test_split(X_norm, y, test_size=0.3)"
   ]
  },
  {
   "cell_type": "markdown",
   "metadata": {},
   "source": [
    "Create and fit the regression model."
   ]
  },
  {
   "cell_type": "code",
   "execution_count": 63,
   "metadata": {},
   "outputs": [],
   "source": [
    "n_cols = X.shape[1]\n",
    "# define regression model\n",
    "def regression_model():\n",
    "    # create model\n",
    "    model = Sequential()\n",
    "    model.add(Dense(10, activation='relu', input_shape=(n_cols,)))\n",
    "    model.add(Dense(10, activation='relu'))\n",
    "    model.add(Dense(10, activation='relu'))\n",
    "    model.add(Dense(1))\n",
    "    \n",
    "    # compile model\n",
    "    model.compile(optimizer='adam', loss='mean_squared_error')\n",
    "    return model\n",
    "\n",
    "# build the model\n",
    "model = regression_model()"
   ]
  },
  {
   "cell_type": "code",
   "execution_count": 64,
   "metadata": {},
   "outputs": [
    {
     "name": "stdout",
     "output_type": "stream",
     "text": [
      "Epoch 1/50\n",
      " - 1s - loss: 883.5361\n",
      "Epoch 2/50\n",
      " - 0s - loss: 325.9096\n",
      "Epoch 3/50\n",
      " - 0s - loss: 256.9178\n",
      "Epoch 4/50\n",
      " - 0s - loss: 229.9688\n",
      "Epoch 5/50\n",
      " - 0s - loss: 206.3065\n",
      "Epoch 6/50\n",
      " - 0s - loss: 185.8768\n",
      "Epoch 7/50\n",
      " - 0s - loss: 170.3860\n",
      "Epoch 8/50\n",
      " - 0s - loss: 158.2459\n",
      "Epoch 9/50\n",
      " - 0s - loss: 146.7353\n",
      "Epoch 10/50\n",
      " - 0s - loss: 138.5235\n",
      "Epoch 11/50\n",
      " - 0s - loss: 127.1768\n",
      "Epoch 12/50\n",
      " - 0s - loss: 120.6449\n",
      "Epoch 13/50\n",
      " - 0s - loss: 113.8754\n",
      "Epoch 14/50\n",
      " - 0s - loss: 113.7712\n",
      "Epoch 15/50\n",
      " - 0s - loss: 108.3855\n",
      "Epoch 16/50\n",
      " - 0s - loss: 104.6905\n",
      "Epoch 17/50\n",
      " - 0s - loss: 102.5370\n",
      "Epoch 18/50\n",
      " - 1s - loss: 98.1877\n",
      "Epoch 19/50\n",
      " - 1s - loss: 97.5193\n",
      "Epoch 20/50\n",
      " - 0s - loss: 94.8840\n",
      "Epoch 21/50\n",
      " - 0s - loss: 94.3179\n",
      "Epoch 22/50\n",
      " - 0s - loss: 91.2546\n",
      "Epoch 23/50\n",
      " - 0s - loss: 91.1472\n",
      "Epoch 24/50\n",
      " - 0s - loss: 89.7036\n",
      "Epoch 25/50\n",
      " - 0s - loss: 89.0777\n",
      "Epoch 26/50\n",
      " - 0s - loss: 87.8974\n",
      "Epoch 27/50\n",
      " - 0s - loss: 85.4589\n",
      "Epoch 28/50\n",
      " - 0s - loss: 84.4561\n",
      "Epoch 29/50\n",
      " - 0s - loss: 83.7017\n",
      "Epoch 30/50\n",
      " - 0s - loss: 84.0039\n",
      "Epoch 31/50\n",
      " - 0s - loss: 83.1711\n",
      "Epoch 32/50\n",
      " - 0s - loss: 80.3891\n",
      "Epoch 33/50\n",
      " - 0s - loss: 78.3053\n",
      "Epoch 34/50\n",
      " - 0s - loss: 79.1156\n",
      "Epoch 35/50\n",
      " - 0s - loss: 77.9941\n",
      "Epoch 36/50\n",
      " - 0s - loss: 77.5969\n",
      "Epoch 37/50\n",
      " - 1s - loss: 77.1553\n",
      "Epoch 38/50\n",
      " - 0s - loss: 76.9357\n",
      "Epoch 39/50\n",
      " - 0s - loss: 76.0409\n",
      "Epoch 40/50\n",
      " - 0s - loss: 80.5716\n",
      "Epoch 41/50\n",
      " - 0s - loss: 78.9895\n",
      "Epoch 42/50\n",
      " - 0s - loss: 75.9828\n",
      "Epoch 43/50\n",
      " - 0s - loss: 73.6444\n",
      "Epoch 44/50\n",
      " - 0s - loss: 73.2201\n",
      "Epoch 45/50\n",
      " - 0s - loss: 72.8132\n",
      "Epoch 46/50\n",
      " - 0s - loss: 72.5014\n",
      "Epoch 47/50\n",
      " - 0s - loss: 72.1929\n",
      "Epoch 48/50\n",
      " - 0s - loss: 70.5203\n",
      "Epoch 49/50\n",
      " - 0s - loss: 71.4133\n",
      "Epoch 50/50\n",
      " - 0s - loss: 69.8821\n"
     ]
    },
    {
     "data": {
      "text/plain": [
       "<keras.callbacks.History at 0x7f4160ede2e8>"
      ]
     },
     "execution_count": 64,
     "metadata": {},
     "output_type": "execute_result"
    }
   ],
   "source": [
    "# fit the model\n",
    "model.fit(X_train, y_train, epochs=50, verbose=2)"
   ]
  },
  {
   "cell_type": "markdown",
   "metadata": {},
   "source": [
    "Evaluate the model for the MSE."
   ]
  },
  {
   "cell_type": "code",
   "execution_count": 65,
   "metadata": {},
   "outputs": [
    {
     "name": "stdout",
     "output_type": "stream",
     "text": [
      "309/309 [==============================] - 0s 582us/step\n"
     ]
    },
    {
     "data": {
      "text/plain": [
       "62.052199255687135"
      ]
     },
     "execution_count": 65,
     "metadata": {},
     "output_type": "execute_result"
    }
   ],
   "source": [
    "# find the MSE\n",
    "MSE = model.evaluate(X_test, y_test)\n",
    "MSE"
   ]
  },
  {
   "cell_type": "markdown",
   "metadata": {},
   "source": [
    "Run the model through a loop."
   ]
  },
  {
   "cell_type": "code",
   "execution_count": 66,
   "metadata": {},
   "outputs": [
    {
     "name": "stdout",
     "output_type": "stream",
     "text": [
      "1/50\n",
      "309/309 [==============================] - 0s 131us/step\n",
      "2/50\n",
      "309/309 [==============================] - 0s 130us/step\n",
      "3/50\n",
      "309/309 [==============================] - 0s 249us/step\n",
      "4/50\n",
      "309/309 [==============================] - 0s 126us/step\n",
      "5/50\n",
      "309/309 [==============================] - 0s 135us/step\n",
      "6/50\n",
      "309/309 [==============================] - 0s 193us/step\n",
      "7/50\n",
      "309/309 [==============================] - 0s 133us/step\n",
      "8/50\n",
      "309/309 [==============================] - 0s 134us/step\n",
      "9/50\n",
      "309/309 [==============================] - 0s 119us/step\n",
      "10/50\n",
      "309/309 [==============================] - 0s 114us/step\n",
      "11/50\n",
      "309/309 [==============================] - 0s 197us/step\n",
      "12/50\n",
      "309/309 [==============================] - 0s 175us/step\n",
      "13/50\n",
      "309/309 [==============================] - 0s 139us/step\n",
      "14/50\n",
      "309/309 [==============================] - 0s 191us/step\n",
      "15/50\n",
      "309/309 [==============================] - 0s 131us/step\n",
      "16/50\n",
      "309/309 [==============================] - 0s 133us/step\n",
      "17/50\n",
      "309/309 [==============================] - 0s 139us/step\n",
      "18/50\n",
      "309/309 [==============================] - 0s 235us/step\n",
      "19/50\n",
      "309/309 [==============================] - 0s 132us/step\n",
      "20/50\n",
      "309/309 [==============================] - 0s 180us/step\n",
      "21/50\n",
      "309/309 [==============================] - 0s 137us/step\n",
      "22/50\n",
      "309/309 [==============================] - 0s 136us/step\n",
      "23/50\n",
      "309/309 [==============================] - 0s 136us/step\n",
      "24/50\n",
      "309/309 [==============================] - 0s 182us/step\n",
      "25/50\n",
      "309/309 [==============================] - 0s 142us/step\n",
      "26/50\n",
      "309/309 [==============================] - 0s 139us/step\n",
      "27/50\n",
      "309/309 [==============================] - 0s 134us/step\n",
      "28/50\n",
      "309/309 [==============================] - 0s 133us/step\n",
      "29/50\n",
      "309/309 [==============================] - 0s 140us/step\n",
      "30/50\n",
      "309/309 [==============================] - 0s 138us/step\n",
      "31/50\n",
      "309/309 [==============================] - 0s 193us/step\n",
      "32/50\n",
      "309/309 [==============================] - 0s 124us/step\n",
      "33/50\n",
      "309/309 [==============================] - 0s 181us/step\n",
      "34/50\n",
      "309/309 [==============================] - 0s 181us/step\n",
      "35/50\n",
      "309/309 [==============================] - 0s 133us/step\n",
      "36/50\n",
      "309/309 [==============================] - 0s 128us/step\n",
      "37/50\n",
      "309/309 [==============================] - 0s 147us/step\n",
      "38/50\n",
      "309/309 [==============================] - 0s 138us/step\n",
      "39/50\n",
      "309/309 [==============================] - 0s 157us/step\n",
      "40/50\n",
      "309/309 [==============================] - 0s 134us/step\n",
      "41/50\n",
      "309/309 [==============================] - 0s 128us/step\n",
      "42/50\n",
      "309/309 [==============================] - 0s 133us/step\n",
      "43/50\n",
      "309/309 [==============================] - 0s 177us/step\n",
      "44/50\n",
      "309/309 [==============================] - 0s 74us/step\n",
      "45/50\n",
      "309/309 [==============================] - 0s 139us/step\n",
      "46/50\n",
      "309/309 [==============================] - 0s 130us/step\n",
      "47/50\n",
      "309/309 [==============================] - 0s 139us/step\n",
      "48/50\n",
      "309/309 [==============================] - 0s 137us/step\n",
      "49/50\n",
      "309/309 [==============================] - 0s 140us/step\n",
      "50/50\n",
      "309/309 [==============================] - 0s 195us/step\n"
     ]
    }
   ],
   "source": [
    "# initialize the MSE list\n",
    "MSE_lst = [0] * 50\n",
    "# loop 50 times\n",
    "for i in range(50):\n",
    "    # split test and train data\n",
    "    X_train, X_test, y_train, y_test = train_test_split(X, y, test_size=0.3)\n",
    "    # fit model\n",
    "    print('{}/50'.format(i+1))\n",
    "    model.fit(X_train, y_train, epochs=50, verbose=0)\n",
    "    # evaluate model\n",
    "    MSE_lst[i] = model.evaluate(X_test, y_test)"
   ]
  },
  {
   "cell_type": "markdown",
   "metadata": {},
   "source": [
    "Find the mean and standard deviation of the mean squared errors."
   ]
  },
  {
   "cell_type": "code",
   "execution_count": 67,
   "metadata": {},
   "outputs": [
    {
     "name": "stdout",
     "output_type": "stream",
     "text": [
      "mean: 38.8371522702214\n",
      "std: 3.7962191654986217\n"
     ]
    }
   ],
   "source": [
    "mean = np.mean(MSE_lst)\n",
    "std = np.std(MSE_lst)\n",
    "print('mean: {}'.format(mean))\n",
    "print('std: {}'.format(std))"
   ]
  },
  {
   "cell_type": "markdown",
   "metadata": {},
   "source": [
    "How does the mean of the mean squared errors compare to that of a model of only 1 hidden layer?\n",
    "\n",
    "The mean is much lower than before."
   ]
  },
  {
   "cell_type": "code",
   "execution_count": null,
   "metadata": {},
   "outputs": [],
   "source": []
  }
 ],
 "metadata": {
  "kernelspec": {
   "display_name": "Python 3",
   "language": "python",
   "name": "python3"
  },
  "language_info": {
   "codemirror_mode": {
    "name": "ipython",
    "version": 3
   },
   "file_extension": ".py",
   "mimetype": "text/x-python",
   "name": "python",
   "nbconvert_exporter": "python",
   "pygments_lexer": "ipython3",
   "version": "3.8.5"
  }
 },
 "nbformat": 4,
 "nbformat_minor": 4
}
