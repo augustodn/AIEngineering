{
 "cells": [
  {
   "cell_type": "markdown",
   "metadata": {
    "button": false,
    "new_sheet": false,
    "run_control": {
     "read_only": false
    }
   },
   "source": [
    "<a href=\"https://cognitiveclass.ai\"><img src = \"https://s3-api.us-geo.objectstorage.softlayer.net/cf-courses-data/CognitiveClass/Logos/organization_logo/organization_logo.png\" width = 400> </a>\n",
    "\n",
    "<h1 align=center><font size = 5>Artificial Neural Networks - Forward Propagation</font></h1>\n"
   ]
  },
  {
   "cell_type": "markdown",
   "metadata": {
    "button": false,
    "new_sheet": false,
    "run_control": {
     "read_only": false
    }
   },
   "source": [
    "## Introduction\n"
   ]
  },
  {
   "cell_type": "markdown",
   "metadata": {
    "button": false,
    "new_sheet": false,
    "run_control": {
     "read_only": false
    }
   },
   "source": [
    "In this lab, we will build a neural network from scratch and code how it performs predictions using forward propagation. Please note that all deep learning libraries have the entire training and prediction processes implemented, and so in practice you wouldn't really need to build a neural network from scratch. However, hopefully completing this lab will help you understand neural networks and how they work even better.\n"
   ]
  },
  {
   "cell_type": "markdown",
   "metadata": {},
   "source": [
    "<h2>Artificial Neural Networks - Forward Propagation</h2>\n",
    "\n",
    "<h3>Objective for this Notebook<h3>    \n",
    "<h5> 1. Initalize a Network</h5>\n",
    "<h5> 2. Compute Weighted Sum at Each Node. </h5>\n",
    "<h5> 3. Compute Node Activation </h5>\n",
    "<h5> 4. Access your <b>Flask</b> app via a webpage anywhere using a custom link. </h5>     \n"
   ]
  },
  {
   "cell_type": "markdown",
   "metadata": {
    "button": false,
    "new_sheet": false,
    "run_control": {
     "read_only": false
    }
   },
   "source": [
    "## Table of Contents\n",
    "\n",
    "<div class=\"alert alert-block alert-info\" style=\"margin-top: 20px\">\n",
    "\n",
    "<font size = 3>    \n",
    "\n",
    "1.  <a href=\"#item11\">Recap</a>\n",
    "2.  <a href=\"#item12\">Initalize a Network</a>  \n",
    "3.  <a href=\"#item13\">Compute Weighted Sum at Each Node</a>  \n",
    "4.  <a href=\"#item14\">Compute Node Activation</a>  \n",
    "5.  <a href=\"#item15\">Forward Propagation</a>\n",
    "\n",
    "</font>\n",
    "    \n",
    "</div>\n"
   ]
  },
  {
   "cell_type": "markdown",
   "metadata": {
    "button": false,
    "new_sheet": false,
    "run_control": {
     "read_only": false
    }
   },
   "source": [
    "\n"
   ]
  },
  {
   "cell_type": "markdown",
   "metadata": {
    "button": false,
    "new_sheet": false,
    "run_control": {
     "read_only": false
    }
   },
   "source": [
    "<a id=\"item1\"></a>\n"
   ]
  },
  {
   "cell_type": "markdown",
   "metadata": {},
   "source": [
    "<a id='item11'></a>\n"
   ]
  },
  {
   "cell_type": "markdown",
   "metadata": {
    "button": false,
    "new_sheet": false,
    "run_control": {
     "read_only": false
    }
   },
   "source": [
    "# Recap\n"
   ]
  },
  {
   "cell_type": "markdown",
   "metadata": {
    "button": false,
    "new_sheet": false,
    "run_control": {
     "read_only": false
    }
   },
   "source": [
    "From the videos, let's recap how a neural network makes predictions through the forward propagation process. Here is a neural network that takes two inputs, has one hidden layer with two nodes, and an output layer with one node.\n"
   ]
  },
  {
   "cell_type": "markdown",
   "metadata": {
    "button": false,
    "new_sheet": false,
    "run_control": {
     "read_only": false
    }
   },
   "source": [
    "\n"
   ]
  },
  {
   "cell_type": "markdown",
   "metadata": {
    "button": false,
    "new_sheet": false,
    "run_control": {
     "read_only": false
    }
   },
   "source": [
    "<img src=\"http://cocl.us/neural_network_example\" alt=\"Neural Network Example\" width=600px>\n"
   ]
  },
  {
   "cell_type": "markdown",
   "metadata": {
    "button": false,
    "new_sheet": false,
    "run_control": {
     "read_only": false
    }
   },
   "source": [
    "\n"
   ]
  },
  {
   "cell_type": "markdown",
   "metadata": {
    "button": false,
    "new_sheet": false,
    "run_control": {
     "read_only": false
    }
   },
   "source": [
    "Let's start by randomly initializing the weights and the biases in the network. We have 6 weights and 3 biases, one for each node in the hidden layer as well as for each node in the output layer.\n"
   ]
  },
  {
   "cell_type": "code",
   "execution_count": 1,
   "metadata": {
    "button": false,
    "jupyter": {
     "outputs_hidden": true
    },
    "new_sheet": false,
    "run_control": {
     "read_only": false
    }
   },
   "outputs": [],
   "source": [
    "import numpy as np # import Numpy library to generate \n",
    "\n",
    "weights = np.around(np.random.uniform(size=6), decimals=2) # initialize the weights\n",
    "biases = np.around(np.random.uniform(size=3), decimals=2) # initialize the biases"
   ]
  },
  {
   "cell_type": "markdown",
   "metadata": {
    "button": false,
    "new_sheet": false,
    "run_control": {
     "read_only": false
    }
   },
   "source": [
    "Let's print the weights and biases for sanity check.\n"
   ]
  },
  {
   "cell_type": "code",
   "execution_count": 2,
   "metadata": {
    "button": false,
    "jupyter": {
     "outputs_hidden": true
    },
    "new_sheet": false,
    "run_control": {
     "read_only": false
    }
   },
   "outputs": [
    {
     "name": "stdout",
     "output_type": "stream",
     "text": [
      "[0.32 0.26 0.43 0.6  0.32 0.18]\n",
      "[0.84 0.46 0.47]\n"
     ]
    }
   ],
   "source": [
    "print(weights)\n",
    "print(biases)"
   ]
  },
  {
   "cell_type": "markdown",
   "metadata": {
    "button": false,
    "new_sheet": false,
    "run_control": {
     "read_only": false
    }
   },
   "source": [
    "Now that we have the weights and the biases defined for the network, let's compute the output for a given input, $x_1$ and $x_2$.\n"
   ]
  },
  {
   "cell_type": "code",
   "execution_count": 3,
   "metadata": {
    "button": false,
    "jupyter": {
     "outputs_hidden": true
    },
    "new_sheet": false,
    "run_control": {
     "read_only": false
    }
   },
   "outputs": [
    {
     "name": "stdout",
     "output_type": "stream",
     "text": [
      "x1 is 0.5 and x2 is 0.85\n"
     ]
    }
   ],
   "source": [
    "x_1 = 0.5 # input 1\n",
    "x_2 = 0.85 # input 2\n",
    "\n",
    "print('x1 is {} and x2 is {}'.format(x_1, x_2))"
   ]
  },
  {
   "cell_type": "markdown",
   "metadata": {
    "button": false,
    "new_sheet": false,
    "run_control": {
     "read_only": false
    }
   },
   "source": [
    "Let's start by computing the wighted sum of the inputs, $z\\_{1, 1}$, at the first node of the hidden layer.\n"
   ]
  },
  {
   "cell_type": "code",
   "execution_count": 4,
   "metadata": {
    "button": false,
    "jupyter": {
     "outputs_hidden": true
    },
    "new_sheet": false,
    "run_control": {
     "read_only": false
    }
   },
   "outputs": [
    {
     "name": "stdout",
     "output_type": "stream",
     "text": [
      "The weighted sum of the inputs at the first node in the hidden layer is 1.221\n"
     ]
    }
   ],
   "source": [
    "z_11 = x_1 * weights[0] + x_2 * weights[1] + biases[0]\n",
    "\n",
    "print('The weighted sum of the inputs at the first node in the hidden layer is {}'.format(z_11))"
   ]
  },
  {
   "cell_type": "markdown",
   "metadata": {
    "button": false,
    "new_sheet": false,
    "run_control": {
     "read_only": false
    }
   },
   "source": [
    "Next, let's compute the weighted sum of the inputs, $z\\_{1, 2}$, at the second node of the hidden layer. Assign the value to **z_12**.\n"
   ]
  },
  {
   "cell_type": "code",
   "execution_count": 5,
   "metadata": {
    "button": false,
    "jupyter": {
     "outputs_hidden": true
    },
    "new_sheet": false,
    "run_control": {
     "read_only": false
    }
   },
   "outputs": [
    {
     "name": "stdout",
     "output_type": "stream",
     "text": [
      "The weighted sum of the inputs in Z_1,2 is 1.185\n"
     ]
    }
   ],
   "source": [
    "### type your answer here\n",
    "z_12 = x_1 * weights[2] + x_2 * weights[3] + biases[1]\n",
    "print(f'The weighted sum of the inputs in Z_1,2 is {z_12:.3f}')\n"
   ]
  },
  {
   "cell_type": "markdown",
   "metadata": {
    "button": false,
    "new_sheet": false,
    "run_control": {
     "read_only": false
    }
   },
   "source": [
    "Double-click **here** for the solution.\n",
    "\n",
    "<!-- The correct answer is:\n",
    "z_12 = x_1 * weights[2] + x_2 * weights[3] + biases[1]\n",
    "-->\n"
   ]
  },
  {
   "cell_type": "markdown",
   "metadata": {
    "button": false,
    "new_sheet": false,
    "run_control": {
     "read_only": false
    }
   },
   "source": [
    "Print the weighted sum.\n"
   ]
  },
  {
   "cell_type": "code",
   "execution_count": 6,
   "metadata": {
    "button": false,
    "jupyter": {
     "outputs_hidden": true
    },
    "new_sheet": false,
    "run_control": {
     "read_only": false
    }
   },
   "outputs": [
    {
     "name": "stdout",
     "output_type": "stream",
     "text": [
      "The weighted sum of the inputs at the second node in the hidden layer is 1.185\n"
     ]
    }
   ],
   "source": [
    "print('The weighted sum of the inputs at the second node in the hidden layer is {}'.format(np.around(z_12, decimals=4)))"
   ]
  },
  {
   "cell_type": "markdown",
   "metadata": {
    "button": false,
    "new_sheet": false,
    "run_control": {
     "read_only": false
    }
   },
   "source": [
    "Next, assuming a sigmoid activation function, let's compute the activation of the first node, $a\\_{1, 1}$, in the hidden layer.\n"
   ]
  },
  {
   "cell_type": "code",
   "execution_count": 7,
   "metadata": {
    "button": false,
    "jupyter": {
     "outputs_hidden": true
    },
    "new_sheet": false,
    "run_control": {
     "read_only": false
    }
   },
   "outputs": [
    {
     "name": "stdout",
     "output_type": "stream",
     "text": [
      "The activation of the first node in the hidden layer is 0.7722\n"
     ]
    }
   ],
   "source": [
    "a_11 = 1.0 / (1.0 + np.exp(-z_11))\n",
    "\n",
    "print('The activation of the first node in the hidden layer is {}'.format(np.around(a_11, decimals=4)))"
   ]
  },
  {
   "cell_type": "markdown",
   "metadata": {
    "button": false,
    "new_sheet": false,
    "run_control": {
     "read_only": false
    }
   },
   "source": [
    "Let's also compute the activation of the second node, $a\\_{1, 2}$, in the hidden layer. Assign the value to **a_12**.\n"
   ]
  },
  {
   "cell_type": "code",
   "execution_count": 8,
   "metadata": {
    "button": false,
    "jupyter": {
     "outputs_hidden": true
    },
    "new_sheet": false,
    "run_control": {
     "read_only": false
    }
   },
   "outputs": [],
   "source": [
    "### type your answer here\n",
    "\n",
    "a_12 = 1.0 / (1.0 + np.exp(-z_12))"
   ]
  },
  {
   "cell_type": "markdown",
   "metadata": {
    "button": false,
    "new_sheet": false,
    "run_control": {
     "read_only": false
    }
   },
   "source": [
    "Double-click **here** for the solution.\n",
    "\n",
    "<!-- The correct answer is:\n",
    "a_12 = 1.0 / (1.0 + np.exp(-z_12))\n",
    "-->\n"
   ]
  },
  {
   "cell_type": "markdown",
   "metadata": {
    "button": false,
    "new_sheet": false,
    "run_control": {
     "read_only": false
    }
   },
   "source": [
    "Print the activation of the second node.\n"
   ]
  },
  {
   "cell_type": "code",
   "execution_count": 9,
   "metadata": {
    "button": false,
    "jupyter": {
     "outputs_hidden": true
    },
    "new_sheet": false,
    "run_control": {
     "read_only": false
    }
   },
   "outputs": [
    {
     "name": "stdout",
     "output_type": "stream",
     "text": [
      "The activation of the second node in the hidden layer is 0.7658\n"
     ]
    }
   ],
   "source": [
    "print('The activation of the second node in the hidden layer is {}'.format(np.around(a_12, decimals=4)))"
   ]
  },
  {
   "cell_type": "markdown",
   "metadata": {
    "button": false,
    "new_sheet": false,
    "run_control": {
     "read_only": false
    }
   },
   "source": [
    "Now these activations will serve as the inputs to the output layer. So, let's compute the weighted sum of these inputs to the node in the output layer. Assign the value to **z_2**.\n"
   ]
  },
  {
   "cell_type": "code",
   "execution_count": 10,
   "metadata": {
    "button": false,
    "jupyter": {
     "outputs_hidden": true
    },
    "new_sheet": false,
    "run_control": {
     "read_only": false
    }
   },
   "outputs": [],
   "source": [
    "### type your answer here\n",
    "z_2 = a_11 * weights[4] + a_12 * weights[5] + biases[2]\n"
   ]
  },
  {
   "cell_type": "markdown",
   "metadata": {
    "button": false,
    "new_sheet": false,
    "run_control": {
     "read_only": false
    }
   },
   "source": [
    "Double-click **here** for the solution.\n",
    "\n",
    "<!-- The correct answer is:\n",
    "z_2 = a_11 * weights[4] + a_12 * weights[5] + biases[2]\n",
    "-->\n"
   ]
  },
  {
   "cell_type": "markdown",
   "metadata": {
    "button": false,
    "new_sheet": false,
    "run_control": {
     "read_only": false
    }
   },
   "source": [
    "Print the weighted sum of the inputs at the node in the output layer.\n"
   ]
  },
  {
   "cell_type": "code",
   "execution_count": 11,
   "metadata": {
    "button": false,
    "jupyter": {
     "outputs_hidden": true
    },
    "new_sheet": false,
    "run_control": {
     "read_only": false
    }
   },
   "outputs": [
    {
     "name": "stdout",
     "output_type": "stream",
     "text": [
      "The weighted sum of the inputs at the node in the output layer is 0.855\n"
     ]
    }
   ],
   "source": [
    "print('The weighted sum of the inputs at the node in the output layer is {}'.format(np.around(z_2, decimals=4)))"
   ]
  },
  {
   "cell_type": "markdown",
   "metadata": {
    "button": false,
    "new_sheet": false,
    "run_control": {
     "read_only": false
    }
   },
   "source": [
    "Finally, let's compute the output of the network as the activation of the node in the output layer. Assign the value to **a_2**.\n"
   ]
  },
  {
   "cell_type": "code",
   "execution_count": 12,
   "metadata": {
    "button": false,
    "jupyter": {
     "outputs_hidden": true
    },
    "new_sheet": false,
    "run_control": {
     "read_only": false
    }
   },
   "outputs": [],
   "source": [
    "### type your answer here\n",
    "\n",
    "a_2 = 1.0 / (1.0 + np.exp(-z_2))"
   ]
  },
  {
   "cell_type": "markdown",
   "metadata": {
    "button": false,
    "new_sheet": false,
    "run_control": {
     "read_only": false
    }
   },
   "source": [
    "Double-click **here** for the solution.\n",
    "\n",
    "<!-- The correct answer is:\n",
    "a_2 = 1.0 / (1.0 + np.exp(-z_2))\n",
    "-->\n"
   ]
  },
  {
   "cell_type": "markdown",
   "metadata": {
    "button": false,
    "new_sheet": false,
    "run_control": {
     "read_only": false
    }
   },
   "source": [
    "Print the activation of the node in the output layer which is equivalent to the prediction made by the network.\n"
   ]
  },
  {
   "cell_type": "code",
   "execution_count": 13,
   "metadata": {
    "button": false,
    "jupyter": {
     "outputs_hidden": true
    },
    "new_sheet": false,
    "run_control": {
     "read_only": false
    }
   },
   "outputs": [
    {
     "name": "stdout",
     "output_type": "stream",
     "text": [
      "The output of the network for x1 = 0.5 and x2 = 0.85 is 0.7016\n"
     ]
    }
   ],
   "source": [
    "print('The output of the network for x1 = 0.5 and x2 = 0.85 is {}'.format(np.around(a_2, decimals=4)))"
   ]
  },
  {
   "cell_type": "markdown",
   "metadata": {
    "button": false,
    "new_sheet": false,
    "run_control": {
     "read_only": false
    }
   },
   "source": [
    "<hr>\n"
   ]
  },
  {
   "cell_type": "markdown",
   "metadata": {
    "button": false,
    "new_sheet": false,
    "run_control": {
     "read_only": false
    }
   },
   "source": [
    "Obviously, neural networks for real problems are composed of many hidden layers and many more nodes in each layer. So, we can't continue making predictions using this very inefficient approach of computing the weighted sum at each node and the activation of each node manually. \n"
   ]
  },
  {
   "cell_type": "markdown",
   "metadata": {
    "button": false,
    "new_sheet": false,
    "run_control": {
     "read_only": false
    }
   },
   "source": [
    "In order to code an automatic way of making predictions, let's generalize our network. A general network would take $n$ inputs, would have many hidden layers, each hidden layer having $m$ nodes, and would have an output layer. Although the network is showing one hidden layer, but we will code the network to have many hidden layers. Similarly, although the network shows an output layer with one node, we will code the network to have more than one node in the output layer.\n"
   ]
  },
  {
   "cell_type": "markdown",
   "metadata": {
    "button": false,
    "new_sheet": false,
    "run_control": {
     "read_only": false
    }
   },
   "source": [
    "<img src=\"http://cocl.us/general_neural_network\" alt=\"Neural Network General\" width=600px>\n"
   ]
  },
  {
   "cell_type": "markdown",
   "metadata": {
    "button": false,
    "new_sheet": false,
    "run_control": {
     "read_only": false
    }
   },
   "source": [
    "\n"
   ]
  },
  {
   "cell_type": "markdown",
   "metadata": {
    "button": false,
    "new_sheet": false,
    "run_control": {
     "read_only": false
    }
   },
   "source": [
    "<a id=\"item2\"></a>\n"
   ]
  },
  {
   "cell_type": "markdown",
   "metadata": {},
   "source": [
    "<a id='item12'></a>\n"
   ]
  },
  {
   "cell_type": "markdown",
   "metadata": {
    "button": false,
    "new_sheet": false,
    "run_control": {
     "read_only": false
    }
   },
   "source": [
    "## Initialize a Network\n"
   ]
  },
  {
   "cell_type": "markdown",
   "metadata": {
    "button": false,
    "new_sheet": false,
    "run_control": {
     "read_only": false
    }
   },
   "source": [
    "Let's start by formally defining the structure of the network.\n"
   ]
  },
  {
   "cell_type": "code",
   "execution_count": 14,
   "metadata": {
    "button": false,
    "jupyter": {
     "outputs_hidden": true
    },
    "new_sheet": false,
    "run_control": {
     "read_only": false
    }
   },
   "outputs": [],
   "source": [
    "n = 2 # number of inputs\n",
    "num_hidden_layers = 2 # number of hidden layers\n",
    "m = [2, 2] # number of nodes in each hidden layer\n",
    "num_nodes_output = 1 # number of nodes in the output layer"
   ]
  },
  {
   "cell_type": "markdown",
   "metadata": {
    "button": false,
    "new_sheet": false,
    "run_control": {
     "read_only": false
    }
   },
   "source": [
    "Now that we defined the structure of the network, let's go ahead and inititailize the weights and the biases in the network to random numbers. In order to be able to initialize the weights and the biases to random numbers, we will need to import the **Numpy** library.\n"
   ]
  },
  {
   "cell_type": "code",
   "execution_count": 15,
   "metadata": {
    "button": false,
    "jupyter": {
     "outputs_hidden": true
    },
    "new_sheet": false,
    "run_control": {
     "read_only": false
    }
   },
   "outputs": [
    {
     "name": "stdout",
     "output_type": "stream",
     "text": [
      "{'layer_1': {'node_1': {'weights': array([0.4 , 0.85]), 'bias': array([0.24])}, 'node_2': {'weights': array([0.13, 0.93]), 'bias': array([0.92])}}, 'layer_2': {'node_1': {'weights': array([0.28, 0.48]), 'bias': array([0.69])}, 'node_2': {'weights': array([0.37, 0.44]), 'bias': array([0.27])}}, 'output': {'node_1': {'weights': array([0.62, 0.28]), 'bias': array([0.63])}}}\n"
     ]
    }
   ],
   "source": [
    "import numpy as np # import the Numpy library\n",
    "\n",
    "num_nodes_previous = n # number of nodes in the previous layer\n",
    "\n",
    "network = {} # initialize network an an empty dictionary\n",
    "\n",
    "# loop through each layer and randomly initialize the weights and biases associated with each node\n",
    "# notice how we are adding 1 to the number of hidden layers in order to include the output layer\n",
    "for layer in range(num_hidden_layers + 1): \n",
    "    \n",
    "    # determine name of layer\n",
    "    if layer == num_hidden_layers:\n",
    "        layer_name = 'output'\n",
    "        num_nodes = num_nodes_output\n",
    "    else:\n",
    "        layer_name = 'layer_{}'.format(layer + 1)\n",
    "        num_nodes = m[layer]\n",
    "    \n",
    "    # initialize weights and biases associated with each node in the current layer\n",
    "    network[layer_name] = {}\n",
    "    for node in range(num_nodes):\n",
    "        node_name = 'node_{}'.format(node+1)\n",
    "        network[layer_name][node_name] = {\n",
    "            'weights': np.around(np.random.uniform(size=num_nodes_previous), decimals=2),\n",
    "            'bias': np.around(np.random.uniform(size=1), decimals=2),\n",
    "        }\n",
    "    \n",
    "    num_nodes_previous = num_nodes\n",
    "    \n",
    "print(network) # print network"
   ]
  },
  {
   "cell_type": "markdown",
   "metadata": {
    "button": false,
    "new_sheet": false,
    "run_control": {
     "read_only": false
    }
   },
   "source": [
    "Awesome! So now with the above code, we are able to initialize the weights and the biases pertaining to any network of any number of hidden layers and number of nodes in each layer. But let's put this code in a function so that we are able to repetitively execute all this code whenever we want to construct a neural network.\n"
   ]
  },
  {
   "cell_type": "code",
   "execution_count": 16,
   "metadata": {
    "button": false,
    "jupyter": {
     "outputs_hidden": true
    },
    "new_sheet": false,
    "run_control": {
     "read_only": false
    }
   },
   "outputs": [],
   "source": [
    "def initialize_network(num_inputs, num_hidden_layers, num_nodes_hidden, num_nodes_output):\n",
    "    \n",
    "    num_nodes_previous = num_inputs # number of nodes in the previous layer\n",
    "\n",
    "    network = {}\n",
    "    \n",
    "    # loop through each layer and randomly initialize the weights and biases associated with each layer\n",
    "    for layer in range(num_hidden_layers + 1):\n",
    "        \n",
    "        if layer == num_hidden_layers:\n",
    "            layer_name = 'output' # name last layer in the network output\n",
    "            num_nodes = num_nodes_output\n",
    "        else:\n",
    "            layer_name = 'layer_{}'.format(layer + 1) # otherwise give the layer a number\n",
    "            num_nodes = num_nodes_hidden[layer] \n",
    "        \n",
    "        # initialize weights and bias for each node\n",
    "        network[layer_name] = {}\n",
    "        for node in range(num_nodes):\n",
    "            node_name = 'node_{}'.format(node+1)\n",
    "            network[layer_name][node_name] = {\n",
    "                'weights': np.around(np.random.uniform(size=num_nodes_previous), decimals=2),\n",
    "                'bias': np.around(np.random.uniform(size=1), decimals=2),\n",
    "            }\n",
    "    \n",
    "        num_nodes_previous = num_nodes\n",
    "\n",
    "    return network # return the network"
   ]
  },
  {
   "cell_type": "markdown",
   "metadata": {
    "button": false,
    "new_sheet": false,
    "run_control": {
     "read_only": false
    }
   },
   "source": [
    "#### Use the _initialize_network_ function to create a network that:\n",
    "\n",
    "1.  takes 5 inputs\n",
    "2.  has three hidden layers\n",
    "3.  has 3 nodes in the first layer, 2 nodes in the second layer, and 3 nodes in the third layer\n",
    "4.  has 1 node in the output layer\n",
    "\n",
    "Call the network **small_network**.\n"
   ]
  },
  {
   "cell_type": "code",
   "execution_count": 17,
   "metadata": {
    "button": false,
    "jupyter": {
     "outputs_hidden": true
    },
    "new_sheet": false,
    "run_control": {
     "read_only": false
    }
   },
   "outputs": [
    {
     "name": "stdout",
     "output_type": "stream",
     "text": [
      "{'layer_1': {'node_1': {'weights': array([0.23, 0.52, 0.34, 0.57, 0.64]), 'bias': array([0.99])}, 'node_2': {'weights': array([0.73, 0.61, 0.89, 0.91, 0.05]), 'bias': array([0.23])}, 'node_3': {'weights': array([0.17, 0.32, 0.36, 0.96, 0.17]), 'bias': array([0.29])}}, 'layer_2': {'node_1': {'weights': array([0.45, 0.6 , 0.94]), 'bias': array([0.46])}, 'node_2': {'weights': array([0.31, 0.19, 0.62]), 'bias': array([0.19])}}, 'layer_3': {'node_1': {'weights': array([0.39, 0.59]), 'bias': array([0.39])}, 'node_2': {'weights': array([0.56, 0.9 ]), 'bias': array([0.15])}, 'node_3': {'weights': array([0.4 , 0.27]), 'bias': array([0.22])}}, 'output': {'node_1': {'weights': array([0.99, 0.39, 0.28]), 'bias': array([0.22])}}}\n"
     ]
    }
   ],
   "source": [
    "### type your answer here\n",
    "small_network = initialize_network(5, 3, [3, 2, 3], 1)\n",
    "print(small_network)\n"
   ]
  },
  {
   "cell_type": "markdown",
   "metadata": {
    "button": false,
    "new_sheet": false,
    "run_control": {
     "read_only": false
    }
   },
   "source": [
    "Double-click **here** for the solution.\n",
    "\n",
    "<!-- The correct answer is:\n",
    "small_network = initialize_network(5, 3, [3, 2, 3], 1)\n",
    "-->\n"
   ]
  },
  {
   "cell_type": "markdown",
   "metadata": {
    "button": false,
    "new_sheet": false,
    "run_control": {
     "read_only": false
    }
   },
   "source": [
    "\n"
   ]
  },
  {
   "cell_type": "markdown",
   "metadata": {
    "button": false,
    "new_sheet": false,
    "run_control": {
     "read_only": false
    }
   },
   "source": [
    "<a id=\"item3\"></a>\n"
   ]
  },
  {
   "cell_type": "markdown",
   "metadata": {},
   "source": [
    "<a id='item13'></a>\n"
   ]
  },
  {
   "cell_type": "markdown",
   "metadata": {
    "button": false,
    "new_sheet": false,
    "run_control": {
     "read_only": false
    }
   },
   "source": [
    "## Compute Weighted Sum at Each Node\n"
   ]
  },
  {
   "cell_type": "markdown",
   "metadata": {
    "button": false,
    "new_sheet": false,
    "run_control": {
     "read_only": false
    }
   },
   "source": [
    "The weighted sum at each node is computed as the dot product of the inputs and the weights plus the bias. So let's create a function called _compute_weighted_sum_ that does just that.\n"
   ]
  },
  {
   "cell_type": "code",
   "execution_count": 18,
   "metadata": {
    "button": false,
    "jupyter": {
     "outputs_hidden": true
    },
    "new_sheet": false,
    "run_control": {
     "read_only": false
    }
   },
   "outputs": [],
   "source": [
    "def compute_weighted_sum(inputs, weights, bias):\n",
    "    return np.sum(inputs * weights) + bias"
   ]
  },
  {
   "cell_type": "markdown",
   "metadata": {
    "button": false,
    "new_sheet": false,
    "run_control": {
     "read_only": false
    }
   },
   "source": [
    "Let's generate 5 inputs that we can feed to **small_network**.\n"
   ]
  },
  {
   "cell_type": "code",
   "execution_count": 19,
   "metadata": {
    "button": false,
    "jupyter": {
     "outputs_hidden": true
    },
    "new_sheet": false,
    "run_control": {
     "read_only": false
    }
   },
   "outputs": [
    {
     "name": "stdout",
     "output_type": "stream",
     "text": [
      "The inputs to the network are [0.15 0.74 0.26 0.53 0.01]\n"
     ]
    }
   ],
   "source": [
    "from random import seed\n",
    "import numpy as np\n",
    "\n",
    "np.random.seed(12)\n",
    "inputs = np.around(np.random.uniform(size=5), decimals=2)\n",
    "\n",
    "print('The inputs to the network are {}'.format(inputs))"
   ]
  },
  {
   "cell_type": "markdown",
   "metadata": {
    "button": false,
    "new_sheet": false,
    "run_control": {
     "read_only": false
    }
   },
   "source": [
    "#### Use the _compute_weighted_sum_ function to compute the weighted sum at the first node in the first hidden layer.\n"
   ]
  },
  {
   "cell_type": "code",
   "execution_count": 40,
   "metadata": {
    "button": false,
    "jupyter": {
     "outputs_hidden": true
    },
    "new_sheet": false,
    "run_control": {
     "read_only": false
    }
   },
   "outputs": [
    {
     "name": "stdout",
     "output_type": "stream",
     "text": [
      "[1.8062]\n"
     ]
    }
   ],
   "source": [
    "### type your answer here\n",
    "weights = small_network['layer_1']['node_1']['weights']\n",
    "bias = small_network['layer_1']['node_1']['bias']\n",
    "weighted_sum = compute_weighted_sum(inputs, weights, bias)\n",
    "\n",
    "print(weighted_sum)"
   ]
  },
  {
   "cell_type": "markdown",
   "metadata": {
    "button": false,
    "new_sheet": false,
    "run_control": {
     "read_only": false
    }
   },
   "source": [
    "Double-click **here** for the solution.\n",
    "\n",
    "<!-- The correct answer is:\n",
    "node_weights = small_network['layer_1']['node_1']['weights']\n",
    "node_bias = small_network['layer_1']['node_1']['bias']\n",
    "\n",
    "weighted_sum = compute_weighted_sum(inputs, node_weights, node_bias)\n",
    "print('The weighted sum at the first node in the hidden layer is {}'.format(np.around(weighted_sum[0], decimals=4)))\n",
    "-->\n"
   ]
  },
  {
   "cell_type": "markdown",
   "metadata": {
    "button": false,
    "new_sheet": false,
    "run_control": {
     "read_only": false
    }
   },
   "source": [
    "<a id=\"item4\"></a>\n"
   ]
  },
  {
   "cell_type": "markdown",
   "metadata": {},
   "source": [
    "<a id='item14'></a>\n"
   ]
  },
  {
   "cell_type": "markdown",
   "metadata": {
    "button": false,
    "new_sheet": false,
    "run_control": {
     "read_only": false
    }
   },
   "source": [
    "## Compute Node Activation\n"
   ]
  },
  {
   "cell_type": "markdown",
   "metadata": {
    "button": false,
    "new_sheet": false,
    "run_control": {
     "read_only": false
    }
   },
   "source": [
    "Recall that the output of each node is simply a non-linear tranformation of the weighted sum. We use activation functions for this mapping. Let's use the sigmoid function as the activation function here. So let's define a function that takes a weighted sum as input and returns the non-linear transformation of the input using the sigmoid function.\n"
   ]
  },
  {
   "cell_type": "code",
   "execution_count": 41,
   "metadata": {
    "button": false,
    "jupyter": {
     "outputs_hidden": true
    },
    "new_sheet": false,
    "run_control": {
     "read_only": false
    }
   },
   "outputs": [],
   "source": [
    "def node_activation(weighted_sum):\n",
    "    return 1.0 / (1.0 + np.exp(-1 * weighted_sum))"
   ]
  },
  {
   "cell_type": "markdown",
   "metadata": {
    "button": false,
    "new_sheet": false,
    "run_control": {
     "read_only": false
    }
   },
   "source": [
    "#### Use the _node_activation_ function to compute the output of the first node in the first hidden layer.\n"
   ]
  },
  {
   "cell_type": "code",
   "execution_count": 50,
   "metadata": {
    "button": false,
    "jupyter": {
     "outputs_hidden": true
    },
    "new_sheet": false,
    "run_control": {
     "read_only": false
    }
   },
   "outputs": [
    {
     "name": "stdout",
     "output_type": "stream",
     "text": [
      "0.8589\n"
     ]
    }
   ],
   "source": [
    "### type your answer here\n",
    "node_output = node_activation(weighted_sum[0])\n",
    "print(f'{node_output:.4f}')"
   ]
  },
  {
   "cell_type": "markdown",
   "metadata": {
    "button": false,
    "new_sheet": false,
    "run_control": {
     "read_only": false
    }
   },
   "source": [
    "Double-click **here** for the solution.\n",
    "\n",
    "<!-- The correct answer is:\n",
    "node_output  = node_activation(compute_weighted_sum(inputs, node_weights, node_bias))\n",
    "print('The output of the first node in the hidden layer is {}'.format(np.around(node_output[0], decimals=4)))\n",
    "-->\n"
   ]
  },
  {
   "cell_type": "markdown",
   "metadata": {
    "button": false,
    "new_sheet": false,
    "run_control": {
     "read_only": false
    }
   },
   "source": [
    "\n"
   ]
  },
  {
   "cell_type": "markdown",
   "metadata": {
    "button": false,
    "new_sheet": false,
    "run_control": {
     "read_only": false
    }
   },
   "source": [
    "<a id=\"item5\"></a>\n"
   ]
  },
  {
   "cell_type": "markdown",
   "metadata": {},
   "source": [
    "<a id='item15'></a>\n"
   ]
  },
  {
   "cell_type": "markdown",
   "metadata": {
    "button": false,
    "new_sheet": false,
    "run_control": {
     "read_only": false
    }
   },
   "source": [
    "## Forward Propagation\n"
   ]
  },
  {
   "cell_type": "markdown",
   "metadata": {
    "button": false,
    "new_sheet": false,
    "run_control": {
     "read_only": false
    }
   },
   "source": [
    "The final piece of building a neural network that can perform predictions is to put everything together. So let's create a function that applies the _compute_weighted_sum_ and _node_activation_ functions to each node in the network and propagates the data all the way to the output layer and outputs a prediction for each node in the output layer.\n"
   ]
  },
  {
   "cell_type": "markdown",
   "metadata": {
    "button": false,
    "new_sheet": false,
    "run_control": {
     "read_only": false
    }
   },
   "source": [
    "The way we are going to accomplish this is through the following procedure:\n",
    "\n",
    "1.  Start with the input layer as the input to the first hidden layer.\n",
    "2.  Compute the weighted sum at the nodes of the current layer.\n",
    "3.  Compute the output of the nodes of the current layer.\n",
    "4.  Set the output of the current layer to be the input to the next layer.\n",
    "5.  Move to the next layer in the network.\n",
    "6.  Repeat steps 2 - 4 until we compute the output of the output layer.\n"
   ]
  },
  {
   "cell_type": "code",
   "execution_count": 51,
   "metadata": {
    "button": false,
    "jupyter": {
     "outputs_hidden": true
    },
    "new_sheet": false,
    "run_control": {
     "read_only": false
    }
   },
   "outputs": [],
   "source": [
    "def forward_propagate(network, inputs):\n",
    "    \n",
    "    layer_inputs = list(inputs) # start with the input layer as the input to the first hidden layer\n",
    "    \n",
    "    for layer in network:\n",
    "        \n",
    "        layer_data = network[layer]\n",
    "        \n",
    "        layer_outputs = [] \n",
    "        for layer_node in layer_data:\n",
    "        \n",
    "            node_data = layer_data[layer_node]\n",
    "        \n",
    "            # compute the weighted sum and the output of each node at the same time \n",
    "            node_output = node_activation(compute_weighted_sum(layer_inputs, node_data['weights'], node_data['bias']))\n",
    "            layer_outputs.append(np.around(node_output[0], decimals=4))\n",
    "            \n",
    "        if layer != 'output':\n",
    "            print('The outputs of the nodes in hidden layer number {} is {}'.format(layer.split('_')[1], layer_outputs))\n",
    "    \n",
    "        layer_inputs = layer_outputs # set the output of this layer to be the input to next layer\n",
    "\n",
    "    network_predictions = layer_outputs\n",
    "    return network_predictions"
   ]
  },
  {
   "cell_type": "markdown",
   "metadata": {
    "button": false,
    "new_sheet": false,
    "run_control": {
     "read_only": false
    }
   },
   "source": [
    "#### Use the _forward_propagate_ function to compute the prediction of our small network\n"
   ]
  },
  {
   "cell_type": "code",
   "execution_count": 52,
   "metadata": {
    "button": false,
    "jupyter": {
     "outputs_hidden": true
    },
    "new_sheet": false,
    "run_control": {
     "read_only": false
    }
   },
   "outputs": [
    {
     "name": "stdout",
     "output_type": "stream",
     "text": [
      "The outputs of the nodes in hidden layer number 1 is [0.8589, 0.8183, 0.7607]\n",
      "The outputs of the nodes in hidden layer number 2 is [0.8862, 0.7471]\n",
      "The outputs of the nodes in hidden layer number 3 is [0.7643, 0.789, 0.6849]\n"
     ]
    },
    {
     "data": {
      "text/plain": [
       "[0.814]"
      ]
     },
     "execution_count": 52,
     "metadata": {},
     "output_type": "execute_result"
    }
   ],
   "source": [
    "### type your answser here\n",
    "\n",
    "forward_propagate(small_network, inputs)\n"
   ]
  },
  {
   "cell_type": "markdown",
   "metadata": {
    "button": false,
    "new_sheet": false,
    "run_control": {
     "read_only": false
    }
   },
   "source": [
    "Double-click **here** for the solution.\n",
    "\n",
    "<!-- The correct answer is:\n",
    "predictions = forward_propagate(small_network, inputs)\n",
    "print('The predicted value by the network for the given input is {}'.format(np.around(predictions[0], decimals=4)))\n",
    "-->\n"
   ]
  },
  {
   "cell_type": "markdown",
   "metadata": {
    "button": false,
    "new_sheet": false,
    "run_control": {
     "read_only": false
    }
   },
   "source": [
    "So we built the code to define a neural network. We can specify the number of inputs that a neural network can take, the number of hidden layers as well as the number of nodes in each hidden layer, and the number of nodes in the output layer.\n"
   ]
  },
  {
   "cell_type": "markdown",
   "metadata": {
    "button": false,
    "new_sheet": false,
    "run_control": {
     "read_only": false
    }
   },
   "source": [
    "We first use the _initialize_network_ to create our neural network and define its weights and biases.\n"
   ]
  },
  {
   "cell_type": "code",
   "execution_count": 53,
   "metadata": {
    "button": false,
    "jupyter": {
     "outputs_hidden": true
    },
    "new_sheet": false,
    "run_control": {
     "read_only": false
    }
   },
   "outputs": [],
   "source": [
    "my_network = initialize_network(5, 3, [2, 3, 2], 3)"
   ]
  },
  {
   "cell_type": "markdown",
   "metadata": {
    "button": false,
    "new_sheet": false,
    "run_control": {
     "read_only": false
    }
   },
   "source": [
    "Then, for a given input,\n"
   ]
  },
  {
   "cell_type": "code",
   "execution_count": 54,
   "metadata": {
    "button": false,
    "jupyter": {
     "outputs_hidden": true
    },
    "new_sheet": false,
    "run_control": {
     "read_only": false
    }
   },
   "outputs": [],
   "source": [
    "inputs = np.around(np.random.uniform(size=5), decimals=2)"
   ]
  },
  {
   "cell_type": "markdown",
   "metadata": {
    "button": false,
    "new_sheet": false,
    "run_control": {
     "read_only": false
    }
   },
   "source": [
    "we compute the network predictions.\n"
   ]
  },
  {
   "cell_type": "code",
   "execution_count": 55,
   "metadata": {
    "button": false,
    "jupyter": {
     "outputs_hidden": true
    },
    "new_sheet": false,
    "run_control": {
     "read_only": false
    }
   },
   "outputs": [
    {
     "name": "stdout",
     "output_type": "stream",
     "text": [
      "The outputs of the nodes in hidden layer number 1 is [0.8857, 0.8889]\n",
      "The outputs of the nodes in hidden layer number 2 is [0.7822, 0.6965, 0.7411]\n",
      "The outputs of the nodes in hidden layer number 3 is [0.868, 0.881]\n",
      "The predicted values by the network for the given input are [0.8952, 0.8222, 0.8035]\n"
     ]
    }
   ],
   "source": [
    "predictions = forward_propagate(my_network, inputs)\n",
    "print('The predicted values by the network for the given input are {}'.format(predictions))"
   ]
  },
  {
   "cell_type": "markdown",
   "metadata": {
    "button": false,
    "new_sheet": false,
    "run_control": {
     "read_only": false
    }
   },
   "source": [
    "Feel free to play around with the code by creating different networks of different structures and enjoy making predictions using the _forward_propagate_ function.\n"
   ]
  },
  {
   "cell_type": "code",
   "execution_count": 57,
   "metadata": {
    "button": false,
    "jupyter": {
     "outputs_hidden": true
    },
    "new_sheet": false,
    "run_control": {
     "read_only": false
    }
   },
   "outputs": [
    {
     "name": "stdout",
     "output_type": "stream",
     "text": [
      "The outputs of the nodes in hidden layer number 1 is [1.0, 1.0, 1.0, 1.0, 1.0, 1.0, 1.0, 1.0, 1.0, 1.0]\n",
      "The outputs of the nodes in hidden layer number 2 is [0.998, 0.9936, 0.9951, 0.9986, 0.9939, 0.9988, 0.9975, 0.9961, 0.9941, 0.9988]\n",
      "The outputs of the nodes in hidden layer number 3 is [0.9918, 0.9873, 0.9968, 0.9979, 0.9927, 0.9899, 0.9986, 0.9859, 0.9976, 0.997]\n",
      "The outputs of the nodes in hidden layer number 4 is [0.9966, 0.9973, 0.9881, 0.9917, 0.9961, 0.9402, 0.9937, 0.9929, 0.9986, 0.9606]\n",
      "The outputs of the nodes in hidden layer number 5 is [0.9926, 0.9945, 0.9961, 0.9942, 0.9914, 0.9953, 0.9879, 0.9936, 0.9979, 0.9989]\n",
      "The outputs of the nodes in hidden layer number 6 is [0.9935, 0.9565, 0.9988, 0.9989, 0.9987, 0.9935, 0.9874, 0.9983, 0.9982, 0.9978]\n",
      "The outputs of the nodes in hidden layer number 7 is [0.986, 0.9991, 0.9902, 0.9994, 0.9977, 0.999, 0.994, 0.9939, 0.987, 0.9861]\n",
      "The outputs of the nodes in hidden layer number 8 is [0.996, 0.9975, 0.9985, 0.9969, 0.9985, 0.9961, 0.9942, 0.9987, 0.9878, 0.9956]\n",
      "The outputs of the nodes in hidden layer number 9 is [0.9828, 0.9992, 0.9988, 0.9946, 0.9959, 0.9985, 0.997, 0.9959, 0.9989, 0.9976]\n",
      "The outputs of the nodes in hidden layer number 10 is [0.9794, 0.9973, 0.9983, 0.9798, 0.9962, 0.9959, 0.9963, 0.9986, 0.9969, 0.9947]\n",
      "The outputs of the nodes in hidden layer number 11 is [0.999, 0.9992, 0.9921, 0.9843, 0.9959, 0.9972, 0.9935, 0.9936, 0.9967, 0.9911]\n",
      "The outputs of the nodes in hidden layer number 12 is [0.9981, 0.9981, 0.9959, 0.9982, 0.9956, 0.9946, 0.9924, 0.9892, 0.9474, 0.9783]\n",
      "The outputs of the nodes in hidden layer number 13 is [0.9994, 0.9988, 0.9639, 0.998, 0.9981, 0.9971, 0.984, 0.998, 0.9959, 0.9985]\n",
      "The outputs of the nodes in hidden layer number 14 is [0.9913, 0.9995, 0.9981, 0.9885, 0.9908, 0.9945, 0.9974, 0.9937, 0.9817, 0.9973]\n",
      "The outputs of the nodes in hidden layer number 15 is [0.9955, 0.9961, 0.9961, 0.9931, 0.9961, 0.9942, 0.9918, 0.9878, 0.9949, 0.9909]\n",
      "The outputs of the nodes in hidden layer number 16 is [0.9949, 0.9982, 0.9967, 0.9976, 0.9989, 0.9882, 0.9937, 0.9988, 0.9957, 0.9966]\n",
      "The outputs of the nodes in hidden layer number 17 is [0.9958, 0.972, 0.9961, 0.998, 0.9974, 0.9222, 0.9968, 0.9965, 0.9985, 0.9963]\n",
      "The outputs of the nodes in hidden layer number 18 is [0.9949, 0.9916, 0.9976, 0.9974, 0.9981, 0.9859, 0.9908, 0.9978, 0.991, 0.9985]\n",
      "The outputs of the nodes in hidden layer number 19 is [0.9913, 0.9943, 0.9953, 0.9869, 0.9963, 0.9753, 0.9988, 0.9968, 0.9972, 0.996]\n",
      "The outputs of the nodes in hidden layer number 20 is [0.995, 0.9989, 0.9915, 0.9855, 0.9948, 0.9925, 0.9979, 0.9993, 0.9916, 0.9666]\n",
      "The outputs of the nodes in hidden layer number 21 is [0.9921, 0.9947, 0.9886, 0.9871, 0.9908, 0.9973, 0.9991, 0.9972, 0.9971, 0.9927]\n",
      "The outputs of the nodes in hidden layer number 22 is [0.9776, 0.9984, 0.9954, 0.986, 0.9937, 0.9794, 0.9967, 0.9956, 0.9961, 0.9811]\n",
      "The outputs of the nodes in hidden layer number 23 is [0.9935, 0.9974, 0.998, 0.9972, 0.999, 0.9937, 0.9945, 0.9871, 0.9924, 0.9961]\n",
      "The outputs of the nodes in hidden layer number 24 is [0.9901, 0.9952, 0.9923, 0.9974, 0.9576, 0.9976, 0.9929, 0.9979, 0.9943, 0.9961]\n",
      "The outputs of the nodes in hidden layer number 25 is [0.9958, 0.9957, 0.9977, 0.9983, 0.9932, 0.9965, 0.999, 0.9959, 0.9964, 0.9955]\n",
      "The outputs of the nodes in hidden layer number 26 is [0.9978, 0.9974, 0.9958, 0.9977, 0.996, 0.9911, 0.9982, 0.9943, 0.9986, 0.9992]\n",
      "The outputs of the nodes in hidden layer number 27 is [0.9967, 0.9938, 0.9982, 0.9991, 0.993, 0.9968, 0.9961, 0.9981, 0.9957, 0.9901]\n",
      "The outputs of the nodes in hidden layer number 28 is [0.9928, 0.9861, 0.9957, 0.9981, 0.9978, 0.9819, 0.9907, 0.9954, 0.9979, 0.9961]\n",
      "The outputs of the nodes in hidden layer number 29 is [0.9987, 0.9796, 0.997, 0.9992, 0.9726, 0.9926, 0.9935, 0.9868, 0.9995, 0.9985]\n",
      "The outputs of the nodes in hidden layer number 30 is [0.999, 0.9944, 0.9934, 0.998, 0.998, 0.9976, 0.9928, 0.9945, 0.9985, 0.9923]\n",
      "The outputs of the nodes in hidden layer number 31 is [0.9944, 0.9915, 0.9839, 0.9916, 0.9961, 0.9952, 0.9892, 0.9972, 0.9919, 0.9584]\n",
      "The outputs of the nodes in hidden layer number 32 is [0.9963, 0.9963, 0.9845, 0.998, 0.9992, 0.9744, 0.9925, 0.9749, 0.9984, 0.9964]\n",
      "The outputs of the nodes in hidden layer number 33 is [0.9992, 0.999, 0.9968, 0.9807, 0.9988, 0.981, 0.9948, 0.9918, 0.9823, 0.9963]\n",
      "The outputs of the nodes in hidden layer number 34 is [0.9984, 0.9904, 0.9985, 0.9936, 0.9835, 0.9858, 0.9973, 0.9978, 0.9868, 0.9951]\n",
      "The outputs of the nodes in hidden layer number 35 is [0.9845, 0.9891, 0.9945, 0.9921, 0.9945, 0.9958, 0.9966, 0.9969, 0.999, 0.9925]\n",
      "The outputs of the nodes in hidden layer number 36 is [0.9964, 0.9975, 0.956, 0.9931, 0.99, 0.9922, 0.9821, 0.998, 0.9959, 0.9313]\n",
      "The outputs of the nodes in hidden layer number 37 is [0.999, 0.9979, 0.997, 0.9893, 0.997, 0.9946, 0.9964, 0.9938, 0.9994, 0.9915]\n",
      "The outputs of the nodes in hidden layer number 38 is [0.9934, 0.9967, 0.9963, 0.9726, 0.9878, 0.9995, 0.9939, 0.9964, 0.9974, 0.9923]\n",
      "The outputs of the nodes in hidden layer number 39 is [0.9994, 0.9984, 0.9979, 0.9991, 0.9888, 0.9974, 0.9992, 0.9982, 0.9943, 0.9993]\n",
      "The outputs of the nodes in hidden layer number 40 is [0.9985, 0.9984, 0.9991, 0.9893, 0.994, 0.9988, 0.9974, 0.9985, 0.9991, 0.9923]\n",
      "The outputs of the nodes in hidden layer number 41 is [0.9882, 0.9911, 0.9872, 0.9972, 0.9938, 0.9987, 0.9909, 0.9968, 0.9937, 0.9974]\n",
      "The outputs of the nodes in hidden layer number 42 is [0.9958, 0.9983, 0.9949, 0.995, 0.9954, 0.995, 0.9925, 0.9972, 0.9989, 0.9934]\n",
      "The outputs of the nodes in hidden layer number 43 is [0.9927, 0.9974, 0.9782, 0.9937, 0.9941, 0.9925, 0.9919, 0.9866, 0.9962, 0.9944]\n",
      "The outputs of the nodes in hidden layer number 44 is [0.981, 0.9863, 0.998, 0.9959, 0.9927, 0.9931, 0.9971, 0.977, 0.9934, 0.9589]\n",
      "The outputs of the nodes in hidden layer number 45 is [0.9975, 0.9976, 0.9948, 0.9975, 0.991, 0.9888, 0.9947, 0.9965, 0.9939, 0.9962]\n",
      "The outputs of the nodes in hidden layer number 46 is [0.9926, 0.9948, 0.9948, 0.9906, 0.9969, 0.9976, 0.9938, 0.998, 0.9988, 0.9977]\n",
      "The outputs of the nodes in hidden layer number 47 is [0.9992, 0.9996, 0.9973, 0.9987, 0.9803, 0.9953, 0.9778, 0.998, 0.9974, 0.9974]\n",
      "The outputs of the nodes in hidden layer number 48 is [0.9946, 0.9932, 0.9931, 0.9983, 0.9924, 0.9951, 0.9983, 0.9981, 0.9988, 0.9922]\n",
      "The outputs of the nodes in hidden layer number 49 is [0.9961, 0.9929, 0.9982, 0.9994, 0.9971, 0.9988, 0.9849, 0.9913, 0.996, 0.9943]\n",
      "The outputs of the nodes in hidden layer number 50 is [0.9976, 0.9857, 0.9977, 0.9968, 0.9946, 0.9805, 0.9978, 0.9989, 0.9915, 0.9964]\n",
      "The outputs of the nodes in hidden layer number 51 is [0.9968, 0.9985, 0.9979, 0.9986, 0.9962, 0.999, 0.9949, 0.9751, 0.9981, 0.9979]\n",
      "The outputs of the nodes in hidden layer number 52 is [0.9936, 0.9969, 0.9976, 0.9969, 0.9982, 0.9973, 0.9965, 0.9981, 0.9921, 0.9826]\n",
      "The outputs of the nodes in hidden layer number 53 is [0.9948, 0.9936, 0.9982, 0.9903, 0.9966, 0.9977, 0.9988, 0.9878, 0.9989, 0.9983]\n",
      "The outputs of the nodes in hidden layer number 54 is [0.9797, 0.994, 0.9896, 0.9884, 0.9849, 0.96, 0.9986, 0.9858, 0.9936, 0.995]\n",
      "The outputs of the nodes in hidden layer number 55 is [0.9927, 0.997, 0.9903, 0.9957, 0.9963, 0.9948, 0.9958, 0.9987, 0.9985, 0.9943]\n",
      "The outputs of the nodes in hidden layer number 56 is [0.9969, 0.9916, 0.9916, 0.994, 0.999, 0.9938, 0.9972, 0.9987, 0.9912, 0.9976]\n",
      "The outputs of the nodes in hidden layer number 57 is [0.9886, 0.9969, 0.9943, 0.9932, 0.9976, 0.9986, 0.9978, 0.9967, 0.9827, 0.9873]\n",
      "The outputs of the nodes in hidden layer number 58 is [0.9713, 0.9989, 0.9957, 0.9995, 0.9949, 0.9865, 0.9993, 0.9957, 0.9993, 0.9969]\n",
      "The outputs of the nodes in hidden layer number 59 is [0.9978, 0.9982, 0.9998, 0.9933, 0.9935, 0.9919, 0.9974, 0.9934, 0.9811, 0.9913]\n",
      "The outputs of the nodes in hidden layer number 60 is [0.9946, 0.9982, 0.9938, 0.997, 0.9878, 0.9989, 0.9857, 0.9957, 0.9952, 0.9983]\n",
      "The outputs of the nodes in hidden layer number 61 is [0.9975, 0.9959, 0.9811, 0.9996, 0.9995, 0.9991, 0.9946, 0.994, 0.9952, 0.9971]\n",
      "The outputs of the nodes in hidden layer number 62 is [0.9979, 0.9975, 0.9977, 0.9919, 0.9962, 0.9952, 0.9988, 0.9983, 0.9927, 0.9974]\n",
      "The outputs of the nodes in hidden layer number 63 is [0.9981, 0.9991, 0.999, 0.9872, 0.999, 0.9968, 0.9969, 0.9968, 0.9995, 0.9989]\n",
      "The outputs of the nodes in hidden layer number 64 is [0.999, 0.9876, 0.9983, 0.9956, 0.9908, 0.9951, 0.9634, 0.9987, 0.9902, 0.998]\n",
      "The outputs of the nodes in hidden layer number 65 is [0.9949, 0.9961, 0.9961, 0.9822, 0.9958, 0.9973, 0.9871, 0.9979, 0.9985, 0.9983]\n",
      "The outputs of the nodes in hidden layer number 66 is [0.997, 0.9875, 0.9883, 0.9988, 0.9715, 0.9933, 0.9936, 0.9942, 0.9852, 0.9998]\n",
      "The outputs of the nodes in hidden layer number 67 is [0.9968, 0.9936, 0.9986, 0.9787, 0.995, 0.9956, 0.999, 0.9949, 0.9976, 0.9976]\n",
      "The outputs of the nodes in hidden layer number 68 is [0.9907, 0.9955, 0.9962, 0.9895, 0.9982, 0.9939, 0.9924, 0.9975, 0.9982, 0.9946]\n",
      "The outputs of the nodes in hidden layer number 69 is [0.9846, 0.9981, 0.9932, 0.9982, 0.9919, 0.9978, 0.9965, 0.9967, 0.9989, 0.9989]\n",
      "The outputs of the nodes in hidden layer number 70 is [0.9983, 0.9971, 0.9981, 0.9973, 0.9983, 0.9956, 0.9904, 0.9972, 0.9976, 0.9971]\n",
      "The outputs of the nodes in hidden layer number 71 is [0.971, 0.9959, 0.9877, 0.9814, 0.9966, 0.9966, 0.9987, 0.9895, 0.9988, 0.9966]\n",
      "The outputs of the nodes in hidden layer number 72 is [0.9919, 0.9968, 0.9958, 0.9962, 0.9744, 0.9987, 0.9981, 0.9903, 0.9924, 0.9948]\n",
      "The outputs of the nodes in hidden layer number 73 is [0.998, 0.9876, 0.999, 0.9868, 0.9942, 0.9957, 0.9987, 0.9914, 0.9975, 0.9982]\n",
      "The outputs of the nodes in hidden layer number 74 is [0.8857, 0.9993, 0.9976, 0.991, 0.9993, 0.9953, 0.9929, 0.993, 0.9991, 0.9917]\n",
      "The outputs of the nodes in hidden layer number 75 is [0.9972, 0.994, 0.9838, 0.9781, 0.984, 0.9981, 0.9965, 0.9844, 0.9957, 0.9982]\n",
      "The outputs of the nodes in hidden layer number 76 is [0.9992, 0.9994, 0.9778, 0.9897, 0.9979, 0.999, 0.9981, 0.9965, 0.9924, 0.9914]\n",
      "The outputs of the nodes in hidden layer number 77 is [0.9977, 0.9775, 0.9966, 0.9976, 0.9992, 0.9964, 0.9961, 0.9931, 0.9964, 0.9991]\n",
      "The outputs of the nodes in hidden layer number 78 is [0.9981, 0.9771, 0.9987, 0.9942, 0.9956, 0.9901, 0.9977, 0.9962, 0.9991, 0.9988]\n",
      "The outputs of the nodes in hidden layer number 79 is [0.9974, 0.9989, 0.9904, 0.9971, 0.9891, 0.9945, 0.9794, 0.9652, 0.9993, 0.9967]\n",
      "The outputs of the nodes in hidden layer number 80 is [0.9952, 0.9986, 0.9955, 0.9907, 0.9986, 0.9924, 0.9916, 0.9954, 0.9978, 0.9957]\n",
      "The outputs of the nodes in hidden layer number 81 is [0.9984, 0.9947, 0.9994, 0.9991, 0.9906, 0.9942, 0.9808, 0.9995, 0.9833, 0.9934]\n",
      "The outputs of the nodes in hidden layer number 82 is [0.9886, 0.9988, 0.9977, 0.9907, 0.9991, 0.9976, 0.9968, 0.9967, 0.9928, 0.9994]\n",
      "The outputs of the nodes in hidden layer number 83 is [0.9982, 0.9945, 0.9976, 0.9972, 0.9926, 0.9931, 0.999, 0.9803, 0.9904, 0.9972]\n",
      "The outputs of the nodes in hidden layer number 84 is [0.9978, 0.9873, 0.9883, 0.9964, 0.9831, 0.9956, 0.9953, 0.9917, 0.9907, 0.9848]\n",
      "The outputs of the nodes in hidden layer number 85 is [0.997, 0.9842, 0.9965, 0.9957, 0.9929, 0.9976, 0.9992, 0.9984, 0.9938, 0.9977]\n",
      "The outputs of the nodes in hidden layer number 86 is [0.9993, 0.9925, 0.9941, 0.9986, 0.9976, 0.9956, 0.9979, 0.9866, 0.9952, 0.9954]\n",
      "The outputs of the nodes in hidden layer number 87 is [0.9968, 0.9994, 0.9924, 0.9957, 0.9974, 0.9508, 0.9973, 0.9774, 0.9962, 0.9947]\n",
      "The outputs of the nodes in hidden layer number 88 is [0.9978, 0.9949, 0.997, 0.9973, 0.9955, 0.9993, 0.9985, 0.9976, 0.9863, 0.9946]\n",
      "The outputs of the nodes in hidden layer number 89 is [0.998, 0.9973, 0.9856, 0.979, 0.9967, 0.9929, 0.9985, 0.9967, 0.9923, 0.988]\n",
      "The outputs of the nodes in hidden layer number 90 is [0.9973, 0.9987, 0.9969, 0.9971, 0.9748, 0.9941, 0.9987, 0.9973, 0.997, 0.9915]\n",
      "The outputs of the nodes in hidden layer number 91 is [0.9928, 0.9886, 0.9911, 0.9975, 0.9968, 0.9958, 0.9981, 0.9947, 0.9947, 0.9945]\n",
      "The outputs of the nodes in hidden layer number 92 is [0.9763, 0.9981, 0.9604, 0.998, 0.9729, 0.9957, 0.9989, 0.9945, 0.9976, 0.9885]\n",
      "The outputs of the nodes in hidden layer number 93 is [0.9958, 0.9643, 0.9978, 0.9873, 0.9986, 0.9849, 0.9916, 0.9958, 0.9932, 0.9994]\n",
      "The outputs of the nodes in hidden layer number 94 is [0.9982, 0.9931, 0.9896, 0.9987, 0.9838, 0.9775, 0.9929, 0.997, 0.9958, 0.9932]\n",
      "The outputs of the nodes in hidden layer number 95 is [0.9986, 0.9667, 0.9894, 0.9973, 0.9959, 0.9915, 0.9851, 0.9981, 0.997, 0.9737]\n",
      "The outputs of the nodes in hidden layer number 96 is [0.9986, 0.9854, 0.9896, 0.9989, 0.9985, 0.9915, 0.9959, 0.9949, 0.996, 0.9915]\n",
      "The outputs of the nodes in hidden layer number 97 is [0.9989, 0.9972, 0.9952, 0.9979, 0.9968, 0.9967, 0.994, 0.9831, 0.9975, 0.9968]\n",
      "The outputs of the nodes in hidden layer number 98 is [0.9751, 0.9887, 0.9957, 0.9918, 0.9965, 0.9831, 0.9987, 0.9986, 0.9971, 0.9987]\n",
      "The outputs of the nodes in hidden layer number 99 is [0.9977, 0.9988, 0.9975, 0.992, 0.9902, 0.9982, 0.9992, 0.9975, 0.9979, 0.9997]\n",
      "The outputs of the nodes in hidden layer number 100 is [0.997, 0.9989, 0.9993, 0.9991, 0.9961, 0.9979, 0.9787, 0.9965, 0.99, 0.9855]\n",
      "The predicted values by the network for the given input are [0.9981, 0.9708, 0.9862, 0.991, 0.997, 0.9771, 0.9959, 0.9903, 0.9897, 0.9962, 0.993, 0.9989, 0.9956, 0.991, 0.9967, 0.9949, 0.9944, 0.998, 0.9944, 0.9978]\n"
     ]
    }
   ],
   "source": [
    "### create a network\n",
    "inputs = 100\n",
    "hidden_layers = 100\n",
    "nodes_per_layer = [10] * 100\n",
    "outputs = 20\n",
    "\n",
    "my_network = initialize_network(inputs, hidden_layers, nodes_per_layer, outputs)\n",
    "inputs = np.around(np.random.uniform(size=inputs), decimals=2)\n",
    "predictions = forward_propagate(my_network, inputs)\n",
    "print('The predicted values by the network for the given input are {}'.format(predictions))"
   ]
  },
  {
   "cell_type": "code",
   "execution_count": null,
   "metadata": {
    "button": false,
    "collapsed": true,
    "jupyter": {
     "outputs_hidden": true
    },
    "new_sheet": false,
    "run_control": {
     "read_only": false
    }
   },
   "outputs": [],
   "source": [
    "### create another network\n",
    "\n",
    "\n",
    "\n"
   ]
  },
  {
   "cell_type": "markdown",
   "metadata": {
    "button": false,
    "new_sheet": false,
    "run_control": {
     "read_only": false
    }
   },
   "source": [
    "### Thank you for completing this lab!\n",
    "\n",
    "This notebook was created by [Alex Aklson](https://www.linkedin.com/in/aklson?cm_mmc=Email_Newsletter-_-Developer_Ed%2BTech-_-WW_WW-_-SkillsNetwork-Courses-IBMDeveloperSkillsNetwork-DL0101EN-SkillsNetwork-20718188&cm_mmca1=000026UJ&cm_mmca2=10006555&cm_mmca3=M12345678&cvosrc=email.Newsletter.M12345678&cvo_campaign=000026UJ&cm_mmc=Email_Newsletter-_-Developer_Ed%2BTech-_-WW_WW-_-SkillsNetwork-Courses-IBMDeveloperSkillsNetwork-DL0101EN-SkillsNetwork-20718188&cm_mmca1=000026UJ&cm_mmca2=10006555&cm_mmca3=M12345678&cvosrc=email.Newsletter.M12345678&cvo_campaign=000026UJ). I hope you found this lab interesting and educational. Feel free to contact me if you have any questions!\n"
   ]
  },
  {
   "cell_type": "markdown",
   "metadata": {},
   "source": [
    "## Change Log\n",
    "\n",
    "| Date (YYYY-MM-DD) | Version | Changed By | Change Description                                          |\n",
    "| ----------------- | ------- | ---------- | ----------------------------------------------------------- |\n",
    "| 2020-09-21        | 2.0     | Srishti    | Migrated Lab to Markdown and added to course repo in GitLab |\n",
    "\n",
    "<hr>\n",
    "\n",
    "## <h3 align=\"center\"> © IBM Corporation 2020. All rights reserved. <h3/>\n"
   ]
  },
  {
   "cell_type": "markdown",
   "metadata": {
    "button": false,
    "new_sheet": false,
    "run_control": {
     "read_only": false
    }
   },
   "source": [
    "This notebook is part of a course on **Coursera** called _Introduction to Deep Learning & Neural Networks with Keras_. If you accessed this notebook outside the course, you can take this course online by clicking [here](https://cocl.us/DL0101EN_Coursera_Week1_LAB1).\n"
   ]
  },
  {
   "cell_type": "markdown",
   "metadata": {
    "button": false,
    "new_sheet": false,
    "run_control": {
     "read_only": false
    }
   },
   "source": [
    "<hr>\n",
    "\n",
    "Copyright © 2019 [IBM Developer Skills Network](https://cognitiveclass.ai?utm_source=bducopyrightlink&utm_medium=dswb&utm_campaign=bdu&cm_mmc=Email_Newsletter-_-Developer_Ed%2BTech-_-WW_WW-_-SkillsNetwork-Courses-IBMDeveloperSkillsNetwork-DL0101EN-SkillsNetwork-20718188&cm_mmca1=000026UJ&cm_mmca2=10006555&cm_mmca3=M12345678&cvosrc=email.Newsletter.M12345678&cvo_campaign=000026UJ&cm_mmc=Email_Newsletter-_-Developer_Ed%2BTech-_-WW_WW-_-SkillsNetwork-Courses-IBMDeveloperSkillsNetwork-DL0101EN-SkillsNetwork-20718188&cm_mmca1=000026UJ&cm_mmca2=10006555&cm_mmca3=M12345678&cvosrc=email.Newsletter.M12345678&cvo_campaign=000026UJ&cm_mmc=Email_Newsletter-_-Developer_Ed%2BTech-_-WW_WW-_-SkillsNetwork-Courses-IBMDeveloperSkillsNetwork-DL0101EN-SkillsNetwork-20718188&cm_mmca1=000026UJ&cm_mmca2=10006555&cm_mmca3=M12345678&cvosrc=email.Newsletter.M12345678&cvo_campaign=000026UJ&cm_mmc=Email_Newsletter-_-Developer_Ed%2BTech-_-WW_WW-_-SkillsNetwork-Courses-IBMDeveloperSkillsNetwork-DL0101EN-SkillsNetwork-20718188&cm_mmca1=000026UJ&cm_mmca2=10006555&cm_mmca3=M12345678&cvosrc=email.Newsletter.M12345678&cvo_campaign=000026UJ). This notebook and its source code are released under the terms of the [MIT License](https://bigdatauniversity.com/mit-license?cm_mmc=Email_Newsletter-_-Developer_Ed%2BTech-_-WW_WW-_-SkillsNetwork-Courses-IBMDeveloperSkillsNetwork-DL0101EN-SkillsNetwork-20718188&cm_mmca1=000026UJ&cm_mmca2=10006555&cm_mmca3=M12345678&cvosrc=email.Newsletter.M12345678&cvo_campaign=000026UJ&cm_mmc=Email_Newsletter-_-Developer_Ed%2BTech-_-WW_WW-_-SkillsNetwork-Courses-IBMDeveloperSkillsNetwork-DL0101EN-SkillsNetwork-20718188&cm_mmca1=000026UJ&cm_mmca2=10006555&cm_mmca3=M12345678&cvosrc=email.Newsletter.M12345678&cvo_campaign=000026UJ).\n"
   ]
  }
 ],
 "metadata": {
  "kernelspec": {
   "display_name": "Python 3",
   "language": "python",
   "name": "python3"
  },
  "language_info": {
   "codemirror_mode": {
    "name": "ipython",
    "version": 3
   },
   "file_extension": ".py",
   "mimetype": "text/x-python",
   "name": "python",
   "nbconvert_exporter": "python",
   "pygments_lexer": "ipython3",
   "version": "3.8.5"
  }
 },
 "nbformat": 4,
 "nbformat_minor": 4
}
