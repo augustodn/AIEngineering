{
 "cells": [
  {
   "cell_type": "markdown",
   "metadata": {},
   "source": [
    "<a href=\"https://www.skills.network/\"><img src=\"https://cf-courses-data.s3.us.cloud-object-storage.appdomain.cloud/IBM-DL0120ENedX/labs/Template%20for%20Instructional%20Hands-on%20Labs/images/IDSNlogo.png\" width=\"400px\" align=\"center\"></a>\n",
    "\n",
    "<h1 align=\"center\"><font size=\"5\">RESTRICTED BOLTZMANN MACHINES</font></h1>\n"
   ]
  },
  {
   "cell_type": "markdown",
   "metadata": {},
   "source": [
    "<h3>Introduction</h3>\n",
    "<b>Restricted Boltzmann Machine (RBM):</b>  RBMs are shallow neural nets that learn to reconstruct data by themselves in an unsupervised fashion.  \n",
    "\n",
    "<h4>Why are RBMs important?</h4>\n",
    "An RBM are a basic form of autoencoder.  It can automatically extract <b>meaningful</b> features from a given input.\n",
    "\n",
    "<h4>How does it work?</h4>\n",
    "RBM is a 2 layer neural network. Simply, RBM takes the inputs and translates those into a set of binary values that represents them in the hidden layer. Then, these numbers can be translated back to reconstruct the inputs. Through several forward and backward passes, the RBM will be trained, and a trained RBM can reveal which features are the most important ones when detecting patterns.   \n",
    "\n",
    "<h4>What are the applications of an RBM?</h4>\n",
    "RBM is useful for <a href='http://www.cs.utoronto.ca/~hinton/absps/netflixICML.pdf'>  Collaborative Filtering</a>, dimensionality reduction, classification, regression, feature learning, topic modeling and even <b>Deep Belief Networks</b>.\n",
    "\n",
    "<h4>Is RBM a generative or Discriminative model?</h4>\n",
    "RBM is a generative model. Let me explain it by first, see what is different between discriminative and generative models: \n",
    "\n",
    "<b>Discriminative:</b> Consider a classification problem where we want to learn to distinguish between Sedan cars (y = 1) and SUV cars (y = 0), based on some features of cars. Given a training set, an algorithm like logistic regression tries to find a straight line, or <i>decision boundary</i>, that separates the suv and sedan.  \n",
    "\n",
    "<b>Generative:</b> looking at cars, we can build a model of what Sedan cars look like. Then, looking at SUVs, we can build a separate model of what SUV cars look like. Finally, to classify a new car, we can match the new car against the Sedan model, and match it against the SUV model, to see whether the new car looks more like the SUV or Sedan. \n",
    "\n",
    "Generative Models specify a probability distribution over a dataset of input vectors. We can carry out both supervised and unsupervised tasks with generative models:\n",
    "\n",
    "<ul>\n",
    "    <li>In an unsupervised task, we try to form a model for $P(x)$, where $P$ is the probability given $x$ as an input vector.</li>\n",
    "    <li>In the supervised task, we first form a model for $P(x|y)$, where $P$ is the probability of $x$ given $y$(the label for $x$). For example, if $y = 0$ indicates that a car is an SUV, and $y = 1$ indicates that a car is a sedan, then $p(x|y = 0)$ models the distribution of SUV features, and $p(x|y = 1)$ models the distribution of sedan features. If we manage to find $P(x|y)$ and $P(y)$, then we can use <b>Bayes rule</b> to estimate $P(y|x)$, because:   \n",
    "        $$p(y|x) = \\frac{p(x|y)p(y)}{p(x)}$$</li>\n",
    "</ul>\n",
    "Now the question is, can we build a generative model, and then use it to create synthetic data by directly sampling from the modeled probability distributions? Lets see. \n"
   ]
  },
  {
   "cell_type": "markdown",
   "metadata": {},
   "source": [
    "<h2>Table of Contents</h2>\n",
    "<ol>\n",
    "    <li><a href=\"#ref1\">Initialization</a></li>\n",
    "    <li><a href=\"#ref2\">RBM layers</a></li>\n",
    "    <li><a href=\"#ref3\">What RBM can do after training?</a></li>\n",
    "    <li><a href=\"#ref4\">How to train the model?</a></li>\n",
    "    <li><a href=\"#ref5\">Learned features</a></li>\n",
    "</ol>\n",
    "<p></p>\n",
    "</div>\n",
    "<br>\n",
    "\n",
    "<hr>\n"
   ]
  },
  {
   "cell_type": "markdown",
   "metadata": {},
   "source": [
    "<a id=\"ref1\"></a>\n",
    "\n",
    "<h3>Initialization</h3>\n",
    "\n",
    "First, we have to load the utility file which contains different utility functions that are not connected\n",
    "in any way to the networks presented in the tutorials, but rather help in\n",
    "processing the outputs into a more understandable way.\n"
   ]
  },
  {
   "cell_type": "code",
   "execution_count": 2,
   "metadata": {},
   "outputs": [],
   "source": [
    "import urllib.request\n",
    "with urllib.request.urlopen(\"https://cf-courses-data.s3.us.cloud-object-storage.appdomain.cloud/IBMDeveloperSkillsNetwork-DL0120EN-SkillsNetwork/labs/Week4/data/utils.py\") as url:\n",
    "    response = url.read()\n",
    "target = open('utils.py', 'w')\n",
    "target.write(response.decode('utf-8'))\n",
    "target.close()"
   ]
  },
  {
   "cell_type": "markdown",
   "metadata": {},
   "source": [
    "<h2>Installing TensorFlow </h2>\n",
    "\n",
    "We will installing TensorFlow version 2.2.0 and its required prerequistes.  Also installing pillow...\n"
   ]
  },
  {
   "cell_type": "code",
   "execution_count": null,
   "metadata": {},
   "outputs": [],
   "source": [
    "#!pip install grpcio==1.24.3\n",
    "#!pip install tensorflow==2.2.0\n",
    "#!pip install pillow"
   ]
  },
  {
   "cell_type": "markdown",
   "metadata": {},
   "source": [
    "<b>Notice:</b> This notebook has been created with TensorFlow version 2.2, and might not work with other versions. Therefore we check:\n"
   ]
  },
  {
   "cell_type": "code",
   "execution_count": 1,
   "metadata": {},
   "outputs": [
    {
     "name": "stdout",
     "output_type": "stream",
     "text": [
      "INFO:tensorflow:Enabling eager execution\n",
      "INFO:tensorflow:Enabling v2 tensorshape\n",
      "INFO:tensorflow:Enabling resource variables\n",
      "INFO:tensorflow:Enabling tensor equality\n",
      "INFO:tensorflow:Enabling control flow v2\n"
     ]
    }
   ],
   "source": [
    "import tensorflow as tf\n",
    "from IPython.display import Markdown, display\n",
    "\n",
    "def printmd(string):\n",
    "    display(Markdown('# <span style=\"color:red\">'+string+'</span>'))\n",
    "\n",
    "\n",
    "if not tf.__version__ == '2.5.0-rc1':\n",
    "    printmd('<<<<<!!!!! ERROR !!!! please upgrade to TensorFlow 2.2.0, or restart your Kernel (Kernel->Restart & Clear Output)>>>>>')"
   ]
  },
  {
   "cell_type": "markdown",
   "metadata": {},
   "source": [
    "Now, we load in all the packages that we use to create the net including the TensorFlow package:\n"
   ]
  },
  {
   "cell_type": "code",
   "execution_count": 3,
   "metadata": {},
   "outputs": [],
   "source": [
    "import tensorflow as tf\n",
    "import numpy as np\n",
    "\n",
    "from PIL import Image\n",
    "from utils import tile_raster_images\n",
    "import matplotlib.pyplot as plt\n",
    "%matplotlib inline"
   ]
  },
  {
   "cell_type": "markdown",
   "metadata": {},
   "source": [
    "<hr>\n"
   ]
  },
  {
   "cell_type": "markdown",
   "metadata": {},
   "source": [
    "<a id=\"ref2\"></a>\n",
    "\n",
    "<h3>RBM layers</h3>\n",
    "\n",
    "An RBM has two layers. The first layer of the RBM is called the <b>visible</b> (or input layer). Imagine that our toy example, has only vectors with 7 values, so the visible layer must have $V=7$ input nodes. \n",
    "The second layer is the <b>hidden</b> layer, which has $H$ neurons in our case. Each hidden node takes on values of either 0 or 1 (i.e., $h_i = 1$ or $h_i$ = 0), with a probability that is a logistic function of the inputs it receives from the other $V$ visible units, called for example, $p(h_i = 1)$. For our toy sample, we'll use 2 nodes in the hidden layer, so $H = 2$.\n",
    "\n",
    "<center><img src=\"https://ibm.box.com/shared/static/eu26opvcefgls6vnwuo29uwp0nudmokh.png\" alt=\"RBM Model\" style=\"width: 400px;\"></center>\n"
   ]
  },
  {
   "cell_type": "markdown",
   "metadata": {},
   "source": [
    "Each node in the first layer also has a <b>bias</b>. We will denote the bias as $v_{bias}$, and this single value is shared among the $V$ visible units.\n",
    "\n",
    "The <b>bias</b> of the second is defined similarly as $h_{bias}$, and this single value among the $H$ hidden units.\n"
   ]
  },
  {
   "cell_type": "code",
   "execution_count": 4,
   "metadata": {},
   "outputs": [],
   "source": [
    "v_bias = tf.Variable(tf.zeros([7]), tf.float32)\n",
    "h_bias = tf.Variable(tf.zeros([2]), tf.float32)"
   ]
  },
  {
   "cell_type": "markdown",
   "metadata": {},
   "source": [
    "We have to define weights among the input layer and hidden layer nodes. In the weight matrix, the number of rows are equal to the input nodes, and the number of columns are equal to the output nodes. We define a tensor $\\mathbf{W}$ of shape = (7,2), where the number of visible neurons = 7, and the number of hidden neurons = 2. \n"
   ]
  },
  {
   "cell_type": "code",
   "execution_count": 5,
   "metadata": {},
   "outputs": [],
   "source": [
    "W = tf.constant(np.random.normal(loc=0.0, scale=1.0, size=(7, 2)).astype(np.float32))"
   ]
  },
  {
   "cell_type": "markdown",
   "metadata": {},
   "source": [
    "<hr>\n"
   ]
  },
  {
   "cell_type": "markdown",
   "metadata": {},
   "source": [
    "<a id=\"ref3\"></a>\n",
    "\n",
    "<h3>What RBM can do after training?</h3>\n",
    "Think of RBM as a model that has been trained based on images of a dataset of many SUV and sedan cars. Also, imagine that the RBM network has only two hidden nodes, where one node encodes the weight and, and the other encodes the size.  \n",
    "In a sense, the different configurations represent different cars, where one is an SUV and the other is Sedan.  In a training process, through many forward and backward passes, the RBM adjust its weights to send a stronger signal to either the SUV node (0, 1) or the sedan node (1, 0) in the hidden layer, given the pixels of images. Now, given an SUV in hidden layer, which distribution of pixels should we expect? RBM can give you 2 things. First, it encodes your images in hidden layer. Second, it gives you the probability of observing a case, given some hidden values.\n",
    "\n",
    "<h3>The Inference Process</h3>\n",
    "\n",
    "RBM has two phases:\n",
    "\n",
    "<ul>\n",
    "    <li>Forward Pass</li>  \n",
    "    <li>Backward Pass or Reconstruction</li>\n",
    "</ul>\n",
    "\n",
    "<b>Phase 1) Forward pass:</b>  \n",
    "\n",
    "Input one training sample (one image) $\\mathbf{x}$ through all visible nodes, and pass it to all hidden nodes. Processing happens in each node in the hidden layer. This computation begins by making stochastic decisions about whether to transmit that input or not (i.e. to determine the state of each hidden layer).  First, the probability vector is computed using the input feature vector $\\mathbf{x}$, the weight matrix $\\mathbf{W}$, and the bias term $h_{bias}$, as \n",
    "\n",
    "$p({h_j}|\\mathbf x)= \\sigma(\\sum_{i=1}^V W_{ij} x_i + h_{bias} )$, \n",
    "\n",
    "where $\\sigma(z) = (1+e^{-z})^{-1}$ is the logistic function.\n",
    "\n",
    "So, what does $p({h_j})$ represent? It is the <b>probability distribution</b> of the hidden units. That is, RBM uses inputs $x_i$ to make predictions about hidden node activations. For example, imagine that the hidden node activation values are [0.51 0.84] for the first training item. It tells you that the conditional probability for each hidden neuron for Phase 1 is: \n",
    "\n",
    "$$p(h_{1} = 1|\\mathbf{v}) = 0.51$$\n",
    "$$p(h_{2} = 1|\\mathbf{v}) = 0.84$$\n",
    "\n",
    "As a result, for each row in the training set, vector of probabilities is generated.  In TensorFlow, this is referred to as a `tensor` with a shape of (1,2). \n",
    "\n",
    "We then turn unit $j$ with probability $p(h_{j}|\\mathbf{v})$, and turn it off with probability $1 - p(h_{j}|\\mathbf{v})$ by generating a uniform random number vector $\\mathbf{\\xi}$, and comparing it to the activation probability as \n",
    "\n",
    "<center>If $\\xi_j>p(h_{j}|\\mathbf{v})$, then $h_j=1$, else $h_j=0$.</center>\n",
    "\n",
    "Therefore, the conditional probability of a configuration of $\\mathbf{h}$ given $\\mathbf{v}$ (for a training sample) is:\n",
    "\n",
    "$$p(\\mathbf{h} \\mid \\mathbf{v}) = \\prod_{j=1}^H p(h_j \\mid \\mathbf{v})$$\n",
    "\n",
    "where $H$ is the number of hidden units.\n"
   ]
  },
  {
   "cell_type": "markdown",
   "metadata": {},
   "source": [
    "Before we go further, let's look at a toy example for one case out of all input. Assume that we have a trained RBM, and a very simple input vector, such as [1.0, 0.0, 0.0, 1.0, 0.0, 0.0, 0.0].  \n",
    "Let's see what the output of forward pass would look like:\n"
   ]
  },
  {
   "cell_type": "code",
   "execution_count": 6,
   "metadata": {},
   "outputs": [
    {
     "name": "stdout",
     "output_type": "stream",
     "text": [
      "Input:  tf.Tensor([[1. 0. 0. 1. 0. 0. 0.]], shape=(1, 7), dtype=float32)\n",
      "hb:  tf.Tensor([0.1 0.1], shape=(2,), dtype=float32)\n",
      "w:  tf.Tensor(\n",
      "[[-0.30057994  0.07021993]\n",
      " [ 1.1146635   1.157964  ]\n",
      " [-0.30492863  0.43121406]\n",
      " [-0.7615178  -0.9924688 ]\n",
      " [ 0.09770522  0.6778594 ]\n",
      " [ 1.5565628   1.2232581 ]\n",
      " [-0.9520994   0.00313089]], shape=(7, 2), dtype=float32)\n",
      "p(h|v):  tf.Tensor([[0.27645838 0.30528653]], shape=(1, 2), dtype=float32)\n",
      "h0 states: tf.Tensor([[0. 1.]], shape=(1, 2), dtype=float32)\n"
     ]
    }
   ],
   "source": [
    "X = tf.constant([[1.0, 0.0, 0.0, 1.0, 0.0, 0.0, 0.0]], tf.float32)\n",
    "\n",
    "v_state = X\n",
    "print (\"Input: \", v_state)\n",
    "\n",
    "h_bias = tf.constant([0.1, 0.1])\n",
    "print (\"hb: \", h_bias)\n",
    "print (\"w: \", W)\n",
    "\n",
    "# Calculate the probabilities of turning the hidden units on:\n",
    "h_prob = tf.nn.sigmoid(tf.matmul(v_state, W) + h_bias)  #probabilities of the hidden units\n",
    "print (\"p(h|v): \", h_prob)\n",
    "\n",
    "# Draw samples from the distribution:\n",
    "h_state = tf.nn.relu(tf.sign(h_prob - tf.random.uniform(tf.shape(h_prob)))) #states\n",
    "print (\"h0 states:\", h_state)"
   ]
  },
  {
   "cell_type": "markdown",
   "metadata": {},
   "source": [
    "<b>Phase 2) Backward Pass (Reconstruction):</b>\n",
    "The RBM reconstructs data by making several forward and backward passes between the visible and hidden layers.\n",
    "\n",
    "So, in the second phase (i.e. reconstruction phase), the samples from the hidden layer (i.e. $\\mathbf h$) becomes the input in the backward pass. The same weight matrix and visible layer biases are used to passed to the sigmoid function. The reproduced output is a reconstruction which is an approximation of the original input.\n"
   ]
  },
  {
   "cell_type": "code",
   "execution_count": 7,
   "metadata": {},
   "outputs": [
    {
     "name": "stdout",
     "output_type": "stream",
     "text": [
      "b:  tf.Tensor([0.1 0.2 0.1 0.1 0.1 0.2 0.1], shape=(7,), dtype=float32)\n",
      "p(vi∣h):  tf.Tensor(\n",
      "[[0.5424525  0.79542863 0.6297662  0.29060063 0.6852186  0.8058487\n",
      "  0.5257599 ]], shape=(1, 7), dtype=float32)\n",
      "v probability states:  tf.Tensor([[1. 1. 0. 0. 0. 1. 0.]], shape=(1, 7), dtype=float32)\n"
     ]
    }
   ],
   "source": [
    "vb = tf.constant([0.1, 0.2, 0.1, 0.1, 0.1, 0.2, 0.1])\n",
    "print (\"b: \", vb)\n",
    "v_prob = tf.nn.sigmoid(tf.matmul(h_state, tf.transpose(W)) + vb)\n",
    "print (\"p(vi∣h): \", v_prob)\n",
    "v_state = tf.nn.relu(tf.sign(v_prob - tf.random.uniform(tf.shape(v_prob))))\n",
    "print (\"v probability states: \", v_state)"
   ]
  },
  {
   "cell_type": "markdown",
   "metadata": {},
   "source": [
    "RBM learns a probability distribution over the input, and then, after being trained, the RBM can generate new samples from the learned probability distribution. As you know, <b>probability distribution</b>, is a mathematical function that provides the probabilities of occurrence of different possible outcomes in an experiment.\n",
    "\n",
    "The (conditional) probability distribution over the visible units v is given by\n",
    "\n",
    "$p(\\mathbf{v} \\mid \\mathbf{h}) = \\prod_{i=1}^V p(v_i \\mid \\mathbf{h}),$\n",
    "\n",
    "where,\n",
    "\n",
    "$p(v_i \\mid \\mathbf{h}) = \\sigma\\left(\\sum_{j=1}^H W_{ji} h_j + v_{bias} \\right)$\n",
    "\n",
    "so, given current state of hidden units and weights, what is the probability of generating [1. 0. 0. 1. 0. 0. 0.] in reconstruction phase, based on the above <b>probability distribution</b> function?\n"
   ]
  },
  {
   "cell_type": "code",
   "execution_count": 8,
   "metadata": {},
   "outputs": [
    {
     "name": "stdout",
     "output_type": "stream",
     "text": [
      "input X: [[1. 0. 0. 1. 0. 0. 0.]]\n",
      "probablity vector: [0.5424525  0.79542863 0.6297662  0.29060063 0.6852186  0.8058487\n",
      " 0.5257599 ]\n",
      "probability of generating X:  0.0003460404\n"
     ]
    }
   ],
   "source": [
    "inp = X\n",
    "print(\"input X:\" , inp.numpy())\n",
    "\n",
    "print(\"probablity vector:\" , v_prob[0].numpy())\n",
    "v_probability = 1\n",
    "\n",
    "for elm, p in zip(inp[0],v_prob[0]) :\n",
    "    if elm ==1:\n",
    "        v_probability *= p\n",
    "    else:\n",
    "        v_probability *= (1-p)\n",
    "\n",
    "print(\"probability of generating X: \" , v_probability.numpy())"
   ]
  },
  {
   "cell_type": "markdown",
   "metadata": {},
   "source": [
    "How similar are vectors $\\mathbf{x}$ and $\\mathbf{v}$? Of course, the reconstructed values most likely will not look anything like the input vector, because our network has not been trained yet. Our objective is to train the model in such a way that the input vector and reconstructed vector to be same. Therefore, based on how different the input values look to the ones that we just reconstructed, the weights are adjusted. \n"
   ]
  },
  {
   "cell_type": "markdown",
   "metadata": {},
   "source": [
    "<hr>\n"
   ]
  },
  {
   "cell_type": "markdown",
   "metadata": {},
   "source": [
    "<h2>MNIST</h2>\n"
   ]
  },
  {
   "cell_type": "markdown",
   "metadata": {},
   "source": [
    "We will be using the MNIST dataset to practice the usage of RBMs. The following cell loads the MNIST dataset.\n"
   ]
  },
  {
   "cell_type": "code",
   "execution_count": 9,
   "metadata": {},
   "outputs": [],
   "source": [
    "#loading training and test data\n",
    "mnist = tf.keras.datasets.mnist\n",
    "(trX, trY), (teX, teY) = mnist.load_data()\n",
    "\n",
    "# showing an example of the Flatten class and operation\n",
    "from tensorflow.keras.layers import Flatten\n",
    "flatten = Flatten(dtype='float32')\n",
    "trX = flatten(trX/255.0)\n",
    "trY = flatten(trY/255.0)"
   ]
  },
  {
   "cell_type": "markdown",
   "metadata": {},
   "source": [
    "Lets look at the dimension of the images.\n"
   ]
  },
  {
   "cell_type": "markdown",
   "metadata": {},
   "source": [
    "MNIST images have 784 pixels, so the visible layer must have 784 input nodes.  For our case, we'll use 50 nodes in the hidden layer, so i = 50.\n"
   ]
  },
  {
   "cell_type": "code",
   "execution_count": 10,
   "metadata": {
    "jupyter": {
     "outputs_hidden": true
    }
   },
   "outputs": [],
   "source": [
    "vb = tf.Variable(tf.zeros([784]), tf.float32)\n",
    "hb = tf.Variable(tf.zeros([50]), tf.float32)"
   ]
  },
  {
   "cell_type": "markdown",
   "metadata": {},
   "source": [
    "Let $\\mathbf W$ be the Tensor of 784x50 (784 - number of visible neurons, 50 - number of hidden neurons) that represents weights between the neurons. \n"
   ]
  },
  {
   "cell_type": "code",
   "execution_count": 11,
   "metadata": {
    "jupyter": {
     "outputs_hidden": true
    }
   },
   "outputs": [],
   "source": [
    "W = tf.Variable(tf.zeros([784,50]), tf.float32)"
   ]
  },
  {
   "cell_type": "markdown",
   "metadata": {},
   "source": [
    "Lets define the visible layer:\n"
   ]
  },
  {
   "cell_type": "code",
   "execution_count": 12,
   "metadata": {},
   "outputs": [
    {
     "data": {
      "text/plain": [
       "<tf.Tensor: shape=(1, 50), dtype=float32, numpy=\n",
       "array([[0., 0., 0., 0., 0., 0., 0., 0., 0., 0., 0., 0., 0., 0., 0., 0.,\n",
       "        0., 0., 0., 0., 0., 0., 0., 0., 0., 0., 0., 0., 0., 0., 0., 0.,\n",
       "        0., 0., 0., 0., 0., 0., 0., 0., 0., 0., 0., 0., 0., 0., 0., 0.,\n",
       "        0., 0.]], dtype=float32)>"
      ]
     },
     "execution_count": 12,
     "metadata": {},
     "output_type": "execute_result"
    }
   ],
   "source": [
    "v0_state = tf.Variable(tf.zeros([784]), tf.float32)\n",
    "\n",
    "#testing to see if the matrix product works\n",
    "tf.matmul( [v0_state], W)"
   ]
  },
  {
   "cell_type": "markdown",
   "metadata": {},
   "source": [
    "Now, we can define hidden layer:\n"
   ]
  },
  {
   "cell_type": "code",
   "execution_count": 13,
   "metadata": {},
   "outputs": [
    {
     "name": "stdout",
     "output_type": "stream",
     "text": [
      "h0_state shape:  tf.Tensor([ 1 50], shape=(2,), dtype=int32)\n",
      "first 15 hidden states:  tf.Tensor([1. 1. 0. 0. 0. 1. 0. 1. 1. 0. 1. 0. 1. 1. 1.], shape=(15,), dtype=float32)\n"
     ]
    }
   ],
   "source": [
    "#computing the hidden nodes probability vector and checking shape\n",
    "h0_prob = tf.nn.sigmoid(tf.matmul([v0_state], W) + hb)  #probabilities of the hidden units\n",
    "print(\"h0_state shape: \" , tf.shape(h0_prob))\n",
    "\n",
    "#defining a function to return only the generated hidden states \n",
    "def hidden_layer(v0_state, W, hb):\n",
    "    h0_prob = tf.nn.sigmoid(tf.matmul([v0_state], W) + hb)  #probabilities of the hidden units\n",
    "    h0_state = tf.nn.relu(tf.sign(h0_prob - tf.random.uniform(tf.shape(h0_prob)))) #sample_h_given_X\n",
    "    return h0_state\n",
    "\n",
    "\n",
    "h0_state = hidden_layer(v0_state, W, hb)\n",
    "print(\"first 15 hidden states: \", h0_state[0][0:15])"
   ]
  },
  {
   "cell_type": "markdown",
   "metadata": {},
   "source": [
    "Now, we define reconstruction part:\n"
   ]
  },
  {
   "cell_type": "code",
   "execution_count": 14,
   "metadata": {},
   "outputs": [
    {
     "name": "stdout",
     "output_type": "stream",
     "text": [
      "hidden state shape:  (1, 50)\n",
      "v0 state shape:   (784,)\n",
      "v1 state shape:   (784,)\n"
     ]
    }
   ],
   "source": [
    "def reconstructed_output(h0_state, W, vb):\n",
    "    v1_prob = tf.nn.sigmoid(tf.matmul(h0_state, tf.transpose(W)) + vb) \n",
    "    v1_state = tf.nn.relu(tf.sign(v1_prob - tf.random.uniform(tf.shape(v1_prob)))) #sample_v_given_h\n",
    "    return v1_state[0]\n",
    "\n",
    "v1_state = reconstructed_output(h0_state, W, vb)\n",
    "print(\"hidden state shape: \", h0_state.shape)\n",
    "print(\"v0 state shape:  \", v0_state.shape)\n",
    "print(\"v1 state shape:  \", v1_state.shape)"
   ]
  },
  {
   "cell_type": "markdown",
   "metadata": {},
   "source": [
    "<h3>What is the objective function?</h3>\n",
    "\n",
    "<b>Goal</b>: Maximize the likelihood of our data being drawn from that distribution\n",
    "\n",
    "<b>Calculate error:</b>  \n",
    "In each epoch, we compute the \"error\" as a sum of the squared difference between step 1 and step n,\n",
    "e.g the error shows the difference between the data and its reconstruction.\n",
    "\n",
    "<b>Note:</b> tf.reduce_mean computes the mean of elements across dimensions of a tensor.\n"
   ]
  },
  {
   "cell_type": "code",
   "execution_count": 15,
   "metadata": {},
   "outputs": [
    {
     "name": "stdout",
     "output_type": "stream",
     "text": [
      "error 0.4630102\n"
     ]
    }
   ],
   "source": [
    "def error(v0_state, v1_state):\n",
    "    return tf.reduce_mean(tf.square(v0_state - v1_state))\n",
    "\n",
    "err = tf.reduce_mean(tf.square(v0_state - v1_state))\n",
    "print(\"error\" , err.numpy())"
   ]
  },
  {
   "cell_type": "markdown",
   "metadata": {},
   "source": [
    "<a id=\"ref4\"></a>\n",
    "\n",
    "<h3>Training the Model</h3>\n",
    "<b>Warning...</b> The following part is math-heavy, but you can skip it if you just want to run the cells in the next section.\n",
    "\n",
    "As mentioned, we want to give a high probability to the input data we train on. So, in order to train an RBM, we have to maximize the product of probabilities assigned to all rows $\\mathbf{v}$ (images) in the training set $\\mathbf{V}$ (a matrix, where each row of it is treated as a visible vector $\\mathbf{v}$)\n",
    "\n",
    "$$\\arg\\max_W\\prod_{\\mathbf{v}\\in\\mathbf{V}_T}p(\\mathbf{v}),$$\n",
    "\n",
    "which is equivalent to maximizing the expectation of the log probability, given as\n",
    "\n",
    "$$\\arg\\max_W\\left[ \\mathbb{E} \\left(\\prod_{\\mathbf v\\in \\mathbf V}\\text{log} \\left(p(\\mathbf v)\\right) \\right) \\right].$$\n",
    "\n",
    "So, we have to update the weights $W_{ij}$  to increase $p(\\mathbf{v})$ for all $\\mathbf{v}$ in our training data during training. So we have to calculate the derivative:\n",
    "\n",
    "$$\\frac{\\partial \\log p(\\mathbf v)}{\\partial W_{ij}}$$\n",
    "\n",
    "This cannot be easily done by typical <b>gradient descent (SGD)</b>, so we can use another approach, which has 2 steps:\n",
    "\n",
    "<ol>\n",
    "    <li>Gibbs Sampling</li>\n",
    "    <li>Contrastive Divergence</li>\n",
    "</ol>    \n",
    "    \n",
    "<h3>Gibbs Sampling</h3>   \n",
    "\n",
    "<h4>Gibbs Sampling Step 1</h4> \n",
    "Given an input vector $\\mathbf{v}$, we are using $p(\\mathbf{h}|\\mathbf{v})$ to predict the hidden values $\\mathbf{h}$. \n",
    "  $$p({h_j}|\\mathbf v)= \\sigma\\left(\\sum_{i=1}^V W_{ij} v_i + h_{bias} \\right)$$\n",
    "The samples are generated from this distribution by generating the uniform random variate vector $\\mathbf{\\xi} \\sim U[0,1]$ of length $H$ and comparing to the computed probabilities as\n",
    "\n",
    "<center>If $\\xi_j>p(h_{j}|\\mathbf{v})$, then $h_j=1$, else $h_j=0$.</center>\n",
    "\n",
    "<h4>Gibbs Sampling Step 2</h4> \n",
    "Then, knowing the hidden values, we use $p(\\mathbf v| \\mathbf h)$ for reconstructing of new input values v. \n",
    "\n",
    "   $$p({v_i}|\\mathbf h)= \\sigma\\left(\\sum_{j=1}^H W^{T}_{ij} h_j + v_{bias} \\right)$$\n",
    "\n",
    "The samples are generated from this distribution by generating a uniform random variate vector $\\mathbf{\\xi} \\sim U[0,1]$ of length $V$ and comparing to the computed probabilities as\n",
    "\n",
    "<center>If $\\xi_i>p(v_{i}|\\mathbf{h})$, then $v_i=1$, else $v_i=0$.</center>\n",
    "\n",
    "Let vectors $\\mathbf v_k$ and $\\mathbf h_k$ be for the $k$th iteration.  In general, the $kth$ state is generrated as: \n",
    "\n",
    "<b>Iteration</b> $k$: \n",
    "\n",
    "$$\\mathbf v_{k-1} \\Rightarrow p(\\mathbf h_{k-1}|\\mathbf v_{k-1})\\Rightarrow \\mathbf h_{k-1}\\Rightarrow p(\\mathbf v_{k}|\\mathbf h_{k-1})\\Rightarrow \\mathbf v_k$$       \n",
    "\n",
    "<h3>Contrastive Divergence (CD-k)</h3>\n",
    "The update of the weight matrix is done during the Contrastive Divergence step. \n",
    "\n",
    "Vectors v0 and vk are used to calculate the activation probabilities for hidden values h0 and hk. The difference between the outer products of those probabilities with input vectors v0 and vk results in the update matrix:\n",
    "\n",
    "$\\Delta \\mathbf W_k =\\mathbf v_k \\otimes \\mathbf h_k - \\mathbf v_{k-1} \\otimes \\mathbf h_{k-1}$ \n",
    "\n",
    "Contrastive Divergence is actually matrix of values that is computed and used to adjust values of the $\\mathbf W$ matrix. Changing $\\mathbf W$ incrementally leads to training of the  $\\mathbf W$ values. Then, on each step (epoch), $\\mathbf W$ is updated using the following:\n",
    "\n",
    "$\\mathbf W_k = \\mathbf W_{k-1} + \\alpha * \\Delta \\mathbf W_k$ \n",
    "\n",
    "Reconstruction steps:\n",
    "\n",
    "<ul>\n",
    "    <li> Get one data point from data set, like <i>x</i>, and pass it through the following steps:</li>\n",
    "    \n",
    "<b>Iteration</b> $k=1$: \n",
    "    \n",
    "Sampling (starting with input image)\n",
    "    $$\\mathbf x = \\mathbf v_0 \\Rightarrow p(\\mathbf h_0|\\mathbf v_0)\\Rightarrow \\mathbf h_0 \\Rightarrow p(\\mathbf v_1|\\mathbf h_0)\\Rightarrow \\mathbf v_1$$   \n",
    "    followed by the CD-k step\n",
    "$$\\Delta \\mathbf W_1 =\\mathbf v_1 \\otimes \\mathbf h_1 - \\mathbf v_{0} \\otimes \\mathbf h_{0}$$     \n",
    "$$\\mathbf W_1 = \\mathbf W_{0} + \\alpha * \\Delta \\mathbf W_1$$ \n",
    " \n",
    "<li> $\\mathbf v_1$ is the reconstruction of $\\mathbf x$ sent to the next iteration).</li>\n",
    "\n",
    "<b>Iteration</b> $k=2$: \n",
    "\n",
    "Sampling (starting with $\\mathbf v_1$)\n",
    "\n",
    "$$\\mathbf v_1 \\Rightarrow p(\\mathbf h_1|\\mathbf v_1)\\Rightarrow \\mathbf h_1\\Rightarrow p(\\mathbf v_2|\\mathbf h_1)\\Rightarrow \\mathbf v_2$$   \n",
    "\n",
    "followed by the CD-k step\n",
    "$$\\Delta \\mathbf W_2 =\\mathbf v_2 \\otimes \\mathbf h_2 - \\mathbf v_{1} \\otimes \\mathbf h_{1}$$  \n",
    "$$\\mathbf W_2 = \\mathbf W_{1} + \\alpha * \\Delta \\mathbf W_2$$ \n",
    "\n",
    "<li> $\\mathbf v_2$ is the reconstruction of $\\mathbf v_1$ sent to the next iteration).</li>    \n",
    "      \n",
    "<b>Iteration</b> $k=K$:\n",
    "    \n",
    "Sampling (starting with $\\mathbf v_{K-1}$)\n",
    "\n",
    "$$\\mathbf v_{K-1} \\Rightarrow p(\\mathbf h_{K-1}|\\mathbf v_{K-1})\\Rightarrow \\mathbf h_{K-1}\\Rightarrow p(\\mathbf v_K|\\mathbf h_{K-1})\\Rightarrow \\mathbf v_K$$   \n",
    "\n",
    "followed by the CD-k step\n",
    "$$\\Delta \\mathbf W_K =\\mathbf v_K \\otimes \\mathbf h_K - \\mathbf v_{K-1} \\otimes \\mathbf h_{K-1}$$  \n",
    "$$\\mathbf W_K = \\mathbf W_{K-1} + \\alpha * \\Delta \\mathbf W_K$$ \n",
    "\n",
    "<b>What is $\\alpha$?</b>  \n",
    "Here, alpha is some small step size, and is also known as the \"learning rate\".\n"
   ]
  },
  {
   "cell_type": "markdown",
   "metadata": {},
   "source": [
    "$K$ is adjustable, and good performance can be achieved with $K=1$, so that we just take one set of sampling steps per image.\n"
   ]
  },
  {
   "cell_type": "code",
   "execution_count": 16,
   "metadata": {},
   "outputs": [],
   "source": [
    "h1_prob = tf.nn.sigmoid(tf.matmul([v1_state], W) + hb)\n",
    "h1_state = tf.nn.relu(tf.sign(h1_prob - tf.random.uniform(tf.shape(h1_prob)))) #sample_h_given_X"
   ]
  },
  {
   "cell_type": "markdown",
   "metadata": {},
   "source": [
    "Lets look at the error of the first run:\n"
   ]
  },
  {
   "cell_type": "code",
   "execution_count": 17,
   "metadata": {},
   "outputs": [
    {
     "name": "stdout",
     "output_type": "stream",
     "text": [
      "error:  tf.Tensor(0.4630102, shape=(), dtype=float32)\n"
     ]
    }
   ],
   "source": [
    "print(\"error: \", error(v0_state, v1_state))"
   ]
  },
  {
   "cell_type": "code",
   "execution_count": 18,
   "metadata": {},
   "outputs": [
    {
     "name": "stdout",
     "output_type": "stream",
     "text": [
      "Epoch: 0 batch #: 1  of 300 sample #: 199 reconstruction error: 0.160352\n",
      "Epoch: 0 batch #: 2  of 300 sample #: 199 reconstruction error: 0.230145\n",
      "Epoch: 0 batch #: 3  of 300 sample #: 199 reconstruction error: 0.118369\n",
      "Epoch: 0 batch #: 4  of 300 sample #: 199 reconstruction error: 0.129803\n",
      "Epoch: 0 batch #: 5  of 300 sample #: 199 reconstruction error: 0.106776\n",
      "Epoch: 0 batch #: 6  of 300 sample #: 199 reconstruction error: 0.173023\n",
      "Epoch: 0 batch #: 7  of 300 sample #: 199 reconstruction error: 0.084002\n",
      "Epoch: 0 batch #: 8  of 300 sample #: 199 reconstruction error: 0.117823\n",
      "Epoch: 0 batch #: 9  of 300 sample #: 199 reconstruction error: 0.101848\n",
      "Epoch: 0 batch #: 10  of 300 sample #: 199 reconstruction error: 0.172205\n",
      "Epoch: 0 batch #: 11  of 300 sample #: 199 reconstruction error: 0.088155\n",
      "Epoch: 0 batch #: 12  of 300 sample #: 199 reconstruction error: 0.141017\n",
      "Epoch: 0 batch #: 13  of 300 sample #: 199 reconstruction error: 0.067730\n",
      "Epoch: 0 batch #: 14  of 300 sample #: 199 reconstruction error: 0.087046\n",
      "Epoch: 0 batch #: 15  of 300 sample #: 199 reconstruction error: 0.107644\n",
      "Epoch: 0 batch #: 16  of 300 sample #: 199 reconstruction error: 0.103316\n",
      "Epoch: 0 batch #: 17  of 300 sample #: 199 reconstruction error: 0.073412\n",
      "Epoch: 0 batch #: 18  of 300 sample #: 199 reconstruction error: 0.134530\n",
      "Epoch: 0 batch #: 19  of 300 sample #: 199 reconstruction error: 0.143332\n",
      "Epoch: 0 batch #: 20  of 300 sample #: 199 reconstruction error: 0.094858\n",
      "Epoch: 0 batch #: 21  of 300 sample #: 199 reconstruction error: 0.097807\n",
      "Epoch: 0 batch #: 22  of 300 sample #: 199 reconstruction error: 0.070516\n",
      "Epoch: 0 batch #: 23  of 300 sample #: 199 reconstruction error: 0.122564\n",
      "Epoch: 0 batch #: 24  of 300 sample #: 199 reconstruction error: 0.135999\n",
      "Epoch: 0 batch #: 25  of 300 sample #: 199 reconstruction error: 0.096573\n",
      "Epoch: 0 batch #: 26  of 300 sample #: 199 reconstruction error: 0.098441\n",
      "Epoch: 0 batch #: 27  of 300 sample #: 199 reconstruction error: 0.104336\n",
      "Epoch: 0 batch #: 28  of 300 sample #: 199 reconstruction error: 0.075877\n",
      "Epoch: 0 batch #: 29  of 300 sample #: 199 reconstruction error: 0.103187\n",
      "Epoch: 0 batch #: 30  of 300 sample #: 199 reconstruction error: 0.070811\n",
      "Epoch: 0 batch #: 31  of 300 sample #: 199 reconstruction error: 0.086311\n",
      "Epoch: 0 batch #: 32  of 300 sample #: 199 reconstruction error: 0.112581\n",
      "Epoch: 0 batch #: 33  of 300 sample #: 199 reconstruction error: 0.075824\n",
      "Epoch: 0 batch #: 34  of 300 sample #: 199 reconstruction error: 0.066302\n",
      "Epoch: 0 batch #: 35  of 300 sample #: 199 reconstruction error: 0.079132\n",
      "Epoch: 0 batch #: 36  of 300 sample #: 199 reconstruction error: 0.078056\n",
      "Epoch: 0 batch #: 37  of 300 sample #: 199 reconstruction error: 0.057976\n",
      "Epoch: 0 batch #: 38  of 300 sample #: 199 reconstruction error: 0.067917\n",
      "Epoch: 0 batch #: 39  of 300 sample #: 199 reconstruction error: 0.101726\n",
      "Epoch: 0 batch #: 40  of 300 sample #: 199 reconstruction error: 0.112819\n",
      "Epoch: 0 batch #: 41  of 300 sample #: 199 reconstruction error: 0.088802\n",
      "Epoch: 0 batch #: 42  of 300 sample #: 199 reconstruction error: 0.071497\n",
      "Epoch: 0 batch #: 43  of 300 sample #: 199 reconstruction error: 0.138814\n",
      "Epoch: 0 batch #: 44  of 300 sample #: 199 reconstruction error: 0.091013\n",
      "Epoch: 0 batch #: 45  of 300 sample #: 199 reconstruction error: 0.051488\n",
      "Epoch: 0 batch #: 46  of 300 sample #: 199 reconstruction error: 0.037248\n",
      "Epoch: 0 batch #: 47  of 300 sample #: 199 reconstruction error: 0.031852\n",
      "Epoch: 0 batch #: 48  of 300 sample #: 199 reconstruction error: 0.042812\n",
      "Epoch: 0 batch #: 49  of 300 sample #: 199 reconstruction error: 0.127229\n",
      "Epoch: 0 batch #: 50  of 300 sample #: 199 reconstruction error: 0.043595\n",
      "Epoch: 0 batch #: 51  of 300 sample #: 199 reconstruction error: 0.063406\n",
      "Epoch: 0 batch #: 52  of 300 sample #: 199 reconstruction error: 0.040722\n",
      "Epoch: 0 batch #: 53  of 300 sample #: 199 reconstruction error: 0.104476\n",
      "Epoch: 0 batch #: 54  of 300 sample #: 199 reconstruction error: 0.045472\n",
      "Epoch: 0 batch #: 55  of 300 sample #: 199 reconstruction error: 0.103352\n",
      "Epoch: 0 batch #: 56  of 300 sample #: 199 reconstruction error: 0.053234\n",
      "Epoch: 0 batch #: 57  of 300 sample #: 199 reconstruction error: 0.055938\n",
      "Epoch: 0 batch #: 58  of 300 sample #: 199 reconstruction error: 0.081580\n",
      "Epoch: 0 batch #: 59  of 300 sample #: 199 reconstruction error: 0.058522\n",
      "Epoch: 0 batch #: 60  of 300 sample #: 199 reconstruction error: 0.105049\n",
      "Epoch: 0 batch #: 61  of 300 sample #: 199 reconstruction error: 0.078176\n",
      "Epoch: 0 batch #: 62  of 300 sample #: 199 reconstruction error: 0.082519\n",
      "Epoch: 0 batch #: 63  of 300 sample #: 199 reconstruction error: 0.056036\n",
      "Epoch: 0 batch #: 64  of 300 sample #: 199 reconstruction error: 0.081061\n",
      "Epoch: 0 batch #: 65  of 300 sample #: 199 reconstruction error: 0.083314\n",
      "Epoch: 0 batch #: 66  of 300 sample #: 199 reconstruction error: 0.056379\n",
      "Epoch: 0 batch #: 67  of 300 sample #: 199 reconstruction error: 0.043392\n",
      "Epoch: 0 batch #: 68  of 300 sample #: 199 reconstruction error: 0.078069\n",
      "Epoch: 0 batch #: 69  of 300 sample #: 199 reconstruction error: 0.083828\n",
      "Epoch: 0 batch #: 70  of 300 sample #: 199 reconstruction error: 0.077331\n",
      "Epoch: 0 batch #: 71  of 300 sample #: 199 reconstruction error: 0.082272\n",
      "Epoch: 0 batch #: 72  of 300 sample #: 199 reconstruction error: 0.072280\n",
      "Epoch: 0 batch #: 73  of 300 sample #: 199 reconstruction error: 0.101484\n",
      "Epoch: 0 batch #: 74  of 300 sample #: 199 reconstruction error: 0.096120\n",
      "Epoch: 0 batch #: 75  of 300 sample #: 199 reconstruction error: 0.045842\n",
      "Epoch: 0 batch #: 76  of 300 sample #: 199 reconstruction error: 0.067182\n",
      "Epoch: 0 batch #: 77  of 300 sample #: 199 reconstruction error: 0.101414\n",
      "Epoch: 0 batch #: 78  of 300 sample #: 199 reconstruction error: 0.098532\n",
      "Epoch: 0 batch #: 79  of 300 sample #: 199 reconstruction error: 0.115485\n",
      "Epoch: 0 batch #: 80  of 300 sample #: 199 reconstruction error: 0.034512\n",
      "Epoch: 0 batch #: 81  of 300 sample #: 199 reconstruction error: 0.050979\n",
      "Epoch: 0 batch #: 82  of 300 sample #: 199 reconstruction error: 0.057832\n",
      "Epoch: 0 batch #: 83  of 300 sample #: 199 reconstruction error: 0.083178\n",
      "Epoch: 0 batch #: 84  of 300 sample #: 199 reconstruction error: 0.080379\n",
      "Epoch: 0 batch #: 85  of 300 sample #: 199 reconstruction error: 0.053656\n",
      "Epoch: 0 batch #: 86  of 300 sample #: 199 reconstruction error: 0.073849\n",
      "Epoch: 0 batch #: 87  of 300 sample #: 199 reconstruction error: 0.071784\n",
      "Epoch: 0 batch #: 88  of 300 sample #: 199 reconstruction error: 0.033394\n",
      "Epoch: 0 batch #: 89  of 300 sample #: 199 reconstruction error: 0.058753\n",
      "Epoch: 0 batch #: 90  of 300 sample #: 199 reconstruction error: 0.075385\n",
      "Epoch: 0 batch #: 91  of 300 sample #: 199 reconstruction error: 0.059556\n",
      "Epoch: 0 batch #: 92  of 300 sample #: 199 reconstruction error: 0.081810\n",
      "Epoch: 0 batch #: 93  of 300 sample #: 199 reconstruction error: 0.116253\n",
      "Epoch: 0 batch #: 94  of 300 sample #: 199 reconstruction error: 0.112004\n",
      "Epoch: 0 batch #: 95  of 300 sample #: 199 reconstruction error: 0.071463\n",
      "Epoch: 0 batch #: 96  of 300 sample #: 199 reconstruction error: 0.050374\n",
      "Epoch: 0 batch #: 97  of 300 sample #: 199 reconstruction error: 0.105400\n",
      "Epoch: 0 batch #: 98  of 300 sample #: 199 reconstruction error: 0.080571\n",
      "Epoch: 0 batch #: 99  of 300 sample #: 199 reconstruction error: 0.063133\n",
      "Epoch: 0 batch #: 100  of 300 sample #: 199 reconstruction error: 0.083133\n",
      "Epoch: 0 batch #: 101  of 300 sample #: 199 reconstruction error: 0.080525\n",
      "Epoch: 0 batch #: 102  of 300 sample #: 199 reconstruction error: 0.075119\n",
      "Epoch: 0 batch #: 103  of 300 sample #: 199 reconstruction error: 0.081991\n",
      "Epoch: 0 batch #: 104  of 300 sample #: 199 reconstruction error: 0.076850\n",
      "Epoch: 0 batch #: 105  of 300 sample #: 199 reconstruction error: 0.061647\n",
      "Epoch: 0 batch #: 106  of 300 sample #: 199 reconstruction error: 0.109733\n",
      "Epoch: 0 batch #: 107  of 300 sample #: 199 reconstruction error: 0.125218\n",
      "Epoch: 0 batch #: 108  of 300 sample #: 199 reconstruction error: 0.058388\n",
      "Epoch: 0 batch #: 109  of 300 sample #: 199 reconstruction error: 0.115437\n",
      "Epoch: 0 batch #: 110  of 300 sample #: 199 reconstruction error: 0.059367\n",
      "Epoch: 0 batch #: 111  of 300 sample #: 199 reconstruction error: 0.114887\n"
     ]
    },
    {
     "name": "stdout",
     "output_type": "stream",
     "text": [
      "Epoch: 0 batch #: 112  of 300 sample #: 199 reconstruction error: 0.044082\n",
      "Epoch: 0 batch #: 113  of 300 sample #: 199 reconstruction error: 0.059198\n",
      "Epoch: 0 batch #: 114  of 300 sample #: 199 reconstruction error: 0.082993\n",
      "Epoch: 0 batch #: 115  of 300 sample #: 199 reconstruction error: 0.054629\n",
      "Epoch: 0 batch #: 116  of 300 sample #: 199 reconstruction error: 0.045453\n",
      "Epoch: 0 batch #: 117  of 300 sample #: 199 reconstruction error: 0.037570\n",
      "Epoch: 0 batch #: 118  of 300 sample #: 199 reconstruction error: 0.083049\n",
      "Epoch: 0 batch #: 119  of 300 sample #: 199 reconstruction error: 0.121592\n",
      "Epoch: 0 batch #: 120  of 300 sample #: 199 reconstruction error: 0.082183\n",
      "Epoch: 0 batch #: 121  of 300 sample #: 199 reconstruction error: 0.055928\n",
      "Epoch: 0 batch #: 122  of 300 sample #: 199 reconstruction error: 0.090533\n",
      "Epoch: 0 batch #: 123  of 300 sample #: 199 reconstruction error: 0.079889\n",
      "Epoch: 0 batch #: 124  of 300 sample #: 199 reconstruction error: 0.059883\n",
      "Epoch: 0 batch #: 125  of 300 sample #: 199 reconstruction error: 0.044596\n",
      "Epoch: 0 batch #: 126  of 300 sample #: 199 reconstruction error: 0.087728\n",
      "Epoch: 0 batch #: 127  of 300 sample #: 199 reconstruction error: 0.083752\n",
      "Epoch: 0 batch #: 128  of 300 sample #: 199 reconstruction error: 0.051175\n",
      "Epoch: 0 batch #: 129  of 300 sample #: 199 reconstruction error: 0.048079\n",
      "Epoch: 0 batch #: 130  of 300 sample #: 199 reconstruction error: 0.078775\n",
      "Epoch: 0 batch #: 131  of 300 sample #: 199 reconstruction error: 0.058735\n",
      "Epoch: 0 batch #: 132  of 300 sample #: 199 reconstruction error: 0.045135\n",
      "Epoch: 0 batch #: 133  of 300 sample #: 199 reconstruction error: 0.055285\n",
      "Epoch: 0 batch #: 134  of 300 sample #: 199 reconstruction error: 0.117881\n",
      "Epoch: 0 batch #: 135  of 300 sample #: 199 reconstruction error: 0.103502\n",
      "Epoch: 0 batch #: 136  of 300 sample #: 199 reconstruction error: 0.089564\n",
      "Epoch: 0 batch #: 137  of 300 sample #: 199 reconstruction error: 0.057636\n",
      "Epoch: 0 batch #: 138  of 300 sample #: 199 reconstruction error: 0.066009\n",
      "Epoch: 0 batch #: 139  of 300 sample #: 199 reconstruction error: 0.119033\n",
      "Epoch: 0 batch #: 140  of 300 sample #: 199 reconstruction error: 0.086290\n",
      "Epoch: 0 batch #: 141  of 300 sample #: 199 reconstruction error: 0.098807\n",
      "Epoch: 0 batch #: 142  of 300 sample #: 199 reconstruction error: 0.068544\n",
      "Epoch: 0 batch #: 143  of 300 sample #: 199 reconstruction error: 0.049984\n",
      "Epoch: 0 batch #: 144  of 300 sample #: 199 reconstruction error: 0.064472\n",
      "Epoch: 0 batch #: 145  of 300 sample #: 199 reconstruction error: 0.085268\n",
      "Epoch: 0 batch #: 146  of 300 sample #: 199 reconstruction error: 0.086588\n",
      "Epoch: 0 batch #: 147  of 300 sample #: 199 reconstruction error: 0.059916\n",
      "Epoch: 0 batch #: 148  of 300 sample #: 199 reconstruction error: 0.075244\n",
      "Epoch: 0 batch #: 149  of 300 sample #: 199 reconstruction error: 0.053711\n",
      "Epoch: 0 batch #: 150  of 300 sample #: 199 reconstruction error: 0.040188\n",
      "Epoch: 0 batch #: 151  of 300 sample #: 199 reconstruction error: 0.127005\n",
      "Epoch: 0 batch #: 152  of 300 sample #: 199 reconstruction error: 0.084125\n",
      "Epoch: 0 batch #: 153  of 300 sample #: 199 reconstruction error: 0.049968\n",
      "Epoch: 0 batch #: 154  of 300 sample #: 199 reconstruction error: 0.072297\n",
      "Epoch: 0 batch #: 155  of 300 sample #: 199 reconstruction error: 0.078199\n",
      "Epoch: 0 batch #: 156  of 300 sample #: 199 reconstruction error: 0.093569\n",
      "Epoch: 0 batch #: 157  of 300 sample #: 199 reconstruction error: 0.080934\n",
      "Epoch: 0 batch #: 158  of 300 sample #: 199 reconstruction error: 0.060776\n",
      "Epoch: 0 batch #: 159  of 300 sample #: 199 reconstruction error: 0.057616\n",
      "Epoch: 0 batch #: 160  of 300 sample #: 199 reconstruction error: 0.071814\n",
      "Epoch: 0 batch #: 161  of 300 sample #: 199 reconstruction error: 0.091508\n",
      "Epoch: 0 batch #: 162  of 300 sample #: 199 reconstruction error: 0.104830\n",
      "Epoch: 0 batch #: 163  of 300 sample #: 199 reconstruction error: 0.041237\n",
      "Epoch: 0 batch #: 164  of 300 sample #: 199 reconstruction error: 0.060503\n",
      "Epoch: 0 batch #: 165  of 300 sample #: 199 reconstruction error: 0.089303\n",
      "Epoch: 0 batch #: 166  of 300 sample #: 199 reconstruction error: 0.053993\n",
      "Epoch: 0 batch #: 167  of 300 sample #: 199 reconstruction error: 0.081482\n",
      "Epoch: 0 batch #: 168  of 300 sample #: 199 reconstruction error: 0.054293\n",
      "Epoch: 0 batch #: 169  of 300 sample #: 199 reconstruction error: 0.029368\n",
      "Epoch: 0 batch #: 170  of 300 sample #: 199 reconstruction error: 0.064346\n",
      "Epoch: 0 batch #: 171  of 300 sample #: 199 reconstruction error: 0.037358\n",
      "Epoch: 0 batch #: 172  of 300 sample #: 199 reconstruction error: 0.045305\n",
      "Epoch: 0 batch #: 173  of 300 sample #: 199 reconstruction error: 0.076045\n",
      "Epoch: 0 batch #: 174  of 300 sample #: 199 reconstruction error: 0.108618\n",
      "Epoch: 0 batch #: 175  of 300 sample #: 199 reconstruction error: 0.072103\n",
      "Epoch: 0 batch #: 176  of 300 sample #: 199 reconstruction error: 0.057716\n",
      "Epoch: 0 batch #: 177  of 300 sample #: 199 reconstruction error: 0.038008\n",
      "Epoch: 0 batch #: 178  of 300 sample #: 199 reconstruction error: 0.125523\n",
      "Epoch: 0 batch #: 179  of 300 sample #: 199 reconstruction error: 0.069582\n",
      "Epoch: 0 batch #: 180  of 300 sample #: 199 reconstruction error: 0.081105\n",
      "Epoch: 0 batch #: 181  of 300 sample #: 199 reconstruction error: 0.079421\n",
      "Epoch: 0 batch #: 182  of 300 sample #: 199 reconstruction error: 0.080378\n",
      "Epoch: 0 batch #: 183  of 300 sample #: 199 reconstruction error: 0.116297\n",
      "Epoch: 0 batch #: 184  of 300 sample #: 199 reconstruction error: 0.056685\n",
      "Epoch: 0 batch #: 185  of 300 sample #: 199 reconstruction error: 0.087239\n",
      "Epoch: 0 batch #: 186  of 300 sample #: 199 reconstruction error: 0.093110\n",
      "Epoch: 0 batch #: 187  of 300 sample #: 199 reconstruction error: 0.057623\n",
      "Epoch: 0 batch #: 188  of 300 sample #: 199 reconstruction error: 0.097735\n",
      "Epoch: 0 batch #: 189  of 300 sample #: 199 reconstruction error: 0.100460\n",
      "Epoch: 0 batch #: 190  of 300 sample #: 199 reconstruction error: 0.062563\n",
      "Epoch: 0 batch #: 191  of 300 sample #: 199 reconstruction error: 0.097675\n",
      "Epoch: 0 batch #: 192  of 300 sample #: 199 reconstruction error: 0.119424\n",
      "Epoch: 0 batch #: 193  of 300 sample #: 199 reconstruction error: 0.081805\n",
      "Epoch: 0 batch #: 194  of 300 sample #: 199 reconstruction error: 0.095691\n",
      "Epoch: 0 batch #: 195  of 300 sample #: 199 reconstruction error: 0.059564\n",
      "Epoch: 0 batch #: 196  of 300 sample #: 199 reconstruction error: 0.050459\n",
      "Epoch: 0 batch #: 197  of 300 sample #: 199 reconstruction error: 0.050288\n",
      "Epoch: 0 batch #: 198  of 300 sample #: 199 reconstruction error: 0.084237\n",
      "Epoch: 0 batch #: 199  of 300 sample #: 199 reconstruction error: 0.075777\n",
      "Epoch: 0 batch #: 200  of 300 sample #: 199 reconstruction error: 0.112255\n",
      "Epoch: 0 batch #: 201  of 300 sample #: 199 reconstruction error: 0.085816\n",
      "Epoch: 0 batch #: 202  of 300 sample #: 199 reconstruction error: 0.024047\n",
      "Epoch: 0 batch #: 203  of 300 sample #: 199 reconstruction error: 0.084409\n",
      "Epoch: 0 batch #: 204  of 300 sample #: 199 reconstruction error: 0.060013\n",
      "Epoch: 0 batch #: 205  of 300 sample #: 199 reconstruction error: 0.020915\n",
      "Epoch: 0 batch #: 206  of 300 sample #: 199 reconstruction error: 0.064798\n",
      "Epoch: 0 batch #: 207  of 300 sample #: 199 reconstruction error: 0.081758\n",
      "Epoch: 0 batch #: 208  of 300 sample #: 199 reconstruction error: 0.051784\n",
      "Epoch: 0 batch #: 209  of 300 sample #: 199 reconstruction error: 0.033177\n",
      "Epoch: 0 batch #: 210  of 300 sample #: 199 reconstruction error: 0.091729\n",
      "Epoch: 0 batch #: 211  of 300 sample #: 199 reconstruction error: 0.086002\n",
      "Epoch: 0 batch #: 212  of 300 sample #: 199 reconstruction error: 0.087458\n",
      "Epoch: 0 batch #: 213  of 300 sample #: 199 reconstruction error: 0.091499\n",
      "Epoch: 0 batch #: 214  of 300 sample #: 199 reconstruction error: 0.107011\n",
      "Epoch: 0 batch #: 215  of 300 sample #: 199 reconstruction error: 0.035730\n",
      "Epoch: 0 batch #: 216  of 300 sample #: 199 reconstruction error: 0.113857\n",
      "Epoch: 0 batch #: 217  of 300 sample #: 199 reconstruction error: 0.096882\n",
      "Epoch: 0 batch #: 218  of 300 sample #: 199 reconstruction error: 0.061514\n",
      "Epoch: 0 batch #: 219  of 300 sample #: 199 reconstruction error: 0.081515\n",
      "Epoch: 0 batch #: 220  of 300 sample #: 199 reconstruction error: 0.066253\n",
      "Epoch: 0 batch #: 221  of 300 sample #: 199 reconstruction error: 0.097527\n"
     ]
    },
    {
     "name": "stdout",
     "output_type": "stream",
     "text": [
      "Epoch: 0 batch #: 222  of 300 sample #: 199 reconstruction error: 0.091323\n",
      "Epoch: 0 batch #: 223  of 300 sample #: 199 reconstruction error: 0.071753\n",
      "Epoch: 0 batch #: 224  of 300 sample #: 199 reconstruction error: 0.061085\n",
      "Epoch: 0 batch #: 225  of 300 sample #: 199 reconstruction error: 0.079062\n",
      "Epoch: 0 batch #: 226  of 300 sample #: 199 reconstruction error: 0.135920\n",
      "Epoch: 0 batch #: 227  of 300 sample #: 199 reconstruction error: 0.084209\n",
      "Epoch: 0 batch #: 228  of 300 sample #: 199 reconstruction error: 0.076540\n",
      "Epoch: 0 batch #: 229  of 300 sample #: 199 reconstruction error: 0.075910\n",
      "Epoch: 0 batch #: 230  of 300 sample #: 199 reconstruction error: 0.043312\n",
      "Epoch: 0 batch #: 231  of 300 sample #: 199 reconstruction error: 0.029501\n",
      "Epoch: 0 batch #: 232  of 300 sample #: 199 reconstruction error: 0.067833\n",
      "Epoch: 0 batch #: 233  of 300 sample #: 199 reconstruction error: 0.088212\n",
      "Epoch: 0 batch #: 234  of 300 sample #: 199 reconstruction error: 0.059350\n",
      "Epoch: 0 batch #: 235  of 300 sample #: 199 reconstruction error: 0.069625\n",
      "Epoch: 0 batch #: 236  of 300 sample #: 199 reconstruction error: 0.081569\n",
      "Epoch: 0 batch #: 237  of 300 sample #: 199 reconstruction error: 0.082601\n",
      "Epoch: 0 batch #: 238  of 300 sample #: 199 reconstruction error: 0.110454\n",
      "Epoch: 0 batch #: 239  of 300 sample #: 199 reconstruction error: 0.025639\n",
      "Epoch: 0 batch #: 240  of 300 sample #: 199 reconstruction error: 0.117619\n",
      "Epoch: 0 batch #: 241  of 300 sample #: 199 reconstruction error: 0.084351\n",
      "Epoch: 0 batch #: 242  of 300 sample #: 199 reconstruction error: 0.072426\n",
      "Epoch: 0 batch #: 243  of 300 sample #: 199 reconstruction error: 0.076788\n",
      "Epoch: 0 batch #: 244  of 300 sample #: 199 reconstruction error: 0.097340\n",
      "Epoch: 0 batch #: 245  of 300 sample #: 199 reconstruction error: 0.072732\n",
      "Epoch: 0 batch #: 246  of 300 sample #: 199 reconstruction error: 0.093572\n",
      "Epoch: 0 batch #: 247  of 300 sample #: 199 reconstruction error: 0.046045\n",
      "Epoch: 0 batch #: 248  of 300 sample #: 199 reconstruction error: 0.065581\n",
      "Epoch: 0 batch #: 249  of 300 sample #: 199 reconstruction error: 0.048697\n",
      "Epoch: 0 batch #: 250  of 300 sample #: 199 reconstruction error: 0.092423\n",
      "Epoch: 0 batch #: 251  of 300 sample #: 199 reconstruction error: 0.052398\n",
      "Epoch: 0 batch #: 252  of 300 sample #: 199 reconstruction error: 0.082592\n",
      "Epoch: 0 batch #: 253  of 300 sample #: 199 reconstruction error: 0.060872\n",
      "Epoch: 0 batch #: 254  of 300 sample #: 199 reconstruction error: 0.026922\n",
      "Epoch: 0 batch #: 255  of 300 sample #: 199 reconstruction error: 0.060835\n",
      "Epoch: 0 batch #: 256  of 300 sample #: 199 reconstruction error: 0.084508\n",
      "Epoch: 0 batch #: 257  of 300 sample #: 199 reconstruction error: 0.087267\n",
      "Epoch: 0 batch #: 258  of 300 sample #: 199 reconstruction error: 0.093321\n",
      "Epoch: 0 batch #: 259  of 300 sample #: 199 reconstruction error: 0.074338\n",
      "Epoch: 0 batch #: 260  of 300 sample #: 199 reconstruction error: 0.085553\n",
      "Epoch: 0 batch #: 261  of 300 sample #: 199 reconstruction error: 0.041780\n",
      "Epoch: 0 batch #: 262  of 300 sample #: 199 reconstruction error: 0.059495\n",
      "Epoch: 0 batch #: 263  of 300 sample #: 199 reconstruction error: 0.072450\n",
      "Epoch: 0 batch #: 264  of 300 sample #: 199 reconstruction error: 0.060319\n",
      "Epoch: 0 batch #: 265  of 300 sample #: 199 reconstruction error: 0.079847\n",
      "Epoch: 0 batch #: 266  of 300 sample #: 199 reconstruction error: 0.035489\n",
      "Epoch: 0 batch #: 267  of 300 sample #: 199 reconstruction error: 0.053956\n",
      "Epoch: 0 batch #: 268  of 300 sample #: 199 reconstruction error: 0.022364\n",
      "Epoch: 0 batch #: 269  of 300 sample #: 199 reconstruction error: 0.085707\n",
      "Epoch: 0 batch #: 270  of 300 sample #: 199 reconstruction error: 0.059097\n",
      "Epoch: 0 batch #: 271  of 300 sample #: 199 reconstruction error: 0.051326\n",
      "Epoch: 0 batch #: 272  of 300 sample #: 199 reconstruction error: 0.057784\n",
      "Epoch: 0 batch #: 273  of 300 sample #: 199 reconstruction error: 0.033604\n",
      "Epoch: 0 batch #: 274  of 300 sample #: 199 reconstruction error: 0.051490\n",
      "Epoch: 0 batch #: 275  of 300 sample #: 199 reconstruction error: 0.088296\n",
      "Epoch: 0 batch #: 276  of 300 sample #: 199 reconstruction error: 0.075972\n",
      "Epoch: 0 batch #: 277  of 300 sample #: 199 reconstruction error: 0.080707\n",
      "Epoch: 0 batch #: 278  of 300 sample #: 199 reconstruction error: 0.049991\n",
      "Epoch: 0 batch #: 279  of 300 sample #: 199 reconstruction error: 0.052371\n",
      "Epoch: 0 batch #: 280  of 300 sample #: 199 reconstruction error: 0.076423\n",
      "Epoch: 0 batch #: 281  of 300 sample #: 199 reconstruction error: 0.073709\n",
      "Epoch: 0 batch #: 282  of 300 sample #: 199 reconstruction error: 0.102560\n",
      "Epoch: 0 batch #: 283  of 300 sample #: 199 reconstruction error: 0.045651\n",
      "Epoch: 0 batch #: 284  of 300 sample #: 199 reconstruction error: 0.055369\n",
      "Epoch: 0 batch #: 285  of 300 sample #: 199 reconstruction error: 0.063510\n",
      "Epoch: 0 batch #: 286  of 300 sample #: 199 reconstruction error: 0.100866\n",
      "Epoch: 0 batch #: 287  of 300 sample #: 199 reconstruction error: 0.074726\n",
      "Epoch: 0 batch #: 288  of 300 sample #: 199 reconstruction error: 0.028107\n",
      "Epoch: 0 batch #: 289  of 300 sample #: 199 reconstruction error: 0.081060\n",
      "Epoch: 0 batch #: 290  of 300 sample #: 199 reconstruction error: 0.098599\n",
      "Epoch: 0 batch #: 291  of 300 sample #: 199 reconstruction error: 0.132113\n",
      "Epoch: 0 batch #: 292  of 300 sample #: 199 reconstruction error: 0.063259\n",
      "Epoch: 0 batch #: 293  of 300 sample #: 199 reconstruction error: 0.046296\n",
      "Epoch: 0 batch #: 294  of 300 sample #: 199 reconstruction error: 0.078985\n",
      "Epoch: 0 batch #: 295  of 300 sample #: 199 reconstruction error: 0.065413\n",
      "Epoch: 0 batch #: 296  of 300 sample #: 199 reconstruction error: 0.020356\n",
      "Epoch: 0 batch #: 297  of 300 sample #: 199 reconstruction error: 0.120113\n",
      "Epoch: 0 batch #: 298  of 300 sample #: 199 reconstruction error: 0.050126\n",
      "Epoch: 0 batch #: 299  of 300 sample #: 199 reconstruction error: 0.063531\n",
      "Epoch: 0 batch #: 300  of 300 sample #: 199 reconstruction error: 0.071850\n"
     ]
    }
   ],
   "source": [
    "#Parameters\n",
    "alpha = 0.01\n",
    "epochs = 1\n",
    "batchsize = 200\n",
    "weights = []\n",
    "errors = []\n",
    "batch_number = 0\n",
    "K = 1\n",
    "\n",
    "#creating datasets\n",
    "train_ds = \\\n",
    "    tf.data.Dataset.from_tensor_slices((trX, trY)).batch(batchsize)\n",
    "\n",
    "for epoch in range(epochs):\n",
    "    for batch_x, batch_y in train_ds:\n",
    "        batch_number += 1\n",
    "        for i_sample in range(batchsize):           \n",
    "            for k in range(K):\n",
    "                v0_state = batch_x[i_sample]\n",
    "                h0_state = hidden_layer(v0_state, W, hb)\n",
    "                v1_state = reconstructed_output(h0_state, W, vb)\n",
    "                h1_state = hidden_layer(v1_state, W, hb)\n",
    "\n",
    "                delta_W = tf.matmul(tf.transpose([v0_state]), h0_state) - tf.matmul(tf.transpose([v1_state]), h1_state)\n",
    "                W = W + alpha * delta_W\n",
    "\n",
    "                vb = vb + alpha * tf.reduce_mean(v0_state - v1_state, 0)\n",
    "                hb = hb + alpha * tf.reduce_mean(h0_state - h1_state, 0) \n",
    "\n",
    "                v0_state = v1_state\n",
    "\n",
    "            if i_sample == batchsize-1:\n",
    "                err = error(batch_x[i_sample], v1_state)\n",
    "                errors.append(err)\n",
    "                weights.append(W)\n",
    "                print ( 'Epoch: %d' % epoch, \n",
    "                       \"batch #: %i \" % batch_number, \"of %i\" % int(60e3/batchsize), \n",
    "                       \"sample #: %i\" % i_sample,\n",
    "                       'reconstruction error: %f' % err)\n",
    "\n"
   ]
  },
  {
   "cell_type": "markdown",
   "metadata": {},
   "source": [
    "Let's take a look at the errors at the end of each batch:\n"
   ]
  },
  {
   "cell_type": "code",
   "execution_count": 19,
   "metadata": {},
   "outputs": [
    {
     "data": {
      "image/png": "[encoded data removed]",
      "text/plain": [
       "<Figure size 432x288 with 1 Axes>"
      ]
     },
     "metadata": {
      "needs_background": "light"
     },
     "output_type": "display_data"
    }
   ],
   "source": [
    "plt.plot(errors)\n",
    "plt.xlabel(\"Batch Number\")\n",
    "plt.ylabel(\"Error\")\n",
    "plt.show()"
   ]
  },
  {
   "cell_type": "markdown",
   "metadata": {},
   "source": [
    "What is the final weight matrix $W$ after training?\n"
   ]
  },
  {
   "cell_type": "code",
   "execution_count": 20,
   "metadata": {},
   "outputs": [
    {
     "name": "stdout",
     "output_type": "stream",
     "text": [
      "[[-0.35999992 -0.30999997 -0.57999974 ... -0.46999982 -0.22000003\n",
      "  -0.29      ]\n",
      " [-0.31999996 -0.29999998 -0.4799998  ... -0.45999983 -0.28\n",
      "  -0.24000004]\n",
      " [-0.30999997 -0.29       -0.57999974 ... -0.4899998  -0.27\n",
      "  -0.29      ]\n",
      " ...\n",
      " [-0.3799999  -0.33999994 -0.55999976 ... -0.42999986 -0.28\n",
      "  -0.24000004]\n",
      " [-0.33999994 -0.30999997 -0.5299998  ... -0.42999986 -0.28\n",
      "  -0.24000004]\n",
      " [-0.29999998 -0.25000003 -0.5399998  ... -0.40999988 -0.23000003\n",
      "  -0.27      ]]\n"
     ]
    }
   ],
   "source": [
    "print(W.numpy()) # a weight matrix of shape (50,784)"
   ]
  },
  {
   "cell_type": "markdown",
   "metadata": {},
   "source": [
    "<a id=\"ref5\"></a>\n",
    "\n",
    "<h3>Learned features</h3> \n"
   ]
  },
  {
   "cell_type": "markdown",
   "metadata": {},
   "source": [
    "We can take each hidden unit and visualize the connections between that hidden unit and each element in the input vector. In our case, we have 50 hidden units. Lets visualize those.\n"
   ]
  },
  {
   "cell_type": "markdown",
   "metadata": {},
   "source": [
    "Let's plot the current weights:\n",
    "<b>tile_raster_images</b> helps in generating an easy to grasp image from a set of samples or weights. It transforms the <b>uw</b> (with one flattened image per row of size 784), into an array (of size $28\\times28$) in which images are reshaped and laid out like tiles on a floor.\n"
   ]
  },
  {
   "cell_type": "code",
   "execution_count": 21,
   "metadata": {},
   "outputs": [
    {
     "data": {
      "image/png": "[encoded data removed]",
      "text/plain": [
       "<Figure size 1296x1296 with 1 Axes>"
      ]
     },
     "metadata": {
      "needs_background": "light"
     },
     "output_type": "display_data"
    }
   ],
   "source": [
    "tile_raster_images(X=W.numpy().T, img_shape=(28, 28), tile_shape=(5, 10), tile_spacing=(1, 1))\n",
    "import matplotlib.pyplot as plt\n",
    "from PIL import Image\n",
    "%matplotlib inline\n",
    "image = Image.fromarray(tile_raster_images(X=W.numpy().T, img_shape=(28, 28) ,tile_shape=(5, 10), tile_spacing=(1, 1)))\n",
    "### Plot image\n",
    "plt.rcParams['figure.figsize'] = (18.0, 18.0)\n",
    "imgplot = plt.imshow(image)\n",
    "imgplot.set_cmap('gray')  "
   ]
  },
  {
   "cell_type": "markdown",
   "metadata": {},
   "source": [
    "Each tile in the above visualization corresponds to a vector of connections between a hidden unit and visible layer's units. \n"
   ]
  },
  {
   "cell_type": "markdown",
   "metadata": {},
   "source": [
    "Let's look at one of the learned weights corresponding to one of hidden units for example. In this particular square, the gray color represents weight = 0, and the whiter it is, the more positive the weights are (closer to 1). Conversely, the darker pixels are, the more negative the weights. The positive pixels will increase the probability of activation in hidden units (after multiplying by input/visible pixels), and negative pixels will decrease the probability of a unit hidden to be 1 (activated). So, why is this important?  So we can see that this specific square (hidden unit) can detect a feature (e.g. a \"/\" shape) and if it exists in the input.\n"
   ]
  },
  {
   "cell_type": "code",
   "execution_count": 22,
   "metadata": {},
   "outputs": [
    {
     "data": {
      "image/png": "[encoded data removed]",
      "text/plain": [
       "<Figure size 288x288 with 1 Axes>"
      ]
     },
     "metadata": {
      "needs_background": "light"
     },
     "output_type": "display_data"
    }
   ],
   "source": [
    "from PIL import Image\n",
    "image = Image.fromarray(tile_raster_images(X =W.numpy().T[10:11], img_shape=(28, 28),tile_shape=(1, 1), tile_spacing=(1, 1)))\n",
    "### Plot image\n",
    "plt.rcParams['figure.figsize'] = (4.0, 4.0)\n",
    "imgplot = plt.imshow(image)\n",
    "imgplot.set_cmap('gray')  "
   ]
  },
  {
   "cell_type": "markdown",
   "metadata": {},
   "source": [
    "Let's look at the reconstruction of an image now. Imagine that we have a destructed image of figure 3. Lets see if our trained network can fix it:\n",
    "\n",
    "First we plot the image:\n"
   ]
  },
  {
   "cell_type": "code",
   "execution_count": 23,
   "metadata": {},
   "outputs": [
    {
     "name": "stdout",
     "output_type": "stream",
     "text": [
      "--2021-06-10 14:51:42--  https://ibm.box.com/shared/static/vvm1b63uvuxq88vbw9znpwu5ol380mco.jpg\n",
      "Loaded CA certificate '/etc/ssl/certs/ca-certificates.crt'\n",
      "Resolving ibm.box.com (ibm.box.com)... 107.152.29.197\n",
      "Connecting to ibm.box.com (ibm.box.com)|107.152.29.197|:443... connected.\n",
      "HTTP request sent, awaiting response... 301 Moved Permanently\n",
      "Location: /public/static/vvm1b63uvuxq88vbw9znpwu5ol380mco.jpg [following]\n",
      "--2021-06-10 14:51:43--  https://ibm.box.com/public/static/vvm1b63uvuxq88vbw9znpwu5ol380mco.jpg\n",
      "Reusing existing connection to ibm.box.com:443.\n",
      "HTTP request sent, awaiting response... 301 Moved Permanently\n",
      "Location: https://ibm.ent.box.com/public/static/vvm1b63uvuxq88vbw9znpwu5ol380mco.jpg [following]\n",
      "--2021-06-10 14:51:43--  https://ibm.ent.box.com/public/static/vvm1b63uvuxq88vbw9znpwu5ol380mco.jpg\n",
      "Resolving ibm.ent.box.com (ibm.ent.box.com)... 107.152.29.201\n",
      "Connecting to ibm.ent.box.com (ibm.ent.box.com)|107.152.29.201|:443... connected.\n",
      "HTTP request sent, awaiting response... 302 Found\n",
      "Location: https://public.boxcloud.com/d/1/b1!9vtpXPY2vuEiaCBRMSVe7vqcUh-SBSx2nnanemtBehHVstnQEPwr1_QQ1dnxH31LO4juvx5USVR_H1Kq2M--9QmBMAQSXSoNGRURrjKeK_4ZxOhtbpkhirUtFA5nFqXiMb9anLD3uhDjliQHjVewd59pcBDgjaFPZvQMhwKZD7I0P8vWXNS5jVi-dATyFqzbuNPrz42rqp9Y1juZhOu0bWmifORBgLjCjRUNUDt8ZW27EVuFMEp_K_ZvrJFbW4txFk6tdx3_sJcDlmMR6o5hHNpTE9E4ZVp6GchPIcxTMBsSf8MGW5BJQhD9fLD-nkRacAuJgvWo1_vnE8irL5NUFEDuuTIvZBI-pES8neTRbxWkTrObV78Z34G-jxpy360IcbAdzW5_N_OSAl8lNfyEbl3jRczV7mfdxspMOz38nXHBeBy5xxlvb6fDJNoCXrX7-9weennHvJ85F7X_vXAcPAMxMS9RsqLNkkiMVWf5gvbslfyvuEDbsuuFJqKPVJuoVC7QMs0xh7EBgXEnYLAws-WYLo8rn8B5psmRafIrlEKIiPzMPwkiqwL7S3TEKYd4U0YOm8PMDhKpk_WekiOx0Ekb0-uNCmntH4LTOXuotRQdteTsG7ivbltRDFL9nUCF5HW7ewZrtx2EKLcI1re7XKWns3IrpTsM0AHu6pnfjFTIEvnAVwtHGg8f2S_uHz9lW1u06ddb0YQpnU_OKWiVBN4kJ52uavenjAArFa_1pa9Bk5SqNnFV-dt7tjKePTgk8X0F92GuYVAarNbMrNKRPUTFJbr-yGPbQkbf_Hq5ioRFtjCYcsl0HniOVzLkgPqDd8TiSQR8FLHAJXq7MU0EY8GCClZIAEykCjpoVbATV0OJW-gDfASQQsh-1rEaFki5vW28QFY2k5jy2hZbppHrmy5KSckloKPaLT8qGfMoTCZjB3kpfcScthwyOqbh9PgGCTwhaLtCu5ApntCwZ6Kr8I00PIukzkOeB7udYo1vuL51R3HBjL6aw7OxiZq75sNiGzRESgPKzktA6_JCrqZBp0pafqUYkbxea6HGHdGdv2exk1ijKBxVBuQWc_vdPwKq2ktFLLXCCUM9CMNkUdMEUMnEiTcIARMej4njzZz5Xg8w8SzW1HVk9kWb8XsHY0omNQDcgsdDvhn130C1Dd2IVq82ALkXBjgcbG9yypZa2zy-sI_C_rOeiQNZc7RXWM7iMopX9vNAM8NXdMhnNRhYtHKfaLL00iX_F1OdhAf30eaiGZhAPAtiV0PnQgmfpaZ3EDiN_gK1Q94qsDCVdmGYH5OSOKuUccOgFUNFc20u_fukv8-a_ZARglrIHPvnqSWUNAZ7vnqKbSeMewd0Fo4GtzMNlHBJnB8WGkzhL1S73D05QTbk1EIzNj73DzQH4p2no_H2ZWJkCkz99l62QKlWzqezea5liw../download [following]\n",
      "--2021-06-10 14:51:45--  https://public.boxcloud.com/d/1/b1!9vtpXPY2vuEiaCBRMSVe7vqcUh-SBSx2nnanemtBehHVstnQEPwr1_QQ1dnxH31LO4juvx5USVR_H1Kq2M--9QmBMAQSXSoNGRURrjKeK_4ZxOhtbpkhirUtFA5nFqXiMb9anLD3uhDjliQHjVewd59pcBDgjaFPZvQMhwKZD7I0P8vWXNS5jVi-dATyFqzbuNPrz42rqp9Y1juZhOu0bWmifORBgLjCjRUNUDt8ZW27EVuFMEp_K_ZvrJFbW4txFk6tdx3_sJcDlmMR6o5hHNpTE9E4ZVp6GchPIcxTMBsSf8MGW5BJQhD9fLD-nkRacAuJgvWo1_vnE8irL5NUFEDuuTIvZBI-pES8neTRbxWkTrObV78Z34G-jxpy360IcbAdzW5_N_OSAl8lNfyEbl3jRczV7mfdxspMOz38nXHBeBy5xxlvb6fDJNoCXrX7-9weennHvJ85F7X_vXAcPAMxMS9RsqLNkkiMVWf5gvbslfyvuEDbsuuFJqKPVJuoVC7QMs0xh7EBgXEnYLAws-WYLo8rn8B5psmRafIrlEKIiPzMPwkiqwL7S3TEKYd4U0YOm8PMDhKpk_WekiOx0Ekb0-uNCmntH4LTOXuotRQdteTsG7ivbltRDFL9nUCF5HW7ewZrtx2EKLcI1re7XKWns3IrpTsM0AHu6pnfjFTIEvnAVwtHGg8f2S_uHz9lW1u06ddb0YQpnU_OKWiVBN4kJ52uavenjAArFa_1pa9Bk5SqNnFV-dt7tjKePTgk8X0F92GuYVAarNbMrNKRPUTFJbr-yGPbQkbf_Hq5ioRFtjCYcsl0HniOVzLkgPqDd8TiSQR8FLHAJXq7MU0EY8GCClZIAEykCjpoVbATV0OJW-gDfASQQsh-1rEaFki5vW28QFY2k5jy2hZbppHrmy5KSckloKPaLT8qGfMoTCZjB3kpfcScthwyOqbh9PgGCTwhaLtCu5ApntCwZ6Kr8I00PIukzkOeB7udYo1vuL51R3HBjL6aw7OxiZq75sNiGzRESgPKzktA6_JCrqZBp0pafqUYkbxea6HGHdGdv2exk1ijKBxVBuQWc_vdPwKq2ktFLLXCCUM9CMNkUdMEUMnEiTcIARMej4njzZz5Xg8w8SzW1HVk9kWb8XsHY0omNQDcgsdDvhn130C1Dd2IVq82ALkXBjgcbG9yypZa2zy-sI_C_rOeiQNZc7RXWM7iMopX9vNAM8NXdMhnNRhYtHKfaLL00iX_F1OdhAf30eaiGZhAPAtiV0PnQgmfpaZ3EDiN_gK1Q94qsDCVdmGYH5OSOKuUccOgFUNFc20u_fukv8-a_ZARglrIHPvnqSWUNAZ7vnqKbSeMewd0Fo4GtzMNlHBJnB8WGkzhL1S73D05QTbk1EIzNj73DzQH4p2no_H2ZWJkCkz99l62QKlWzqezea5liw../download\n",
      "Resolving public.boxcloud.com (public.boxcloud.com)... 107.152.29.200\n",
      "Connecting to public.boxcloud.com (public.boxcloud.com)|107.152.29.200|:443... connected.\n",
      "HTTP request sent, awaiting response... 200 OK\n",
      "Length: 24383 (24K) [image/jpeg]\n",
      "Saving to: ‘destructed3.jpg’\n",
      "\n",
      "destructed3.jpg     100%[===================>]  23.81K   114KB/s    in 0.2s    \n",
      "\n",
      "2021-06-10 14:51:47 (114 KB/s) - ‘destructed3.jpg’ saved [24383/24383]\n",
      "\n"
     ]
    },
    {
     "data": {
      "image/png": "[encoded data removed]",
      "text/plain": [
       "<PIL.JpegImagePlugin.JpegImageFile image mode=RGB size=181x181 at 0x7F8E00544D30>"
      ]
     },
     "execution_count": 23,
     "metadata": {},
     "output_type": "execute_result"
    }
   ],
   "source": [
    "!wget -O destructed3.jpg  https://ibm.box.com/shared/static/vvm1b63uvuxq88vbw9znpwu5ol380mco.jpg\n",
    "img = Image.open('destructed3.jpg')\n",
    "img"
   ]
  },
  {
   "cell_type": "markdown",
   "metadata": {},
   "source": [
    "Now let's pass this image through the neural net:\n"
   ]
  },
  {
   "cell_type": "code",
   "execution_count": 24,
   "metadata": {},
   "outputs": [],
   "source": [
    "# convert the image to a 1d numpy array\n",
    "sample_case = np.array(img.convert('I').resize((28,28))).ravel().reshape((1, -1))/255.0\n",
    "\n",
    "sample_case = tf.cast(sample_case, dtype=tf.float32)"
   ]
  },
  {
   "cell_type": "markdown",
   "metadata": {},
   "source": [
    "Feed the sample case into the network and reconstruct the output:\n"
   ]
  },
  {
   "cell_type": "code",
   "execution_count": 25,
   "metadata": {},
   "outputs": [
    {
     "name": "stdout",
     "output_type": "stream",
     "text": [
      "Probability nodes in hidden layer: tf.Tensor(\n",
      "[[4.7844917e-02 4.5619070e-14 2.0538008e-01 7.8598857e-03 2.7912230e-11\n",
      "  9.9724567e-01 1.0000000e+00 4.2311517e-06 1.2327495e-01 4.1357958e-01\n",
      "  8.9834952e-01 6.7932235e-12 1.0000000e+00 5.3119361e-03 5.5907375e-01\n",
      "  4.2581860e-07 3.6816892e-01 6.7455603e-14 2.1507442e-03 2.6510060e-03\n",
      "  9.9993259e-01 9.7988588e-01 1.0180692e-08 1.0000000e+00 4.0032272e-10\n",
      "  1.0000000e+00 9.9998915e-01 2.3224950e-04 2.0995736e-04 7.2854684e-15\n",
      "  8.8395238e-01 9.9957848e-01 9.9998844e-01 5.3175797e-12 8.1240594e-02\n",
      "  3.0022860e-04 9.5759177e-01 1.4989045e-06 1.7292482e-09 9.9998784e-01\n",
      "  3.5420739e-13 1.8371621e-13 9.1019787e-12 9.9999964e-01 2.7006675e-09\n",
      "  2.3261544e-01 9.3145168e-01 1.2535841e-09 7.0387836e-07 4.9933937e-12]], shape=(1, 50), dtype=float32)\n",
      "activated nodes in hidden layer: tf.Tensor(\n",
      "[[0. 0. 0. 0. 0. 1. 1. 0. 0. 0. 1. 0. 1. 0. 1. 0. 0. 0. 0. 0. 1. 1. 0. 1.\n",
      "  0. 1. 1. 0. 0. 0. 1. 1. 1. 0. 0. 0. 1. 0. 0. 1. 0. 0. 0. 1. 0. 0. 1. 0.\n",
      "  0. 0.]], shape=(1, 50), dtype=float32)\n",
      "tf.Tensor(\n",
      "[[4.02778387e-04 4.06682491e-04 3.39686871e-04 4.02748585e-04\n",
      "  4.54008579e-04 2.83777714e-04 3.98695469e-04 2.95341015e-04\n",
      "  5.94675541e-04 4.36216593e-04 3.29732895e-04 5.06758690e-04\n",
      "  3.98457050e-04 2.73197889e-04 3.65287066e-04 3.72409821e-04\n",
      "  4.40627337e-04 4.06682491e-04 3.98695469e-04 3.53574753e-04\n",
      "  4.54038382e-04 3.07440758e-04 4.63187695e-04 4.14937735e-04\n",
      "  3.75479460e-04 4.72545624e-04 3.79264355e-04 4.58568335e-04\n",
      "  3.29673290e-04 5.54382801e-04 2.83777714e-04 5.38051128e-04\n",
      "  2.42590904e-04 5.48869371e-04 4.37498093e-04 2.98678875e-04\n",
      "  3.65316868e-04 3.43203545e-04 6.03675842e-04 4.52011824e-04\n",
      "  3.54468822e-04 4.13954258e-04 3.61472368e-04 4.18126583e-04\n",
      "  4.76002693e-04 3.35246325e-04 7.53641129e-04 1.81823969e-04\n",
      "  4.30196524e-04 5.79535961e-04 4.30077314e-04 3.69220972e-04\n",
      "  5.32686710e-04 4.72545624e-04 3.90797853e-04 3.01420689e-04\n",
      "  5.06818295e-04 4.54008579e-04 4.18066978e-04 3.13192606e-04\n",
      "  6.05463982e-04 3.83198261e-04 4.17321920e-04 5.21689653e-04\n",
      "  3.22490931e-04 1.34706497e-04 5.58989741e-05 3.21209045e-05\n",
      "  2.75212224e-05 1.73003700e-05 3.20329236e-05 4.99959642e-05\n",
      "  1.65909529e-04 1.01142294e-04 5.22981245e-05 3.26249610e-05\n",
      "  3.61027269e-05 8.09266421e-05 3.80337238e-04 3.58730555e-04\n",
      "  2.89082527e-04 5.29646873e-04 2.41845846e-04 4.82082367e-04\n",
      "  2.14517117e-04 3.75479460e-04 4.13715839e-04 3.15725803e-04\n",
      "  4.50134277e-04 5.46216965e-04 4.93794680e-04 2.62796879e-04\n",
      "  1.48206949e-04 9.44380372e-05 9.76312440e-05 5.59475629e-05\n",
      "  5.04807249e-05 9.31555842e-05 1.20431287e-04 2.76774168e-04\n",
      "  2.84880400e-04 3.24159861e-04 3.32653522e-04 1.93417072e-04\n",
      "  8.37132757e-05 1.26212835e-04 2.77668238e-04 3.05712223e-04\n",
      "  4.07904387e-04 6.78777695e-04 4.15474176e-04 5.01751900e-04\n",
      "  2.41845846e-04 3.94493341e-04 3.75956297e-04 4.63575125e-04\n",
      "  8.14467669e-04 9.67621803e-04 1.65566802e-03 1.01247430e-03\n",
      "  1.21381879e-03 1.23643875e-03 1.44413114e-03 2.17035413e-03\n",
      "  2.65187025e-03 3.63141298e-03 7.91090727e-03 2.41350234e-02\n",
      "  2.74021626e-02 1.78633630e-02 9.62570310e-03 4.57927585e-03\n",
      "  2.48757005e-03 3.42857838e-03 4.61107492e-03 6.04546070e-03\n",
      "  3.03614140e-03 1.14440918e-03 4.71085310e-04 2.56359577e-04\n",
      "  2.61992216e-04 5.01751900e-04 2.94834375e-04 7.84158707e-04\n",
      "  1.55761838e-03 2.56675482e-03 2.53194571e-03 4.83939052e-03\n",
      "  9.24706459e-03 2.15679705e-02 3.40648592e-02 8.54122639e-02\n",
      "  1.28900886e-01 2.51131058e-01 5.22300124e-01 7.47753918e-01\n",
      "  6.59896910e-01 5.86961150e-01 2.26646245e-01 1.72382504e-01\n",
      "  1.34140253e-01 1.90147877e-01 4.82463539e-02 2.80388296e-02\n",
      "  1.07400119e-02 4.56160307e-03 1.30537152e-03 6.22451305e-04\n",
      "  5.32746315e-04 4.70131636e-04 5.38796186e-04 1.93566084e-03\n",
      "  4.85748053e-03 5.63615561e-03 7.36454129e-03 2.12818682e-02\n",
      "  4.34738696e-02 9.84279215e-02 2.45600581e-01 4.98298138e-01\n",
      "  8.20146203e-01 9.35163319e-01 9.76557970e-01 9.68727589e-01\n",
      "  9.54485178e-01 8.26750398e-01 6.99908018e-01 7.17579663e-01\n",
      "  7.87965178e-01 4.57685083e-01 2.11282462e-01 3.24586034e-02\n",
      "  1.51677430e-02 3.84464860e-03 1.86428428e-03 6.41733408e-04\n",
      "  4.56184149e-04 3.72588634e-04 1.82011724e-03 3.13103199e-03\n",
      "  4.42993641e-03 3.31255794e-03 5.61046600e-03 1.99959874e-02\n",
      "  5.93111515e-02 1.79355621e-01 4.75852162e-01 7.35852122e-01\n",
      "  9.16556358e-01 9.54752684e-01 9.42141652e-01 9.25170660e-01\n",
      "  8.60278785e-01 5.45145333e-01 3.15159976e-01 6.77375793e-01\n",
      "  8.48933816e-01 7.55562067e-01 3.79703939e-01 4.78748977e-02\n",
      "  9.68226790e-03 1.06579065e-03 1.52564049e-03 4.16785479e-04\n",
      "  4.42564487e-04 4.05848026e-04 1.45089626e-03 2.03031301e-03\n",
      "  1.57219172e-03 2.21627951e-03 9.67666507e-03 2.59391367e-02\n",
      "  4.08526957e-02 2.67403454e-01 6.17761552e-01 8.30719888e-01\n",
      "  7.58506179e-01 8.39108765e-01 6.13020957e-01 4.64617819e-01\n",
      "  2.09948659e-01 6.74676001e-02 1.65021926e-01 5.65216124e-01\n",
      "  8.22173357e-01 8.32530737e-01 2.42093354e-01 2.20772326e-02\n",
      "  3.59353423e-03 7.60376453e-04 9.64462757e-04 4.42534685e-04\n",
      "  6.73562288e-04 5.65975904e-04 8.86082649e-04 1.72987580e-03\n",
      "  2.03895569e-03 1.82357430e-03 3.02696228e-03 1.70693994e-02\n",
      "  9.21646655e-02 3.76931250e-01 4.30421859e-01 4.33832288e-01\n",
      "  4.14947808e-01 1.39450848e-01 1.16473317e-01 5.38437665e-02\n",
      "  2.72520185e-02 2.43252814e-02 1.46030843e-01 5.57129383e-01\n",
      "  6.34311259e-01 6.83729649e-01 1.02970451e-01 9.66265798e-03\n",
      "  1.48332119e-03 4.06652689e-04 8.17775726e-04 1.15168095e-03\n",
      "  4.86969948e-04 9.59843397e-04 1.41161680e-03 1.38995051e-03\n",
      "  1.10197067e-03 3.08811665e-03 4.56970930e-03 2.82205343e-02\n",
      "  2.11575538e-01 2.46114671e-01 2.79981971e-01 1.68215126e-01\n",
      "  1.13895386e-01 5.04875183e-02 4.29313481e-02 7.31402934e-02\n",
      "  1.02754623e-01 1.80344224e-01 5.85060239e-01 7.18058109e-01\n",
      "  5.51716566e-01 1.40186548e-01 1.64993405e-02 3.32495570e-03\n",
      "  6.02483749e-04 1.00290775e-03 1.00570917e-03 5.00977039e-04\n",
      "  5.03361225e-04 4.92900610e-04 1.40157342e-03 9.58353281e-04\n",
      "  2.54085660e-03 4.52560186e-03 1.06175244e-02 7.10478425e-02\n",
      "  1.57647341e-01 1.64965093e-01 1.12926692e-01 1.00035161e-01\n",
      "  1.15999490e-01 1.92342490e-01 2.51935035e-01 3.32965493e-01\n",
      "  5.58204889e-01 7.56799459e-01 6.79633915e-01 6.65933728e-01\n",
      "  1.84756458e-01 1.29860044e-02 1.02266669e-03 6.11156225e-04\n",
      "  5.71280718e-04 4.73946333e-04 4.58925962e-04 6.51240349e-04\n",
      "  3.24875116e-04 8.85754824e-04 1.30409002e-03 8.37504864e-04\n",
      "  1.87256932e-03 4.50420380e-03 1.25768483e-02 9.37543809e-02\n",
      "  1.40694529e-01 6.05193675e-02 8.36657286e-02 1.65108353e-01\n",
      "  3.98049146e-01 6.49741948e-01 7.63130069e-01 8.85583282e-01\n",
      "  8.28675747e-01 7.81174421e-01 6.79369569e-01 3.82373244e-01\n",
      "  3.85296047e-02 4.26608324e-03 5.22583723e-04 2.52842903e-04\n",
      "  2.49534845e-04 3.30656767e-04 4.44233418e-04 2.71886587e-04\n",
      "  3.85433435e-04 7.75933266e-04 9.84191895e-04 1.23539567e-03\n",
      "  1.53043866e-03 4.72000241e-03 7.84841180e-03 2.52691209e-02\n",
      "  3.50492299e-02 3.43944430e-02 5.89578152e-02 2.51575798e-01\n",
      "  7.07041144e-01 8.66342306e-01 8.15297365e-01 7.87400365e-01\n",
      "  9.19407129e-01 8.46199751e-01 6.49349570e-01 1.65239394e-01\n",
      "  1.20799243e-02 1.30516291e-03 1.92165375e-04 1.23649836e-04\n",
      "  8.45276954e-05 2.27540731e-04 6.83456659e-04 5.48511744e-04\n",
      "  4.22358513e-04 4.11152840e-04 5.86569309e-04 1.64440274e-03\n",
      "  1.81019306e-03 2.66736746e-03 3.51953506e-03 8.90284777e-03\n",
      "  6.16887212e-03 7.18674064e-03 3.96734476e-02 2.16034144e-01\n",
      "  5.85743904e-01 8.33244443e-01 8.86424303e-01 8.22198033e-01\n",
      "  8.83802414e-01 7.14509547e-01 4.43519711e-01 1.14725351e-01\n",
      "  8.72683525e-03 6.18487597e-04 1.18570846e-04 5.72438512e-05\n",
      "  7.04957929e-05 2.10314989e-04 3.65108252e-04 5.44130802e-04\n",
      "  6.32226467e-04 2.97844410e-04 5.17129898e-04 1.56968832e-03\n",
      "  5.21343946e-03 2.17214227e-03 2.35351920e-03 1.09985471e-03\n",
      "  8.18789005e-04 1.31589174e-03 5.64643741e-03 2.99149454e-02\n",
      "  1.45450920e-01 4.29673910e-01 4.11108971e-01 5.20658910e-01\n",
      "  3.39213639e-01 5.40917516e-01 3.06031406e-01 1.10013813e-01\n",
      "  3.42434645e-03 8.79049301e-04 1.67012215e-04 6.53339521e-05\n",
      "  6.01786451e-05 1.07911503e-04 3.90619040e-04 4.25696373e-04\n",
      "  3.14921141e-04 4.80383635e-04 1.17024779e-03 4.22209501e-03\n",
      "  8.80324841e-03 3.69688869e-03 1.44952536e-03 1.22666359e-03\n",
      "  2.68667936e-04 6.14643097e-04 1.85030699e-03 1.44492090e-02\n",
      "  3.66932154e-02 6.20355606e-02 9.78111923e-02 8.53554606e-02\n",
      "  1.50560856e-01 3.02226126e-01 3.21442187e-01 1.07207268e-01\n",
      "  7.96183944e-03 1.08659267e-03 2.45034695e-04 6.16646357e-05\n",
      "  5.48678436e-05 9.33810661e-05 5.66065311e-04 4.34309244e-04\n",
      "  2.51710415e-04 5.23775816e-04 1.35329366e-03 7.60868192e-03\n",
      "  3.30016911e-02 5.76254725e-03 5.35789132e-03 6.53833151e-04\n",
      "  1.40368938e-04 2.26229429e-04 1.03077292e-03 6.62076473e-03\n",
      "  1.91478431e-02 3.62965465e-02 1.98067129e-02 2.08475292e-02\n",
      "  7.07201958e-02 2.77676463e-01 2.75615931e-01 1.91739053e-01\n",
      "  1.04912519e-02 3.40220332e-03 3.65436077e-04 1.79797411e-04\n",
      "  7.31746768e-05 1.94460154e-04 7.74830580e-04 5.22702932e-04\n",
      "  3.35454941e-04 4.22090292e-04 2.61852145e-03 2.15744376e-02\n",
      "  1.91309720e-01 1.19020402e-01 1.19332969e-02 1.00854039e-03\n",
      "  1.40100718e-04 1.13378068e-04 2.83032656e-04 6.52110577e-03\n",
      "  1.45644248e-02 2.26454437e-02 8.05538893e-03 5.86542487e-03\n",
      "  6.29914403e-02 3.63924235e-01 3.95833224e-01 2.47170985e-01\n",
      "  2.53420472e-02 2.37458944e-03 4.84943390e-04 1.51216984e-04\n",
      "  1.56581402e-04 2.02059746e-04 4.47481871e-04 3.90738249e-04\n",
      "  3.15696001e-04 7.42942095e-04 6.61626458e-03 8.78067315e-02\n",
      "  4.55006748e-01 4.45515215e-01 6.42430782e-02 2.83658504e-03\n",
      "  3.33666801e-04 2.19404697e-04 1.33711100e-03 4.35176492e-03\n",
      "  1.07681155e-02 5.12570143e-03 3.49017978e-03 1.08406842e-02\n",
      "  1.14948392e-01 8.13205421e-01 7.73992062e-01 3.62379789e-01\n",
      "  2.30888128e-02 1.54134631e-03 5.15162945e-04 2.11954117e-04\n",
      "  2.13027000e-04 2.72661448e-04 8.84503126e-04 3.40849161e-04\n",
      "  3.64333391e-04 3.48478556e-04 1.28985643e-02 2.21121252e-01\n",
      "  8.08582902e-01 6.93349242e-01 4.25944984e-01 2.89060473e-02\n",
      "  2.78025866e-03 3.20720673e-03 5.70419431e-03 6.61733747e-03\n",
      "  2.03021765e-02 6.53725863e-03 1.26001239e-02 3.18864286e-02\n",
      "  4.92085576e-01 9.45720255e-01 8.44855547e-01 2.13178664e-01\n",
      "  2.62414813e-02 4.31272388e-03 1.02323294e-03 4.47213650e-04\n",
      "  5.82188368e-04 4.27544117e-04 9.72688198e-04 4.96566296e-04\n",
      "  3.44544649e-04 6.22630119e-04 9.82227921e-03 2.85076439e-01\n",
      "  7.39123583e-01 8.72268319e-01 7.11607456e-01 2.58434772e-01\n",
      "  3.88749540e-02 3.78302038e-02 3.70051265e-02 5.49812317e-02\n",
      "  5.78628182e-02 3.73545587e-02 1.18840605e-01 3.98176551e-01\n",
      "  9.57545400e-01 9.59960341e-01 8.08462501e-01 2.79245555e-01\n",
      "  1.70747042e-02 3.71497869e-03 2.24778056e-03 1.07568502e-03\n",
      "  9.80198383e-04 7.77751207e-04 4.56929207e-04 4.25547361e-04\n",
      "  3.58402729e-04 3.26573849e-04 4.52646613e-03 1.29081070e-01\n",
      "  6.02487385e-01 8.34991515e-01 9.45836902e-01 7.31132865e-01\n",
      "  7.42789447e-01 4.75345075e-01 2.51318693e-01 3.49490702e-01\n",
      "  4.71104264e-01 4.81864989e-01 6.14907265e-01 8.47128570e-01\n",
      "  9.44791436e-01 9.33274984e-01 6.42508507e-01 1.58608705e-01\n",
      "  3.03553641e-02 5.96076250e-03 2.50369310e-03 1.09773874e-03\n",
      "  1.05291605e-03 9.82701778e-04 5.02705574e-04 4.76449728e-04\n",
      "  3.98695469e-04 3.43203545e-04 1.20317936e-03 1.53166056e-02\n",
      "  1.07576817e-01 6.32616520e-01 9.15318429e-01 9.13938940e-01\n",
      "  9.16952372e-01 9.12697077e-01 9.14382815e-01 9.02679443e-01\n",
      "  8.27546716e-01 7.70807624e-01 6.30560219e-01 6.48987949e-01\n",
      "  7.94142485e-01 6.00634158e-01 3.88666153e-01 1.12790883e-01\n",
      "  2.76746452e-02 5.15678525e-03 2.18912959e-03 1.24496222e-03\n",
      "  1.47899985e-03 4.30017710e-04 5.36859035e-04 5.82873821e-04\n",
      "  6.70373440e-04 3.01390886e-04 6.16699457e-04 2.39080191e-03\n",
      "  2.77228057e-02 1.47054434e-01 6.32296860e-01 7.97926486e-01\n",
      "  8.40969086e-01 9.04138923e-01 7.52124548e-01 7.14130282e-01\n",
      "  6.37029409e-01 4.31452900e-01 1.90002769e-01 2.03018546e-01\n",
      "  1.53495461e-01 1.82584018e-01 1.76763862e-01 4.81810868e-02\n",
      "  1.07956529e-02 1.97428465e-03 1.28549337e-03 1.05142593e-03\n",
      "  3.99231911e-04 3.90440226e-04 3.27557325e-04 4.19110060e-04\n",
      "  2.80976295e-04 3.60816717e-04 4.37617302e-04 5.35011292e-04\n",
      "  1.22192502e-03 3.13761830e-03 9.59765911e-03 5.96825182e-02\n",
      "  2.86459327e-02 5.34937084e-02 2.50054002e-02 4.99944389e-02\n",
      "  3.46948504e-02 1.38644278e-02 3.94704938e-03 5.12117147e-03\n",
      "  1.23070180e-02 5.46266735e-02 2.15108991e-02 6.98557496e-03\n",
      "  2.10919976e-03 1.18133426e-03 7.74353743e-04 4.74661589e-04\n",
      "  4.42504883e-04 3.32623720e-04 2.20805407e-04 4.82052565e-04\n",
      "  3.46571207e-04 3.94761562e-04 4.58538532e-04 3.67224216e-04\n",
      "  6.32852316e-04 1.14366412e-03 1.14810467e-03 1.03661418e-03\n",
      "  3.93420458e-04 4.83959913e-04 5.85168600e-04 8.25345516e-04\n",
      "  6.31034374e-04 1.70767307e-04 1.93953514e-04 9.29534435e-04\n",
      "  2.25773454e-03 3.31681967e-03 4.54691052e-03 2.42391229e-03\n",
      "  1.54009461e-03 4.48703766e-04 5.11795282e-04 5.28156757e-04\n",
      "  3.92407179e-04 5.01006842e-04 4.31895256e-04 5.06758690e-04\n",
      "  3.53574753e-04 4.72456217e-04 3.79264355e-04 4.58568335e-04\n",
      "  4.14848328e-04 5.03003597e-04 5.57124615e-04 6.24507666e-04\n",
      "  7.29024410e-04 1.46672130e-03 8.93324614e-04 1.32530928e-03\n",
      "  4.63724136e-04 5.97536564e-04 8.50141048e-04 5.66482544e-04\n",
      "  1.26713514e-03 2.28968263e-03 9.71913338e-04 5.55694103e-04\n",
      "  3.32206488e-04 3.65614891e-04 4.26918268e-04 4.43398952e-04\n",
      "  5.77062368e-04 5.71370125e-04 4.77254391e-04 5.38051128e-04]], shape=(1, 784), dtype=float32)\n"
     ]
    }
   ],
   "source": [
    "hh0_p = tf.nn.sigmoid(tf.matmul(sample_case, W) + hb)\n",
    "hh0_s = tf.round(hh0_p)\n",
    "\n",
    "print(\"Probability nodes in hidden layer:\" ,hh0_p)\n",
    "print(\"activated nodes in hidden layer:\" ,hh0_s)\n",
    "\n",
    "# reconstruct\n",
    "vv1_p = tf.nn.sigmoid(tf.matmul(hh0_s, tf.transpose(W)) + vb)\n",
    "\n",
    "print(vv1_p)\n",
    "#rec_prob = sess.run(vv1_p, feed_dict={ hh0_s: hh0_s_val, W: prv_w, vb: prv_vb})"
   ]
  },
  {
   "cell_type": "markdown",
   "metadata": {},
   "source": [
    "Here we plot the reconstructed image:\n"
   ]
  },
  {
   "cell_type": "code",
   "execution_count": 26,
   "metadata": {},
   "outputs": [
    {
     "data": {
      "image/png": "[encoded data removed]",
      "text/plain": [
       "<Figure size 288x288 with 1 Axes>"
      ]
     },
     "metadata": {
      "needs_background": "light"
     },
     "output_type": "display_data"
    }
   ],
   "source": [
    "img = Image.fromarray(tile_raster_images(X=vv1_p.numpy(), img_shape=(28, 28),tile_shape=(1, 1), tile_spacing=(1, 1)))\n",
    "plt.rcParams['figure.figsize'] = (4.0, 4.0)\n",
    "imgplot = plt.imshow(img)\n",
    "imgplot.set_cmap('gray') "
   ]
  },
  {
   "cell_type": "markdown",
   "metadata": {},
   "source": [
    "<hr>\n",
    "\n",
    "## Want to learn more?\n",
    "\n",
    "Running deep learning programs usually needs a high performance platform. **PowerAI** speeds up deep learning and AI. Built on IBM’s Power Systems, **PowerAI** is a scalable software platform that accelerates deep learning and AI with blazing performance for individual users or enterprises. The **PowerAI** platform supports popular machine learning libraries and dependencies including TensorFlow, Caffe, Torch, and Theano. You can use [PowerAI on IMB Cloud](https://cocl.us/ML0120EN_PAI).\n",
    "\n",
    "Also, you can use **Watson Studio** to run these notebooks faster with bigger datasets.**Watson Studio** is IBM’s leading cloud solution for data scientists, built by data scientists. With Jupyter notebooks, RStudio, Apache Spark and popular libraries pre-packaged in the cloud, **Watson Studio** enables data scientists to collaborate on their projects without having to install anything. Join the fast-growing community of **Watson Studio** users today with a free account at [Watson Studio](https://cocl.us/ML0120EN_DSX).This is the end of this lesson. Thank you for reading this notebook, and good luck on your studies.\n"
   ]
  },
  {
   "cell_type": "markdown",
   "metadata": {},
   "source": [
    "### Thanks for completing this lesson!\n",
    "\n",
    "Notebook created by: <a href = \"https://ca.linkedin.com/in/saeedaghabozorgi\">Saeed Aghabozorgi</a>\n",
    "\n",
    "Updated to TF 2.X by  <a href=\"https://ca.linkedin.com/in/nilmeier\"> Jerome Nilmeier</a><br />\n"
   ]
  },
  {
   "cell_type": "markdown",
   "metadata": {},
   "source": [
    "### References:\n",
    "\n",
    "[https://en.wikipedia.org/wiki/Restricted_Boltzmann_machine](https://en.wikipedia.org/wiki/Restricted_Boltzmann_machine?cm_mmc=Email_Newsletter-_-Developer_Ed%2BTech-_-WW_WW-_-SkillsNetwork-Courses-IBMDeveloperSkillsNetwork-DL0120EN-SkillsNetwork-20629446&cm_mmca1=000026UJ&cm_mmca2=10006555&cm_mmca3=M12345678&cvosrc=email.Newsletter.M12345678&cvo_campaign=000026UJ)  \n",
    "[http://deeplearning.net/tutorial/rbm.html](http://deeplearning.net/tutorial/rbm.html?cm_mmc=Email_Newsletter-_-Developer_Ed%2BTech-_-WW_WW-_-SkillsNetwork-Courses-IBMDeveloperSkillsNetwork-DL0120EN-SkillsNetwork-20629446&cm_mmca1=000026UJ&cm_mmca2=10006555&cm_mmca3=M12345678&cvosrc=email.Newsletter.M12345678&cvo_campaign=000026UJ&cm_mmc=Email_Newsletter-_-Developer_Ed%2BTech-_-WW_WW-_-SkillsNetwork-Courses-IBMDeveloperSkillsNetwork-DL0120EN-SkillsNetwork-20629446&cm_mmca1=000026UJ&cm_mmca2=10006555&cm_mmca3=M12345678&cvosrc=email.Newsletter.M12345678&cvo_campaign=000026UJ)  \n",
    "[http://www.cs.utoronto.ca/~hinton/absps/netflixICML.pdf](http://www.cs.utoronto.ca/~hinton/absps/netflixICML.pdf?cm_mmc=Email_Newsletter-_-Developer_Ed%2BTech-_-WW_WW-_-SkillsNetwork-Courses-IBMDeveloperSkillsNetwork-DL0120EN-SkillsNetwork-20629446&cm_mmca1=000026UJ&cm_mmca2=10006555&cm_mmca3=M12345678&cvosrc=email.Newsletter.M12345678&cvo_campaign=000026UJ&cm_mmc=Email_Newsletter-_-Developer_Ed%2BTech-_-WW_WW-_-SkillsNetwork-Courses-IBMDeveloperSkillsNetwork-DL0120EN-SkillsNetwork-20629446&cm_mmca1=000026UJ&cm_mmca2=10006555&cm_mmca3=M12345678&cvosrc=email.Newsletter.M12345678&cvo_campaign=000026UJ)<br>\n",
    "<http://imonad.com/rbm/restricted-boltzmann-machine/>  \n"
   ]
  },
  {
   "cell_type": "markdown",
   "metadata": {},
   "source": [
    "<hr>\n",
    "\n",
    "Copyright © 2018 [Cognitive Class](https://cocl.us/DX0108EN_CC). This notebook and its source code are released under the terms of the [MIT License](https://bigdatauniversity.com/mit-license?cm_mmc=Email_Newsletter-_-Developer_Ed%2BTech-_-WW_WW-_-SkillsNetwork-Courses-IBMDeveloperSkillsNetwork-DL0120EN-SkillsNetwork-20629446&cm_mmca1=000026UJ&cm_mmca2=10006555&cm_mmca3=M12345678&cvosrc=email.Newsletter.M12345678&cvo_campaign=000026UJ&cm_mmc=Email_Newsletter-_-Developer_Ed%2BTech-_-WW_WW-_-SkillsNetwork-Courses-IBMDeveloperSkillsNetwork-DL0120EN-SkillsNetwork-20629446&cm_mmca1=000026UJ&cm_mmca2=10006555&cm_mmca3=M12345678&cvosrc=email.Newsletter.M12345678&cvo_campaign=000026UJ).\n"
   ]
  }
 ],
 "metadata": {
  "kernelspec": {
   "display_name": "Python 3",
   "language": "python",
   "name": "python3"
  },
  "language_info": {
   "codemirror_mode": {
    "name": "ipython",
    "version": 3
   },
   "file_extension": ".py",
   "mimetype": "text/x-python",
   "name": "python",
   "nbconvert_exporter": "python",
   "pygments_lexer": "ipython3",
   "version": "3.9.5"
  },
  "widgets": {
   "state": {},
   "version": "1.1.2"
  }
 },
 "nbformat": 4,
 "nbformat_minor": 4
}
